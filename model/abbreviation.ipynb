{
 "cells": [
  {
   "cell_type": "code",
   "execution_count": 5,
   "metadata": {},
   "outputs": [
    {
     "name": "stdout",
     "output_type": "stream",
     "text": [
      "'Sfsf, ABC': (['ABC'], 1)\n",
      "'Inc.': (['.'], 1)\n",
      "'Guter Titel': ([], 0)\n",
      "'etc.': (['.'], 1)\n",
      "'D.D.': (['.', '.'], 1)\n",
      "'Nicer Dicer': ([], 0)\n",
      "'Hello, world, world,': ([], 0)\n"
     ]
    }
   ],
   "source": [
    "import re\n",
    "\n",
    "def find_abbreviations_binary(text):\n",
    "    \"\"\"\n",
    "    Modified function to find abbreviations in a given text string, returning a binary score (0 or 1)\n",
    "    indicating the presence of abbreviations, excluding the company name if it appears at the beginning.\n",
    "    \n",
    "    Args:\n",
    "    text (str): The text string to analyze.\n",
    "    \n",
    "    Returns:\n",
    "    tuple: A tuple containing a list of abbreviations and a binary score (0 or 1).\n",
    "    \"\"\"\n",
    "    # Regular expression to match potential abbreviations\n",
    "    abbreviation_pattern = r'([A-Z]{3,}|[.])'\n",
    "\n",
    "    # Find all matches\n",
    "    potential_abbreviations = re.findall(abbreviation_pattern, text)\n",
    "\n",
    "\n",
    "    # Binary score: 1 if there are any abbreviations, 0 otherwise\n",
    "    score = 1 if potential_abbreviations else 0\n",
    "\n",
    "    return potential_abbreviations, score\n",
    "\n",
    "# Example usage\n",
    "\n",
    "\n",
    "# Test the function with various strings\n",
    "test_strings = [\n",
    "    \"Sfsf, ABC\",\n",
    "    \"Inc.\",\n",
    "    \"Guter Titel\",\n",
    "    \"etc.\",\n",
    "    \"D.D.\",\n",
    "    \"Nicer Dicer\",\n",
    "    \"Hello, world, world,\",\n",
    "]\n",
    "\n",
    "# Check each test string\n",
    "for s in test_strings:\n",
    "    print(f\"'{s}': {find_abbreviations_binary(s)}\")\n",
    "\n"
   ]
  }
 ],
 "metadata": {
  "kernelspec": {
   "display_name": "env",
   "language": "python",
   "name": "python3"
  },
  "language_info": {
   "codemirror_mode": {
    "name": "ipython",
    "version": 3
   },
   "file_extension": ".py",
   "mimetype": "text/x-python",
   "name": "python",
   "nbconvert_exporter": "python",
   "pygments_lexer": "ipython3",
   "version": "3.12.0"
  }
 },
 "nbformat": 4,
 "nbformat_minor": 2
}
