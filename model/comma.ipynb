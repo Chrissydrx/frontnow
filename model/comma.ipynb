{
 "cells": [
  {
   "cell_type": "code",
   "execution_count": 6,
   "metadata": {},
   "outputs": [
    {
     "name": "stdout",
     "output_type": "stream",
     "text": [
      "'Hello, world': True\n",
      "'Hello, world, ': False\n",
      "'Hello ,world': False\n",
      "'Hello world': False\n",
      "'Hello,world': False\n",
      "'Hello, world, world': True\n",
      "'Hello, world, world,': False\n"
     ]
    }
   ],
   "source": [
    "def check_commas(string):\n",
    "    \"\"\"\n",
    "    Checks if a string has at least one comma followed by a space,\n",
    "    and ensures the comma is not at the end of the string.\n",
    "    \"\"\"\n",
    "    # Split the string by commas\n",
    "    string = string.strip()\n",
    "    parts = string.split(',')\n",
    "\n",
    "    for i, letter in enumerate(string):\n",
    "        if letter == ',':\n",
    "            if string[i+1] != ' ':\n",
    "                return False\n",
    "            if string[-1] == ',':\n",
    "                return False\n",
    "            if string[0] == ',':\n",
    "                return False\n",
    "            return True\n",
    "    return False\n",
    "\n",
    "# Test the function with various strings\n",
    "test_strings = [\n",
    "    \"Hello, world\",\n",
    "    \"Hello, world, \",\n",
    "    \"Hello ,world\",\n",
    "    \"Hello world\",\n",
    "    \"Hello,world\",\n",
    "    \"Hello, world, world\",\n",
    "    \"Hello, world, world,\",\n",
    "    \",Hello, world, world\",\n",
    "]\n",
    "\n",
    "# Check each test string\n",
    "for s in test_strings:\n",
    "    print(f\"'{s}': {check_commas(s)}\")\n"
   ]
  }
 ],
 "metadata": {
  "kernelspec": {
   "display_name": "env",
   "language": "python",
   "name": "python3"
  },
  "language_info": {
   "codemirror_mode": {
    "name": "ipython",
    "version": 3
   },
   "file_extension": ".py",
   "mimetype": "text/x-python",
   "name": "python",
   "nbconvert_exporter": "python",
   "pygments_lexer": "ipython3",
   "version": "3.12.0"
  }
 },
 "nbformat": 4,
 "nbformat_minor": 2
}
