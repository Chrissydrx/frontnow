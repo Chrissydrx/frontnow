{
  "cells": [
    {
      "cell_type": "code",
      "execution_count": null,
      "metadata": {
        "id": "qk95204JX-c7"
      },
      "outputs": [],
      "source": [
        "# Copyright 2023 Google LLC\n",
        "#\n",
        "# Licensed under the Apache License, Version 2.0 (the \"License\");\n",
        "# you may not use this file except in compliance with the License.\n",
        "# You may obtain a copy of the License at\n",
        "#\n",
        "#     https://www.apache.org/licenses/LICENSE-2.0\n",
        "#\n",
        "# Unless required by applicable law or agreed to in writing, software\n",
        "# distributed under the License is distributed on an \"AS IS\" BASIS,\n",
        "# WITHOUT WARRANTIES OR CONDITIONS OF ANY KIND, either express or implied.\n",
        "# See the License for the specific language governing permissions and\n",
        "# limitations under the License."
      ]
    },
    {
      "cell_type": "markdown",
      "metadata": {
        "id": "hj20Ixwkd4jU"
      },
      "source": [
        "# Overview\n",
        "\n",
        "This notebook demonstrates how to enrich your data using Generative AI with Vertex AI on Google Cloud.\n",
        "\n",
        "The specific example is a retail use case for improving product description metadata. Better product descriptions lead to more user engagement and higher conversion rates.\n",
        "\n",
        "\n",
        "The workflow includes:\n",
        "* Importing the data\n",
        "* Analyzing the product metadata\n",
        "* Enriching the data with an LLM\n",
        "* Updating the data"
      ]
    },
    {
      "cell_type": "markdown",
      "metadata": {
        "id": "rSCowhwJopyI"
      },
      "source": [
        "# Getting Started"
      ]
    },
    {
      "cell_type": "code",
      "execution_count": 9,
      "metadata": {
        "id": "9rp8GGz-ongv"
      },
      "outputs": [
        {
          "name": "stdout",
          "output_type": "stream",
          "text": [
            "Requirement already satisfied: openai in ./env/lib/python3.11/site-packages (1.3.5)\n",
            "Requirement already satisfied: pandas in ./env/lib/python3.11/site-packages (2.1.3)\n",
            "Requirement already satisfied: python-dotenv in ./env/lib/python3.11/site-packages (1.0.0)\n",
            "Collecting matplotlib\n",
            "  Downloading matplotlib-3.8.2-cp311-cp311-macosx_11_0_arm64.whl.metadata (5.8 kB)\n",
            "Requirement already satisfied: numpy in ./env/lib/python3.11/site-packages (1.26.2)\n",
            "Collecting scipy\n",
            "  Downloading scipy-1.11.4-cp311-cp311-macosx_12_0_arm64.whl.metadata (165 kB)\n",
            "\u001b[2K     \u001b[38;2;114;156;31m━━━━━━━━━━━━━━━━━━━━━━━━━━━━━━━━━━━━━━━\u001b[0m \u001b[32m165.4/165.4 kB\u001b[0m \u001b[31m3.3 MB/s\u001b[0m eta \u001b[36m0:00:00\u001b[0m[31m3.7 MB/s\u001b[0m eta \u001b[36m0:00:01\u001b[0m\n",
            "\u001b[?25hRequirement already satisfied: anyio<4,>=3.5.0 in ./env/lib/python3.11/site-packages (from openai) (3.7.1)\n",
            "Requirement already satisfied: distro<2,>=1.7.0 in ./env/lib/python3.11/site-packages (from openai) (1.8.0)\n",
            "Requirement already satisfied: httpx<1,>=0.23.0 in ./env/lib/python3.11/site-packages (from openai) (0.25.2)\n",
            "Requirement already satisfied: pydantic<3,>=1.9.0 in ./env/lib/python3.11/site-packages (from openai) (2.5.2)\n",
            "Requirement already satisfied: tqdm>4 in ./env/lib/python3.11/site-packages (from openai) (4.66.1)\n",
            "Requirement already satisfied: typing-extensions<5,>=4.5 in ./env/lib/python3.11/site-packages (from openai) (4.8.0)\n",
            "Requirement already satisfied: python-dateutil>=2.8.2 in ./env/lib/python3.11/site-packages (from pandas) (2.8.2)\n",
            "Requirement already satisfied: pytz>=2020.1 in ./env/lib/python3.11/site-packages (from pandas) (2023.3.post1)\n",
            "Requirement already satisfied: tzdata>=2022.1 in ./env/lib/python3.11/site-packages (from pandas) (2023.3)\n",
            "Collecting contourpy>=1.0.1 (from matplotlib)\n",
            "  Downloading contourpy-1.2.0-cp311-cp311-macosx_11_0_arm64.whl.metadata (5.8 kB)\n",
            "Collecting cycler>=0.10 (from matplotlib)\n",
            "  Downloading cycler-0.12.1-py3-none-any.whl.metadata (3.8 kB)\n",
            "Collecting fonttools>=4.22.0 (from matplotlib)\n",
            "  Downloading fonttools-4.45.1-cp311-cp311-macosx_10_9_universal2.whl.metadata (155 kB)\n",
            "\u001b[2K     \u001b[38;2;114;156;31m━━━━━━━━━━━━━━━━━━━━━━━━━━━━━━━━━━━━━━━\u001b[0m \u001b[32m155.2/155.2 kB\u001b[0m \u001b[31m9.2 MB/s\u001b[0m eta \u001b[36m0:00:00\u001b[0m\n",
            "\u001b[?25hCollecting kiwisolver>=1.3.1 (from matplotlib)\n",
            "  Downloading kiwisolver-1.4.5-cp311-cp311-macosx_11_0_arm64.whl.metadata (6.4 kB)\n",
            "Requirement already satisfied: packaging>=20.0 in ./env/lib/python3.11/site-packages (from matplotlib) (23.2)\n",
            "Collecting pillow>=8 (from matplotlib)\n",
            "  Downloading Pillow-10.1.0-cp311-cp311-macosx_11_0_arm64.whl.metadata (9.5 kB)\n",
            "Collecting pyparsing>=2.3.1 (from matplotlib)\n",
            "  Downloading pyparsing-3.1.1-py3-none-any.whl.metadata (5.1 kB)\n",
            "Requirement already satisfied: idna>=2.8 in ./env/lib/python3.11/site-packages (from anyio<4,>=3.5.0->openai) (3.6)\n",
            "Requirement already satisfied: sniffio>=1.1 in ./env/lib/python3.11/site-packages (from anyio<4,>=3.5.0->openai) (1.3.0)\n",
            "Requirement already satisfied: certifi in ./env/lib/python3.11/site-packages (from httpx<1,>=0.23.0->openai) (2023.11.17)\n",
            "Requirement already satisfied: httpcore==1.* in ./env/lib/python3.11/site-packages (from httpx<1,>=0.23.0->openai) (1.0.2)\n",
            "Requirement already satisfied: h11<0.15,>=0.13 in ./env/lib/python3.11/site-packages (from httpcore==1.*->httpx<1,>=0.23.0->openai) (0.14.0)\n",
            "Requirement already satisfied: annotated-types>=0.4.0 in ./env/lib/python3.11/site-packages (from pydantic<3,>=1.9.0->openai) (0.6.0)\n",
            "Requirement already satisfied: pydantic-core==2.14.5 in ./env/lib/python3.11/site-packages (from pydantic<3,>=1.9.0->openai) (2.14.5)\n",
            "Requirement already satisfied: six>=1.5 in ./env/lib/python3.11/site-packages (from python-dateutil>=2.8.2->pandas) (1.16.0)\n",
            "Downloading matplotlib-3.8.2-cp311-cp311-macosx_11_0_arm64.whl (7.5 MB)\n",
            "\u001b[2K   \u001b[38;2;114;156;31m━━━━━━━━━━━━━━━━━━━━━━━━━━━━━━━━━━━━━━━━\u001b[0m \u001b[32m7.5/7.5 MB\u001b[0m \u001b[31m18.5 MB/s\u001b[0m eta \u001b[36m0:00:00\u001b[0m MB/s\u001b[0m eta \u001b[36m0:00:01\u001b[0m:01\u001b[0m\n",
            "\u001b[?25hDownloading scipy-1.11.4-cp311-cp311-macosx_12_0_arm64.whl (29.7 MB)\n",
            "\u001b[2K   \u001b[38;2;114;156;31m━━━━━━━━━━━━━━━━━━━━━━━━━━━━━━━━━━━━━━━━\u001b[0m \u001b[32m29.7/29.7 MB\u001b[0m \u001b[31m22.2 MB/s\u001b[0m eta \u001b[36m0:00:00\u001b[0mm eta \u001b[36m0:00:01\u001b[0m0:01\u001b[0m:01\u001b[0m\n",
            "\u001b[?25hDownloading contourpy-1.2.0-cp311-cp311-macosx_11_0_arm64.whl (243 kB)\n",
            "\u001b[2K   \u001b[38;2;114;156;31m━━━━━━━━━━━━━━━━━━━━━━━━━━━━━━━━━━━━━━━━\u001b[0m \u001b[32m243.4/243.4 kB\u001b[0m \u001b[31m12.9 MB/s\u001b[0m eta \u001b[36m0:00:00\u001b[0m\n",
            "\u001b[?25hDownloading cycler-0.12.1-py3-none-any.whl (8.3 kB)\n",
            "Downloading fonttools-4.45.1-cp311-cp311-macosx_10_9_universal2.whl (2.8 MB)\n",
            "\u001b[2K   \u001b[38;2;114;156;31m━━━━━━━━━━━━━━━━━━━━━━━━━━━━━━━━━━━━━━━━\u001b[0m \u001b[32m2.8/2.8 MB\u001b[0m \u001b[31m20.3 MB/s\u001b[0m eta \u001b[36m0:00:00\u001b[0m31m23.2 MB/s\u001b[0m eta \u001b[36m0:00:01\u001b[0m\n",
            "\u001b[?25hDownloading kiwisolver-1.4.5-cp311-cp311-macosx_11_0_arm64.whl (66 kB)\n",
            "\u001b[2K   \u001b[38;2;114;156;31m━━━━━━━━━━━━━━━━━━━━━━━━━━━━━━━━━━━━━━━━\u001b[0m \u001b[32m66.2/66.2 kB\u001b[0m \u001b[31m6.4 MB/s\u001b[0m eta \u001b[36m0:00:00\u001b[0m\n",
            "\u001b[?25hDownloading Pillow-10.1.0-cp311-cp311-macosx_11_0_arm64.whl (3.3 MB)\n",
            "\u001b[2K   \u001b[38;2;114;156;31m━━━━━━━━━━━━━━━━━━━━━━━━━━━━━━━━━━━━━━━━\u001b[0m \u001b[32m3.3/3.3 MB\u001b[0m \u001b[31m22.0 MB/s\u001b[0m eta \u001b[36m0:00:00\u001b[0m MB/s\u001b[0m eta \u001b[36m0:00:01\u001b[0m:01\u001b[0m\n",
            "\u001b[?25hDownloading pyparsing-3.1.1-py3-none-any.whl (103 kB)\n",
            "\u001b[2K   \u001b[38;2;114;156;31m━━━━━━━━━━━━━━━━━━━━━━━━━━━━━━━━━━━━━━━━\u001b[0m \u001b[32m103.1/103.1 kB\u001b[0m \u001b[31m8.9 MB/s\u001b[0m eta \u001b[36m0:00:00\u001b[0m\n",
            "\u001b[?25hInstalling collected packages: scipy, pyparsing, pillow, kiwisolver, fonttools, cycler, contourpy, matplotlib\n",
            "Successfully installed contourpy-1.2.0 cycler-0.12.1 fonttools-4.45.1 kiwisolver-1.4.5 matplotlib-3.8.2 pillow-10.1.0 pyparsing-3.1.1 scipy-1.11.4\n"
          ]
        }
      ],
      "source": [
        "# Install the Vertex AI SDK\n",
        "\n",
        "# This step currently includes an additional dependency, to avoid a conflict\n",
        "\n",
        "!pip install openai pandas python-dotenv matplotlib numpy scipy\n",
        "\n"
      ]
    },
    {
      "cell_type": "markdown",
      "metadata": {
        "id": "4Hp6xeaoosMB"
      },
      "source": [
        "**Restart** the runtime to use these package versions."
      ]
    },
    {
      "cell_type": "markdown",
      "metadata": {
        "id": "lgbvew1r5YJe"
      },
      "source": [
        "# Import data"
      ]
    },
    {
      "cell_type": "markdown",
      "metadata": {
        "id": "5s7gnElv5a9D"
      },
      "source": [
        "This notebook requires downloading the [Flipkart Products](https://www.kaggle.com/datasets/PromptCloudHQ/flipkart-products?resource=download) dataset from Kaggle.\n",
        "\n",
        "After downloading the data, upload the CSV file to the notebook using the Files feature of Colab."
      ]
    },
    {
      "cell_type": "code",
      "execution_count": 8,
      "metadata": {
        "id": "6qgo2oLp30Va"
      },
      "outputs": [
        {
          "data": {
            "text/html": [
              "<div>\n",
              "<style scoped>\n",
              "    .dataframe tbody tr th:only-of-type {\n",
              "        vertical-align: middle;\n",
              "    }\n",
              "\n",
              "    .dataframe tbody tr th {\n",
              "        vertical-align: top;\n",
              "    }\n",
              "\n",
              "    .dataframe thead th {\n",
              "        text-align: right;\n",
              "    }\n",
              "</style>\n",
              "<table border=\"1\" class=\"dataframe\">\n",
              "  <thead>\n",
              "    <tr style=\"text-align: right;\">\n",
              "      <th></th>\n",
              "      <th>id</th>\n",
              "      <th>GTIN</th>\n",
              "      <th>external_id</th>\n",
              "      <th>URL</th>\n",
              "      <th>Bild</th>\n",
              "      <th>Titel</th>\n",
              "      <th>Beschreibung</th>\n",
              "      <th>Eigenschaften</th>\n",
              "      <th>Marke</th>\n",
              "      <th>Kategorie</th>\n",
              "      <th>...</th>\n",
              "      <th>Anzahl Batterien</th>\n",
              "      <th>Batterien enthalten</th>\n",
              "      <th>Starthilfestrom in Ah</th>\n",
              "      <th>Schwierigkeitsgrad</th>\n",
              "      <th>Produktfarbe NF</th>\n",
              "      <th>Optik</th>\n",
              "      <th>Laub</th>\n",
              "      <th>Rosentyp</th>\n",
              "      <th>Züchter</th>\n",
              "      <th>Blueten</th>\n",
              "    </tr>\n",
              "  </thead>\n",
              "  <tbody>\n",
              "    <tr>\n",
              "      <th>0</th>\n",
              "      <td>39b782de-7aa7-4598-aafd-e6770a2eaaa0</td>\n",
              "      <td>5.761020e+13</td>\n",
              "      <td>6104950</td>\n",
              "      <td>https://www.jumbo.ch/maschinen-werkstatt/bekle...</td>\n",
              "      <td>https://www.jumbo.ch/img/products/402Wx268H/61...</td>\n",
              "      <td>. . . 3M™ Mehrweg-Halbmaske mit Wechselfiltern...</td>\n",
              "      <td>Effektiver Schutz: Die 3M™ Farbspritz-Mehrwegm...</td>\n",
              "      <td>Wiederverwendbare Atemschutzmaske für Farbspri...</td>\n",
              "      <td>3M</td>\n",
              "      <td>40603.0</td>\n",
              "      <td>...</td>\n",
              "      <td>NaN</td>\n",
              "      <td>NaN</td>\n",
              "      <td>NaN</td>\n",
              "      <td>NaN</td>\n",
              "      <td>NaN</td>\n",
              "      <td>NaN</td>\n",
              "      <td>NaN</td>\n",
              "      <td>NaN</td>\n",
              "      <td>NaN</td>\n",
              "      <td>NaN</td>\n",
              "    </tr>\n",
              "    <tr>\n",
              "      <th>1</th>\n",
              "      <td>68f8dd55-4c90-4f74-8547-78e34eb977ed</td>\n",
              "      <td>3.100350e+12</td>\n",
              "      <td>6336316</td>\n",
              "      <td>https://www.jumbo.ch/maschinen-werkstatt/besch...</td>\n",
              "      <td>https://www.jumbo.ch/img/products/402Wx268H/63...</td>\n",
              "      <td>. . . 3M™ Sliders Sp62N14, Möbelgleiter braun ...</td>\n",
              "      <td>Möbel mühelos verschieben, auch schwere Stücke...</td>\n",
              "      <td>Extra starker Klebstoff</td>\n",
              "      <td>3M</td>\n",
              "      <td>4050304.0</td>\n",
              "      <td>...</td>\n",
              "      <td>NaN</td>\n",
              "      <td>NaN</td>\n",
              "      <td>NaN</td>\n",
              "      <td>NaN</td>\n",
              "      <td>NaN</td>\n",
              "      <td>NaN</td>\n",
              "      <td>NaN</td>\n",
              "      <td>NaN</td>\n",
              "      <td>NaN</td>\n",
              "      <td>NaN</td>\n",
              "    </tr>\n",
              "    <tr>\n",
              "      <th>2</th>\n",
              "      <td>bb52940b-1f40-48f5-9413-db97a48b3187</td>\n",
              "      <td>8.423220e+12</td>\n",
              "      <td>6899264</td>\n",
              "      <td>https://www.jumbo.ch/maschinen-werkstatt/besch...</td>\n",
              "      <td>https://www.jumbo.ch/img/products/402Wx268H/68...</td>\n",
              "      <td>.Moebelknoepf Segelboot, 54X81 MM</td>\n",
              "      <td>NaN</td>\n",
              "      <td>NaN</td>\n",
              "      <td>NaN</td>\n",
              "      <td>4050110.0</td>\n",
              "      <td>...</td>\n",
              "      <td>NaN</td>\n",
              "      <td>NaN</td>\n",
              "      <td>NaN</td>\n",
              "      <td>NaN</td>\n",
              "      <td>NaN</td>\n",
              "      <td>NaN</td>\n",
              "      <td>NaN</td>\n",
              "      <td>NaN</td>\n",
              "      <td>NaN</td>\n",
              "      <td>NaN</td>\n",
              "    </tr>\n",
              "    <tr>\n",
              "      <th>3</th>\n",
              "      <td>ae10152f-39d0-428d-bcbe-86b5b637a29b</td>\n",
              "      <td>7.627540e+12</td>\n",
              "      <td>7100535</td>\n",
              "      <td>https://www.jumbo.ch/hobby-sport/autozubehoer/...</td>\n",
              "      <td>https://www.jumbo.ch/img/products/402Wx268H/71...</td>\n",
              "      <td>0ecoplan Auto-Scheibenreiniger 500Ml</td>\n",
              "      <td>NaN</td>\n",
              "      <td>NaN</td>\n",
              "      <td>Oecoplan</td>\n",
              "      <td>8070102.0</td>\n",
              "      <td>...</td>\n",
              "      <td>NaN</td>\n",
              "      <td>NaN</td>\n",
              "      <td>NaN</td>\n",
              "      <td>NaN</td>\n",
              "      <td>NaN</td>\n",
              "      <td>NaN</td>\n",
              "      <td>NaN</td>\n",
              "      <td>NaN</td>\n",
              "      <td>NaN</td>\n",
              "      <td>NaN</td>\n",
              "    </tr>\n",
              "    <tr>\n",
              "      <th>4</th>\n",
              "      <td>8364f617-ff56-4b79-88b9-4e4113c5db27</td>\n",
              "      <td>4.006890e+12</td>\n",
              "      <td>4813481</td>\n",
              "      <td>https://www.jumbo.ch/maschinen-werkstatt/werks...</td>\n",
              "      <td>https://www.jumbo.ch/img/products/402Wx268H/48...</td>\n",
              "      <td>1 Lochwand Step II</td>\n",
              "      <td>Praktische und einfache Aufbewahrung von Werkz...</td>\n",
              "      <td>Belastbar bis 50 kg.</td>\n",
              "      <td>Wolfcraft</td>\n",
              "      <td>4030201.0</td>\n",
              "      <td>...</td>\n",
              "      <td>NaN</td>\n",
              "      <td>NaN</td>\n",
              "      <td>NaN</td>\n",
              "      <td>NaN</td>\n",
              "      <td>NaN</td>\n",
              "      <td>NaN</td>\n",
              "      <td>NaN</td>\n",
              "      <td>NaN</td>\n",
              "      <td>NaN</td>\n",
              "      <td>NaN</td>\n",
              "    </tr>\n",
              "  </tbody>\n",
              "</table>\n",
              "<p>5 rows × 443 columns</p>\n",
              "</div>"
            ],
            "text/plain": [
              "                                     id          GTIN  external_id  \\\n",
              "0  39b782de-7aa7-4598-aafd-e6770a2eaaa0  5.761020e+13      6104950   \n",
              "1  68f8dd55-4c90-4f74-8547-78e34eb977ed  3.100350e+12      6336316   \n",
              "2  bb52940b-1f40-48f5-9413-db97a48b3187  8.423220e+12      6899264   \n",
              "3  ae10152f-39d0-428d-bcbe-86b5b637a29b  7.627540e+12      7100535   \n",
              "4  8364f617-ff56-4b79-88b9-4e4113c5db27  4.006890e+12      4813481   \n",
              "\n",
              "                                                 URL  \\\n",
              "0  https://www.jumbo.ch/maschinen-werkstatt/bekle...   \n",
              "1  https://www.jumbo.ch/maschinen-werkstatt/besch...   \n",
              "2  https://www.jumbo.ch/maschinen-werkstatt/besch...   \n",
              "3  https://www.jumbo.ch/hobby-sport/autozubehoer/...   \n",
              "4  https://www.jumbo.ch/maschinen-werkstatt/werks...   \n",
              "\n",
              "                                                Bild  \\\n",
              "0  https://www.jumbo.ch/img/products/402Wx268H/61...   \n",
              "1  https://www.jumbo.ch/img/products/402Wx268H/63...   \n",
              "2  https://www.jumbo.ch/img/products/402Wx268H/68...   \n",
              "3  https://www.jumbo.ch/img/products/402Wx268H/71...   \n",
              "4  https://www.jumbo.ch/img/products/402Wx268H/48...   \n",
              "\n",
              "                                               Titel  \\\n",
              "0  . . . 3M™ Mehrweg-Halbmaske mit Wechselfiltern...   \n",
              "1  . . . 3M™ Sliders Sp62N14, Möbelgleiter braun ...   \n",
              "2                  .Moebelknoepf Segelboot, 54X81 MM   \n",
              "3               0ecoplan Auto-Scheibenreiniger 500Ml   \n",
              "4                                 1 Lochwand Step II   \n",
              "\n",
              "                                        Beschreibung  \\\n",
              "0  Effektiver Schutz: Die 3M™ Farbspritz-Mehrwegm...   \n",
              "1  Möbel mühelos verschieben, auch schwere Stücke...   \n",
              "2                                                NaN   \n",
              "3                                                NaN   \n",
              "4  Praktische und einfache Aufbewahrung von Werkz...   \n",
              "\n",
              "                                       Eigenschaften      Marke  Kategorie  \\\n",
              "0  Wiederverwendbare Atemschutzmaske für Farbspri...         3M    40603.0   \n",
              "1                            Extra starker Klebstoff         3M  4050304.0   \n",
              "2                                                NaN        NaN  4050110.0   \n",
              "3                                                NaN   Oecoplan  8070102.0   \n",
              "4                               Belastbar bis 50 kg.  Wolfcraft  4030201.0   \n",
              "\n",
              "   ...  Anzahl Batterien Batterien enthalten Starthilfestrom in Ah  \\\n",
              "0  ...               NaN                 NaN                   NaN   \n",
              "1  ...               NaN                 NaN                   NaN   \n",
              "2  ...               NaN                 NaN                   NaN   \n",
              "3  ...               NaN                 NaN                   NaN   \n",
              "4  ...               NaN                 NaN                   NaN   \n",
              "\n",
              "  Schwierigkeitsgrad Produktfarbe NF Optik Laub Rosentyp Züchter Blueten  \n",
              "0                NaN             NaN   NaN  NaN      NaN     NaN     NaN  \n",
              "1                NaN             NaN   NaN  NaN      NaN     NaN     NaN  \n",
              "2                NaN             NaN   NaN  NaN      NaN     NaN     NaN  \n",
              "3                NaN             NaN   NaN  NaN      NaN     NaN     NaN  \n",
              "4                NaN             NaN   NaN  NaN      NaN     NaN     NaN  \n",
              "\n",
              "[5 rows x 443 columns]"
            ]
          },
          "execution_count": 8,
          "metadata": {},
          "output_type": "execute_result"
        }
      ],
      "source": [
        "import pandas as pd\n",
        "\n",
        "# Read the data from the CSV file\n",
        "df = pd.read_csv(\"raw_product_data.csv\", engine=\"python\")\n",
        "\n",
        "# Filter out blank rows\n",
        "df = df.dropna(how=\"all\")\n",
        "\n",
        "# Print the first five rows of the data\n",
        "df.head()"
      ]
    },
    {
      "cell_type": "markdown",
      "metadata": {
        "id": "uTmRVv_Zc7z5"
      },
      "source": [
        "# Data Analysis\n",
        "\n",
        "Let's now look at the product description field. To keep things simple, we'll use the length of the description as a proxy for data quality.\n",
        "\n",
        "We'll look for short descriptions, where it's likely that useful details are omitted."
      ]
    },
    {
      "cell_type": "code",
      "execution_count": 57,
      "metadata": {
        "id": "1nF1kOCy4OLF"
      },
      "outputs": [
        {
          "data": {
            "image/png": "[encoded data removed]",
            "text/plain": [
              "<Figure size 640x480 with 1 Axes>"
            ]
          },
          "metadata": {},
          "output_type": "display_data"
        }
      ],
      "source": [
        "import matplotlib.pyplot as plt\n",
        "import numpy as np\n",
        "from scipy.stats import gaussian_kde\n",
        "\n",
        "def get_num_chars_in_description(dataframe: pd.DataFrame) -> pd.Series:\n",
        "  # Get the number of characters in the description field\n",
        "  num_chars_in_description = dataframe[\"Beschreibung\"].str.len()\n",
        "\n",
        "  # Try converting the number of characters to numerics before plotting the distribution\n",
        "  try:\n",
        "    # If it is string type, remove all characters except numbers, \".\", \"+\" or \"-\".\n",
        "    if pd.api.types.is_string_dtype(num_chars_in_description):\n",
        "      num_chars_in_description = num_chars_in_description.str.replace(r\"[^\\d\\-+\\.]\", \"\")\n",
        "    num_chars_in_description = pd.to_numeric(num_chars_in_description)\n",
        "  except:\n",
        "    pass\n",
        "\n",
        "  # Drop the rows with NA values\n",
        "  num_chars_in_description = num_chars_in_description.dropna()\n",
        "\n",
        "  # Convert the number of characters to integers\n",
        "  num_chars_in_description = num_chars_in_description.astype(int)\n",
        "\n",
        "  return num_chars_in_description\n",
        "\n",
        "def plot_distribution(series: pd.Series) -> None:\n",
        "  # Create a kernel density estimate (KDE) object\n",
        "  kde = gaussian_kde(series)\n",
        "\n",
        "  # Evaluate the PDF at a range of points\n",
        "  x = np.linspace(0, max(series), 1000)\n",
        "  y = kde(x)\n",
        "\n",
        "  # Plot the smoothed distribution function\n",
        "\n",
        "  plt.plot(x, y)\n",
        "  plt.xlabel(\"Number of characters in description\")\n",
        "  plt.ylabel(\"Probability density\")\n",
        "  plt.title(\"Product Description Length KDE Plot\")\n",
        "  plt.show()\n",
        "\n",
        "num_chars_in_description = get_num_chars_in_description(df)\n",
        "plot_distribution(num_chars_in_description)"
      ]
    },
    {
      "cell_type": "markdown",
      "metadata": {
        "id": "caHZEyFq9gJs"
      },
      "source": [
        "Let's now set a threshold to improve the shortest 0.05% of our descriptions. We see that 93 characters should be that threshold, and there are 13 descriptions of that length or less."
      ]
    },
    {
      "cell_type": "code",
      "execution_count": 27,
      "metadata": {
        "id": "0Yre716JDXm2"
      },
      "outputs": [
        {
          "data": {
            "text/plain": [
              "84"
            ]
          },
          "execution_count": 27,
          "metadata": {},
          "output_type": "execute_result"
        }
      ],
      "source": [
        "threshold = int(num_chars_in_description.quantile(0.1))\n",
        "\n",
        "threshold"
      ]
    },
    {
      "cell_type": "code",
      "execution_count": 33,
      "metadata": {
        "id": "SgJnUXnj9COm"
      },
      "outputs": [
        {
          "name": "stdout",
          "output_type": "stream",
          "text": [
            "1954\n"
          ]
        }
      ],
      "source": [
        "def get_rows_under_threshold(series: pd.Series, threshold) -> pd.Series:\n",
        "  return num_chars_in_description.loc[series <= threshold]\n",
        "\n",
        "rows_with_description_under_threshold = get_rows_under_threshold(num_chars_in_description, 250)\n",
        "\n",
        "print(rows_with_description_under_threshold.shape[0])"
      ]
    },
    {
      "cell_type": "markdown",
      "metadata": {
        "id": "52Cf3r7pdBVN"
      },
      "source": [
        "# Data Transformation\n",
        "\n",
        "Next, let's collect the relevant details from each row with short descriptions. We'll put that into a JSON structure that we'll pass into the large language model."
      ]
    },
    {
      "cell_type": "code",
      "execution_count": 63,
      "metadata": {
        "id": "VY08ro3VCmLz"
      },
      "outputs": [
        {
          "name": "stdout",
          "output_type": "stream",
          "text": [
            "{'id': '39b782de-7aa7-4598-aafd-e6770a2eaaa0', 'GTIN': 57610200000000.0, 'external_id': 6104950, 'URL': 'https://www.jumbo.ch/maschinen-werkstatt/bekleidung-schutz/diverser-arbeitsschutz/---3m-mehrweg-halbmaske-mit-wechselfiltern-6002c-fuer-farbspritz-und-maschinenschleifarbeiten-schutzstufe-a2p2/p/6104950', 'Bild': 'https://www.jumbo.ch/img/products/402Wx268H/6104950_001.jpg?_=1660885612115', 'Titel': '. . . 3M™ Mehrweg-Halbmaske mit Wechselfiltern 6002C, für Farbspritz- und Maschinenschleifarbeiten, Schutzstufe A2P2', 'Beschreibung': 'Effektiver Schutz: Die 3M™ Farbspritz-Mehrwegmaske 6002C bietet einen effektiven Schutz gegen organische Gase und Dämpfe (Schutzstufe A2) sowie gegen Partikel (Schutzstufe P2).', 'Eigenschaften': 'Wiederverwendbare Atemschutzmaske für Farbspritzarbeiten, den Farbauftrag mit Pinsel und Roller sowie das Schleifen von Hand oder mit einem ExzenterschleiferDieses Produkt schützt vor bestimmten organischen Gasen und Dämpfen in Konzentrationen A2-Schutz vor organischen Gasen und Dämpfen beispielsweise von lösemittelhaltigen Farben, Klebstoffen und ReinigungsmittelnP2-Schutz vor mittleren Belastungen durch Feinstaub sowie vor Öl- oder WasserdämpfenWiederverwendbar mit austauschbaren Partikelfiltern bzw. Gas- und Dampf-Filterkartuschen oder KombinationskartuschenIm Vergleich zu Einzelfiltermasken verbesserte Atmungsaktivität und geringerer Atemwiderstand durch Doppel-Einatemventil und große FilterEinfacher Filterwechsel dank des Bajonett-Klick-Verschlusses, der das mühelose Einklicken einer Vielzahl von Filtern ermöglicht Einheitsgrösse.', 'Marke': '3M', 'Kategorie': 40603.0, 'Google Shopping Kategorie ID': 40603.0, 'Google Shopping Kategorie': 'Maschinen + Werkstatt > Bekleidung + Schutz > Diverser Arbeitsschutz', 'Gewicht in kg': '0.412 kg', 'Farbe': 'Grau', 'Norm': 'EN 140:1998, 6055: EN 14387:2004   A1:2008 A2, 5925: EN 143:2000 P2 R'}\n"
          ]
        }
      ],
      "source": [
        "import json\n",
        "\n",
        "# Create a JSON object for each row\n",
        "json_objects = []\n",
        "for index, row in df.loc[rows_with_description_under_threshold.index].iterrows():\n",
        "  dirty_dict = row.to_dict()\n",
        "  cleaned_dict = {key: value for key, value in dirty_dict.items() if value == value}\n",
        "  json_objects.append(cleaned_dict)\n",
        "\n"
      ]
    },
    {
      "cell_type": "markdown",
      "metadata": {
        "id": "7tkufA1e-MXV"
      },
      "source": [
        "We can now include this JSON array into a prompt to query the LLM with."
      ]
    },
    {
      "cell_type": "code",
      "execution_count": null,
      "metadata": {
        "id": "KEH2zIAWkCiV"
      },
      "outputs": [],
      "source": [
        "prompt = f\"\"\"\n",
        "Erstellen Sie eine überzeugende und genaue Produktbeschreibung für jedes der Produkte, die in der untenstehenden JSON-Datenstruktur bereitgestellt werden. Diese Beschreibung sollte in der Ausgabe enthalten sein.\n",
        "\n",
        "Die Ausgabe sollte ein JSON-Array sein, das nur aus den ursprünglichen id und den aktualisierten Beschreibung Feldern für jedes Produkt besteht.\n",
        "===\n",
        "{json}\n",
        "\"\"\"\n",
        "\n",
        "print(prompt)"
      ]
    },
    {
      "cell_type": "markdown",
      "metadata": {
        "id": "qkRWhaRJjdfV"
      },
      "source": [
        "# Query LLM"
      ]
    },
    {
      "cell_type": "markdown",
      "metadata": {
        "id": "YpAmBjhd-Z7U"
      },
      "source": [
        "In this step, we'll connect to a Vertex AI LLM with our prompt and return a result.\n",
        "\n",
        "First, let's define some project parameters:"
      ]
    },
    {
      "cell_type": "code",
      "execution_count": 133,
      "metadata": {
        "id": "GngwIaWD_u59"
      },
      "outputs": [
        {
          "name": "stdout",
          "output_type": "stream",
          "text": [
            "Processed 0 rows\n",
            "{'id': '39b782de-7aa7-4598-aafd-e6770a2eaaa0', 'enhanced_description': 'Die 3M™ Mehrweg-Halbmaske 6002C ist ein hochwertiger Atemschutz, der speziell für Farbspritz- und Maschinenschleifarbeiten entwickelt wurde. Mit einem ausgeklügelten Filtersystem schützt sie vor organischen Gasen und Dämpfen wie Lösungsmitteln, Farben, Klebstoffen und Reinigungsmitteln (Schutzstufe A2) sowie vor mittelschweren Partikelbelastungen durch Feinstaub und Nebel auf Öl- oder Wasserbasis (Schutzstufe P2). Die Maske ist wiederverwendbar und die Filter lassen sich einfach austauschen dank des Bajonett-Klick-Verschlusses. Eine verbesserte Atmungsfreiheit und ein geringerer Atemwiderstand werden durch das doppelte Einatemventil und große Filter erreicht. Die Einheitsgröße passt sich komfortabel den meisten Gesichtsformen an. Die Einhaltung der Normen EN 140:1998, 6055: EN 14387:2004 A1:2008 A2 und 5925: EN 143:2000 P2 R gewährleistet die Zuverlässigkeit und Sicherheit der Maske, die in der Farbe Grau mit einem Gewicht von 0,412 kg geliefert wird.'}\n",
            "{'id': '8364f617-ff56-4b79-88b9-4e4113c5db27', 'enhanced_description': \"Die '1 Lochwand Step II' von Wolfcraft ist eine robuste und funktionale Wandlösung für die übersichtliche Aufbewahrung von Werkzeugen. Gefertigt aus hochwertigen Stahl- und Aluminiumelementen, garantiert dieses System eine lange Haltbarkeit und Stabilität mit einer Belastbarkeit von bis zu 50 kg. Alle notwendigen Werkzeuge bleiben dank der vielseitigen Systemhaken stets griffbereit und geordnet. Die Lochwand ist in modernen Grau- und Silbertönen gehalten, passend zu jeder Werkstattumgebung. Mit den Maßen von 50 cm Höhe und 96 cm Breite bietet sie ausreichend Platz für eine Vielzahl von Werkzeugen, ohne dabei zu viel Raum einzunehmen. Das Gewicht von 5 kg unterstreicht die solide Konstruktion, während der Lieferumfang das gesamte erforderliche Befestigungsmaterial für eine einfache Wandmontage beinhaltet. Ideal für Profis und Heimwerker, die Wert auf Ordnung und schnellen Zugriff auf ihre Ausrüstung legen.\"}\n",
            "Processed 2 rows\n",
            "{'id': '4cdd336e-4ae8-460e-a1d4-eaae05917166', 'enhanced_description': 'Die 1 m Verlängerung für Konstantstrom von Paulmann ist die ideale Lösung, um Ihr LED-Leuchten-System flexibel und nach Ihren Wünschen zu erweitern. Diese hochwertige Kabelverlängerung ist kompatibel mit verschiedenen Konstantstrom-Quellen (350 mA, 700 mA, 1000 mA), was sie zu einem vielseitigen Zubehör für Ihre Beleuchtungsprojekte macht. Die einfache Montage, zusammen mit der praktischen Kabellänge, ermöglicht es Ihnen, die Positionierung Ihrer Spotlampen individuell anzupassen und somit Ihre Wohnräume optimal auszuleuchten. Die Kombination aus dünnem, aber robustem Kunststoffmaterial in rot-schwarzer Farbgebung sichert dabei eine diskrete Integration in jedes Interieur. Egal, ob Sie beleuchtete Akzente setzen oder eine gleichmäßige Helligkeit schaffen wollen, mit der dimmbaren Funktion dieser Kabelverlängerung ist auch für atmosphärische Stimmungen gesorgt. Im Lieferumfang enthalten ist die Kabelverlängerung selbst. Mit den kompakten Maßen und einem leichten Gewicht von nur 34 g lässt sich das Zubehör leicht handhaben und verstauen.'}\n",
            "{'id': '565f0efc-386d-4220-a08b-bfeff3d5d20f', 'enhanced_description': 'Die Ratschenzwinge FZR 60 von Wolfcraft ermöglicht präzises und schonendes Spannen von Werkstücken und bietet dank des robusten Ratschenmechanismus mit patentierter Entriegelungsmechanik bis zu doppelter Spannkraft im Vergleich zu Standard Federzwingen. Ideal für vielseitige Anwendungen in Hobby, Camping, Werkstatt, Garten und Haushalt. Mit einem Gewicht von lediglich 0.185 kg und einer Länge von 225 mm ist diese Zwinge leicht und handlich. Der Spannbereich beträgt 60 mm und sie kommt in einer Palette verschiedener Farben – Türkis, Grün, Schwarz, Grau, Blau und Anthrazit –, die die Werkbank beleben, während das Hauptmaterial Kunststoff für Langlebigkeit und Stabilität sorgt. Im Lieferumfang ist ein Stück enthalten, was sie sowohl für Einzelprojekte als auch als Ergänzung zu Ihrem Werkzeugarsenal zum Preis von 9.55 CHF perfekt macht.'}\n",
            "Processed 4 rows\n",
            "{'id': 'a4c43d88-42e6-45ef-b2ff-bb165a519e46', 'enhanced_description': 'Der 1-er Haken Xpressions von Everloc bietet eine praktische und elegante Lösung für Ihre Badezimmerorganisation. Dieser hochwertige Haken im Silberchrom-Finish ist aus einer robusten Kombination von Polycarbonat und Edelstahl gefertigt, um eine lange Lebensdauer und Widerstandfähigkeit zu garantieren. Sein einzigartiges Montagesystem erfordert keine Werkzeuge, keine Bohrung und hinterlässt keine Rückstände. Somit ist er perfekt für Mieter und diejenigen, die eine schnelle, einfache und beschädigungsfreie Installation schätzen. Innerhalb von Minuten montiert, ermöglicht der Haken ein wiederholtes Repositionieren, womit er sich optimal an wechselnde Anforderungen anpasst. Erhältlich für nur 5,25 CHF, fügt er funktionellen Glanz ohne Kompromisse bei Design oder Qualität hinzu.'}\n",
            "{'id': '3b5b699f-6245-405f-a294-950030c96035', 'enhanced_description': 'Whiskas 1+ Ragout Fischauswahl in Gelee bietet eine Vielfalt an Geschmacksrichtungen für Ihre Katze, verpackt in praktischen 85g Portionsbeuteln. Jedes Ragout ist reich an hochwertigen Proteinen aus Fisch und bietet eine ausgewogene Mahlzeit mit essentiellen Nährstoffen, die für die Gesundheit Ihrer Katze förderlich sind. Mit speziellen Zusätzen wie Zink für eine gesunde Haut und ausgewogenem Mineralgehalt zur Förderung gesunder Harnwege ausgestattet, ist dieses Nassfutter so konzipiert, dass es zu einem zufriedenen und gesunden Leben Ihrer Katze beiträgt. Die Packung enthält Variationen mit Lachs, Thunfisch, Weissfisch und Seelachs, jeweils in schmackhaftem Gelee, das Ihre Katze lieben wird. Die angegebene Fütterungsempfehlung bietet Orientierung, wie Sie Whiskas Nassnahrung am besten mit Trockennahrung kombinieren können, um das Wohlbefinden Ihrer Katze sicherzustellen. Ob als Alleinfutter oder in Kombination – dieses Nassfutter ist eine hervorragende Wahl für Ihre ausgewachsene Katze.'}\n",
            "Processed 6 rows\n",
            "{'id': '7635e08b-15c9-4ff2-9d2a-c1764ee1e3a3', 'enhanced_description': 'Erfahren Sie authentischen Geschmack mit den 100 % Hickory Pellets von Broil King, dem unverzichtbaren Grillutensil für kulinarische Erlebnisse im Freien. Erzeugen Sie das ikonische, kräftige Raucharoma, das an Speck oder Rauchschinken erinnert, und verleihen Sie Ihrem Grillgut, sei es Rind, Geflügel, Schwein oder Gemüse, eine neue Dimension des Geschmacks. Perfekt für die Zubereitung von großen Stücken, sorgen diese Pellets für ein Gourmet-Erlebnis in Ihrem Garten. Entdecken Sie weitere Details und kaufen Sie jetzt unter: https://www.jumbo.ch/garteneinrichtung-grill/grillzubehoer/grillutensilien/100--hickory-pellets/p/6590759.'}\n",
            "{'id': '21f51c2b-48b7-4a44-8075-939139fff5d9', 'enhanced_description': 'Das 11kg Gasflaschen Kit aus der Davos Series von Outdoorchef vereint Funktionalität mit Robustheit. Mit seiner pulverbeschichteten Stahlabdeckung bietet es nicht nur Schutz für Ihre Gasflasche, sondern verleiht auch eine ansprechende Ästhetik. Der integrierte Fixierbügel sorgt dafür, dass die Gasflasche sicher und fest positioniert bleibt, während das Schutzpad darunter Ihren Untergrund vor Kratzern bewahrt. In klassischem Schwarz gehalten, verschmilzt dieses Kit nahtlos mit Ihrer Grillumgebung. Mit Abmessungen von 14,4x50x39,5 cm und einem leichten Gewicht von nur 0,3 kg, ist es sowohl leicht zu handhaben als auch stabil genug für den Außeneinsatz.'}\n",
            "Processed 8 rows\n",
            "{'id': 'd67f0941-3c0a-433f-b6fc-2ea5ceec7bd2', 'enhanced_description': 'Der 149cc Benzin-Vibrationsstampfer von ayce ist ein kraftvolles Werkzeug für professionelle Verdichtungsarbeiten. Ausgestattet mit einem leistungsstarken 149cc 4-Takt-Benzinmotor von Loncin, bietet dieser Stampfer mit seinen 5 PS (3,2 kW) eine effiziente und zuverlässige Arbeitsweise. Die Größe des Rammschuhs beträgt 355mm x 280mm, was eine breite Oberfläche für die Bodenverdichtung garantiert. Der Stampfer liefert zwischen 660 und 700 Schläge pro Minute mit einer beeindruckenden Schlagkraft von 18500 N und einem Schlagplattenhub von 60mm bis 70mm, was zu einer Verdichtungstiefe von 400mm bis 600mm führt. Mit seiner Fahrgeschwindigkeit von 11 bis 14 m/min ermöglicht das Gerät eine schnelle und effiziente Verdichtung, ideal für Bauunternehmen und Landschaftsbauer. Mit einem Gewicht von 78 kg ist der Stampfer stabil und einfach zu handhaben, während die integrierten Räder für einen einfachen Transport sorgen. Sein Rückstoßstarter und die ausgewogene Gewichtsverteilung sorgen sowohl für hohe Zuverlässigkeit als auch für ein hervorragendes Handling und Fahrverhalten. Entworfen für ein breites Einsatzspektrum, ist dieser Vibrationsstampfer die ideale Lösung für alle, die ein robustes und effizientes Werkzeug für ihre Verdichtungsarbeiten suchen.'}\n",
            "{'id': '50547282-9c37-4c50-a059-f65a5c5a4535', 'enhanced_description': 'Das 1652 GW THE Best Maßband ist ein präzises und robustes Werkzeug für Messaufgaben aller Art. Durch die spezielle Konstruktion mit Kunststoffgliedern, die durch längsgerichtete Glasfasern verstärkt sind, bietet es herausragende Steifigkeit und Stabilität bei horizontalen und vertikalen Messungen. Auch bei voller Entfaltung behält der Maßstab seine Form, was für präzise Ergebnisse ohne Durchbiegung sorgt. Die hochwertigen Materialien machen das Band kratzfest, wetterbeständig und sogar waschbar. Die Bruchsicherheit und die Langlebigkeit des Maßbands garantieren eine zuverlässige Verwendung über lange Zeiträume. Mit einer Länge von 2 Metern bietet es ausreichend Maß für die meisten Messaufgaben im Bau- und Handwerksbereich. Alles in allem ist das 1652 GW THE Best Maßband ein exzellenter Begleiter für Profis, die Wert auf Präzision legen.'}\n",
            "Processed 10 rows\n",
            "{'id': 'd1d3346b-0e38-408d-9893-b0a73d751cad', 'enhanced_description': 'Die Ryobi 18V Akku-Stableuchte R18Alf-0 ist eine hochwertige, multifunktionale Arbeitsleuchte, perfekt für Heimwerker- und Profiprojekte. Dieses Modell zeichnet sich durch sein klappbares Design aus, das eine optimale Ausleuchtung ermöglicht. Mit dem variablen Gelenk lässt sich die Beleuchtungsrichtung individuell anpassen, um die beste Lichtstreuung über die komplette Arbeitsfläche zu gewährleisten. 20 leistungsstarke LEDs liefern eine beeindruckende Helligkeit von 850 Lumen, und dank integrierter Aufhängungsoptionen kann die Lampe freihändig genutzt werden. Die Lampe ist auf Sicherheit und Stabilität ausgelegt, wenn sie auf dem Akku steht. Sie ist zudem mit allen Ryobi 18V ONE+ Akkus kompatibel, was sie zu einem äußerst vielseitigen Zubehör für die vielfältige Ryobi 18V Werkzeugsammlung macht. Die grüne Farbe fügt sich nahtlos in das Ryobi Design ein und macht die Leuchte zu einem stylischen wie praktischen Zusatz für jede Werkstatt.'}\n",
            "{'id': '35ac576e-0e67-4bd3-8d3a-fdd646fc7f0d', 'enhanced_description': \"Das Ryobi 18 V One+ Akku-Schnellladegerät Rc18120 ist ein unverzichtbares Werkzeug für alle Ihre Ryobi Geräte. Dieses kompakte Schnellladegerät mit einer Stromstärke von 2.0 A ermöglicht es, Ihre Akkus effizient zu laden: Ein 2.0 Ah Akku ist in nur 60 Minuten vollständig aufgeladen, während ein 4.0 Ah Akku eine Ladezeit von 120 Minuten hat. Das Ladegerät ist mit allen Ryobi 18 V One+ Akkus kompatibel und bietet intelligente Funktionalitäten wie Spannungs- und Temperaturüberwachung während des Ladevorgangs, um die Langlebigkeit Ihrer Akkus zu sichern. Darüber hinaus informieren Sie Kontrollleuchten über den aktuellen Ladezustand und ein 'Ready to go' Indikator zeigt an, wenn der Akku zu 80% geladen ist. Beachten Sie, dass im Lieferumfang das Schnellladegerät enthalten ist, jedoch ohne Akku.\"}\n",
            "Processed 12 rows\n",
            "{'id': '9089c7e9-6ffb-4169-bc0f-6fac7b44d491', 'enhanced_description': 'Verleihen Sie Ihrer Treppe oder Ihrem Balkon mit dem Set aus zwei Handlaufkonsolen aus Fichte einen Hauch von Natürlichkeit und Stabilität. Diese hochwertigen Handlaufkonsolen bestehen aus robustem Eisen in klassischem Schwarz und sind mit einer verstellbaren Rosette aus Fichtenholz versehen, die nicht nur optisch ansprechend ist, sondern auch eine einfache Montage ermöglicht. Geeignet für Holzhandläufe, bringt dieses Set aus der Marke Dieda eine Kombination aus Funktionalität und ästhetischer Wärme in Ihr Zuhause. Mit einem Gewicht von nur 0,282 kg pro Klammer und einem Durchmesser von 52 mm ist das Befestigungsmaterial bereits im Lieferumfang enthalten, sodass Sie direkt mit der Installation beginnen können. Die nachhaltige Holzart Fichte, bezogen aus Europa und Deutschland, stellt eine umweltbewusste Wahl dar und unterstreicht die Natürlichkeit Ihres Interieurs.'}\n",
            "{'id': '4eeca026-3e84-4f61-8f03-2b722d0827f1', 'enhanced_description': 'Entdecken Sie die Vielseitigkeit der 2 Kantenspanner von Wolfcraft, einem unentbehrlichen Zusatzprodukt für Heimwerker und Profis gleichermaßen. Diese cleveren Helfer erweitern die Einsatzmöglichkeiten Ihrer Schienenzwingen optimal. Sie sind kompatibel mit Einhandzwingen oder Schraubzwingen mit einer Schiene von maximal 8 x 30 mm Dimension. Ideal, um Anleimer oder Umleimer zu fixieren oder für punktgenaues Spannen auf Flächen, beispielsweise am Profil einer Schranktür. Die Kantenspanner bestechen durch eine maximale Spannkraft von 30 kg und ermöglichen eine Spannweite von bis zu 24 mm. Im Lieferumfang sind 2 Stück dieser praktischen Spanner enthalten. Hergestellt aus einer robusten Kombination aus Stahl und Kunststoff, bieten die Kantenspanner Langlebigkeit und Zuverlässigkeit. Das Gewicht beträgt nur 131 Gramm bei einer Länge von 100 mm, was sie zu einem leichten, doch stabilen Werkzeug in Ihrer Werkstatt macht. In klassischem Grau mit Akzenten in Schwarz, Grün, Türkis, Anthrazit und Blau lieferbar, fügen sich die Spanner nahtlos in Ihr Werkzeugsortiment ein.'}\n",
            "Processed 14 rows\n",
            "{'id': '12b3ffff-4ad3-4e6e-9d8e-59dae1481cd9', 'enhanced_description': 'Das 2-er Hakenset Xpressions von Everloc ist die perfekte Ergänzung für jedes Badezimmer und bietet eine bequeme Lösung zur Aufbewahrung Ihrer Badaccessoires. Aus hochwertigem Edelstahl und Polycarbonat in Silberchrom-Optik gefertigt, kombiniert dieses Set Langlebigkeit mit Eleganz. Die Haken bieten dank der innovativen Befestigungstechnologie einen starken Halt ohne Bohren und hinterlassen bei der Entfernung keine Spuren - ideal für eine flexible Handhabung und wiederholtes Umpositionieren. Bei Abmessungen von 5 cm Länge, 13,5 cm Höhe und 20 cm Breite bietet das Set eine kompakte und dennoch geräumige Anbringungsmöglichkeit. Erhältlich zum Verkaufspreis von 10,60 CHF, ist dieses Hakenset nicht nur praktisch, sondern auch eine ästhetische Aufwertung für Ihre Badezimmereinrichtung.'}\n",
            "{'id': '3bb40d0d-9f18-4e57-bc0a-fa4fa32b93ab', 'enhanced_description': \"Hochwertiges 2-Takt-Öl in einer 0,1-Liter-Flasche von Universal, ideal für die Schmierung von Gartenmaschinen. Dieses Premium-Öl sorgt für hohe Motorleistung und minimiert gleichzeitig die Rauchentwicklung. Entwickelt, um die Lebensdauer Ihrer Geräte zu verlängern und eine optimale Funktionalität zu gewährleisten. Geeignet für eine Vielzahl von Geräten, wie in der Liste 'Passt zu' aufgeführt. Einfach zu verwenden mit genauer Dosierung, um Ihren Gartenmaschinen zuverlässigen Schutz zu bieten.\"}\n",
            "Processed 16 rows\n",
            "{'id': 'b3180b33-e4e9-4553-b221-e40255aeced4', 'enhanced_description': 'Dieses hochwertige 2-Takt-Öl LS bietet mit seinem 1-Liter-Inhalt eine optimale Schmierlösung für diverse Gartenmaschinen. Es zeichnet sich durch eine hohe Leistungsfähigkeit aus und trägt gleichzeitig zu einer verringerten Rauchentwicklung bei, was es zu einer umweltfreundlichen Wahl für den Betrieb von Kettensägen, Laubbläsern und anderen 2-Takt-Motoren macht. Die universelle Formulierung ist mit einer Vielfalt von Geräten kompatibel, wie die aufgeführten Modelnummern bezeugen, und garantiert eine lange Lebensdauer und Zuververlässigkeit Ihrer Gartenmaschinen. Entdecken Sie dieses unverzichtbare Produkt jetzt unter der angegebenen URL und verbessern Sie die Leistung Ihrer Geräte mit dem Premium 2-Takt-Öl von Universal.'}\n",
            "{'id': '23566ad1-0a98-46ef-aaea-ae3bcee849c4', 'enhanced_description': \"Das 20 g/m² weiche Seidenpapier von FOLIA überzeugt durch seine vielseitige Einsetzbarkeit zum Basteln und Verpacken von Geschenken. In bunten Farben sortiert, bietet es eine exzellente Wahl für kreative Projekte und Dekorationen. Hergestellt aus Recyclingfasern zeigt es umweltbewusstes Handeln. Mit seinem Ursprung in den Wäldern Kanadas verspricht dieses Seidenpapier eine nachhaltige Wahl für Bastelliebhaber zu sein. Erhältlich unter der Kategorie 'Bastelshop > Papiergestaltung > Basics > Japanseide + Blumenseide', vereint dieses Produkt Qualität mit Funktionalität und ökologischem Bewusstsein.\"}\n",
            "Processed 18 rows\n",
            "{'id': 'd3133f9a-aeaf-47c0-b30d-285f0ab446c8', 'enhanced_description': \"Dieser '20 Long Distance Dart Refill Pack' ist das ideale Zubehör für Dart-Blaster-Liebhaber. Kompatibel mit verschiedenen führenden Marken, ermöglicht dieses Nachfüllpack mit 20 hochwertigen Weitwurfpfeilen aus strapazierfähigem Kunststoff spannende Duelle und lang anhaltenden Spielspaß. Die Pfeile sind in einem auffälligen Design mit den Farben Blau und Gelb gestaltet, was sie auch auf Distanz leicht auffindbar macht. Aufgrund von Kleinteilen ist das Produkt allerdings nicht für Kinder unter 3 Jahren geeignet. Sicherheitshinweise weisen auf eine potenzielle Erstickungsgefahr hin. Mit dem Kauf dieses Nachfüllpacks sind Sie bereit für jede Action, die auf Sie wartet. Bitte beachten Sie die Sicherheitshinweise und die Angaben für die entsprechende Altersklasse von 3 Jahren und darüber.\"}\n",
            "{'id': '65a36631-09d9-42bb-8398-5c32a7a630b3', 'enhanced_description': 'Das 20-er Schleifpapier Set von kwb richtet sich an alle Heimwerker und Handwerksprofis, die Wert auf feine Ergebnisse bei der Bearbeitung von Holz und Metall legen. Mit Abmessungen von 230 x 280 mm sind diese Schleifblätter ideal dimensioniert für häufige Schleifarbeiten. Das Schleifmittel aus hochwertigem Korund sorgt für eine effiziente Oberflächenbearbeitung und ist mit Aluminiumoxyd bestreut, das eine hohe Abtragsleistung bei der Entfernung von Rost, Lack und Spachtel garantiert. Dieses Set bietet eine praktische Sortierung unterschiedlicher Körnungen (60, 80, 150, 180), die eine flexible Anwendung von Grobschliff bis hin zu feineren Schliffen ermöglicht. Insgesamt erhalten die Nutzer 20 Bogen, aufgeteilt in vier Körnungsgruppen mit jeweils fünf Blättern, womit sich das Set als umfassende Lösung für vielseitige Schleifprojekte präsentiert.'}\n",
            "Processed 20 rows\n",
            "{'id': '3c40cbc2-31ac-4a62-b141-dcd9af9eaea4', 'enhanced_description': 'Die 20L Portable Toilet von Campingaz – ein unverzichtbares Zubehör für alle Outdoor-Enthusiasten. Diese Chemietoilette vereint Komfort und Praktikabilität, perfekt für Camping, Bootfahren oder Reisen. Ausgestattet mit einem 16 L Wassertank und einem 20 L Abwassertank bietet sie ausreichend Kapazität für mehrere Nutzungen. Hergestellt aus robusten Materialien wie Polypropylen, Polyethylen, ABS und Edelstahl, gewährleistet sie Langlebigkeit und einfache Reinigung. Mit einem Gewicht von nur 5,2 kg und den Maßen 38 x 57 x 44 cm ist die Toilette leicht zu transportieren. Das durchdachte Design und das umfangreiche Zubehör garantiert eine hygienische Bedienung, wo auch immer Sie sich befinden.'}\n",
            "{'id': 'b58c68a1-4fb0-4e56-8364-88421eef9f05', 'enhanced_description': 'Das 2200-Watt-Elektrogebläse von GO ON ist Ihr idealer Helfer für Gartenarbeiten. Ausgestattet mit einem zusätzlichen Handgriff ermöglicht es eine komfortable Bedienung in jeder Arbeitsposition. Ein leistungsstarker Motor verspricht einen hohen Volumendurchsatz und effektives Arbeiten. Das Gerät bietet ein herausragendes Zerkleinerungsverhältnis von 10:1, wodurch Gartenabfälle effizient verkleinert werden können. Das Umschalten zwischen Blasen und Saugen geht dank des praktischen Knaufrad schnell und einfach. Neben der Zweifach-Funktion (Blasen, Saugen) verfügt es über eine robuste Häckselfunktion. Im Lieferumfang sind ein 40 Liter Fangsack sowie ein Reservefangsack inbegriffen. Mit einer beeindruckenden Blasgeschwindigkeit von 270 km/h und dem integrierten Stützrad ist dieses grüne Elektrowerkzeug ein Kraftpaket für Ihren Garten. Die Kabellänge beträgt 0,47 m und der Geräuschpegel liegt bei 102 dB, was eine gewisse Lärmentwicklung beim Arbeiten bedeutet.'}\n",
            "Processed 22 rows\n",
            "{'id': 'b36f6811-5586-4420-9c05-01f8a53bebbd', 'enhanced_description': 'Die Gala 24er-Flatpack Lichte mit einer Brenndauer von 6 Stunden sind die perfekte Wahl, um Ihr Zuhause oder Event mit einem warmen, einladenden Schein zu erhellen. Ob in einem romantischen Dinner-Setting, einer festlichen Tischdekoration oder einfach zur Entspannung, diese Teelichte in der praktischen und ästhetischen transparenten PC-Hülle bringen ohne Zweifel die richtige Stimmung. Nicht nur praktisch verpackt, sondern auch qualitativ hochwertig, garantieren diese Teelichte eine gleichmäßige und rußarme Verbrennung. Entdecken Sie die einfache Art, Gemütlichkeit und Eleganz zu kombinieren, mit den Gala Teelichten zum Ausdruck von Stil und Feierlichkeit.'}\n",
            "{'id': '8e8f8976-410f-45e0-9ce1-7ebd1b36f6ea', 'enhanced_description': 'Entdecken Sie das 26-teilige Schrauberbit- und Ratschen-Set von Bosch Grau, Ihre ideale Wahl für vielseitige und präzise Montageaufgaben. Hergestellt aus hochwertigen Materialien, wurde jedes Element sorgsam ausgewählt, um Langlebigkeit und optimierte Performance zu gewährleisten. Ob zu Hause, in der Werkstatt oder bei beruflichen Projekten, dieses Set deckt alle gängigen Anwendungen ab und bietet eine komfortable Lösung für verschiedenste Schraubarbeiten. Mit farbcodierten Schrauberbits für schnelle Identifikation und Steckschlüssel in den häufig benötigten Größen, bietet dieses Profi-Set alles, was Heimwerker und Fachpersonal für effiziente und ergebnisorientierte Arbeit benötigen. Die hochwertige Ratsche garantiert dabei eine einfache Handhabung und zuverlässige Kraftübertragung. Befreien Sie sich von der Unordnung vieler Einzelwerkzeuge und wählen Sie dieses kompakte Set für all Ihre Schraubanforderungen.'}\n",
            "Processed 24 rows\n",
            "{'id': 'e9458616-bc98-4e30-95f0-8ef632e28c0f', 'enhanced_description': 'Das 2in1 Infrarot-Thermometer mit Einstechfühler ist ein erstklassiges Messinstrument, das präzise sowohl die Oberflächentemperatur als auch die Kerntemperatur von Objekten misst. Perfekt ausgestattet für den professionellen und privaten Gebrauch, verfügt dieses digitale Thermometer über einen großen Messbereich von -40°C bis 280°C beim Infrarotmessverfahren und -40°C bis 230°C beim Einstechverfahren. Der robuste, einklappbare Edelstahlfühler und die IP65 Zertifizierung gewährleisten eine langlebige Nutzung auch unter harschen Bedingungen. Die Max.-Min.-Funktion erlaubt es, Temperaturschwankungen im Blick zu behalten, während das 4:1 Distanz-zu-Spot Verhältnis zielgenaue Messungen verspricht. Das handliche Maß von 140 x 38 x 24 mm macht das Thermometer zu einem kompakten Begleiter. Die Lieferung beinhaltet zudem eine Batterie, sodass Sie direkt mit den Messungen starten können. Mit seiner eleganten weißen Farbe und der digitalen Anzeige, die eine intuitive Bedienung ermöglicht, kombiniert dieses Gerät Funktionalität mit modernem Design.'}\n",
            "{'id': '2f4f19a7-04cf-4a82-8705-e8e1baba30f1', 'enhanced_description': 'Die 2in1 Pflegebürste von Vitakraft ist das ideale Werkzeug für die alltägliche Fellpflege Ihres Hundes. Ausgestattet mit einem Antirutsch-Gummigriff, bietet dieses zweckmäßige Zubehör einen sicheren Halt während des Bürstvorgangs. Die Drahtborsten sind speziell konzipiert, um Verfilzungen und abgestorbene Haare sanft zu entfernen, ohne das Haustier zu irritieren. Ihre praktischen Abmessungen von 6 cm in der Länge, 21 cm in der Höhe und 5,5 cm in der Breite machen sie zu einem handlichen Utensil, das sich leicht verstauen lässt. Egal ob Sie eine einfache Pflege oder intensives Kämmen anstreben, mit dieser multifunktionalen Bürste sorgen Sie für ein sauberes und glänzendes Fell Ihres Vierbeiners.'}\n",
            "Processed 26 rows\n",
            "{'id': 'a2614ff0-2f1e-4d36-bc1f-6e6eddcfba94', 'enhanced_description': 'Diese STEBA POWER EASY Steckdosenleiste bietet eine praktische Lösung zur Energieverteilung in Ihrem Haushalt oder Büro. Mit ihrer kompakten Länge von 1,5 Metern und 4 längs angeordneten T13-Steckplätzen passt sie perfekt hinter jedes Möbelstück. Die klare weiße Farbe fügt sich nahtlos in moderne Umgebungen ein, während der integrierte RESET Überlastschutzschalter für zusätzliche Sicherheit sorgt. Die Steckdosenleiste besteht aus robustem Kunststoff und verfügt über einen praktischen Schalter zur einfachen Steuerung des Stromflusses. Im Lieferumfang sind zwei Stück enthalten, die jeweils mit einer maximalen Leistung von 2500 Watt belastet werden können. Sichern Sie Ihre Elektrogeräte stilvoll und sicher mit dieser schlanken und effizienten Steckdosenleiste.'}\n",
            "{'id': '51fd3afc-b9fc-4a55-823d-5bf912b2dbd4', 'enhanced_description': \"Diese elegante Steckdosenleiste 'STEBA POWER EASY' bietet Ihnen sechs T13-Steckplätze in längs angeordneter Anordnung für maximale Flexibilität beim Anschluss Ihrer elektrischen Geräte. Mit einer praktischen Kabellänge von 1,5 Metern und einer hochwertigen Ausführung in klarweißem Kunststoff fügt sie sich diskret in jede Umgebung ein. Die schlanke Bauform macht sie ideal für den Einsatz zu Hause oder im Büro. Die integrierte Resetschaltung sorgt mit einem RESET Überlastschutzschalter jederzeit für Ihre Sicherheit. Die maximale Leistungsaufnahme beträgt 2500 W, wodurch Geräte mit hohem Stromverbrauch problemlos betrieben werden können. Im Lieferumfang sind zwei Steckdosenleisten enthalten, damit Sie auch in anderen Räumen für Ordnung und Sicherheit sorgen können.\"}\n",
            "Processed 28 rows\n",
            "{'id': '6e50faab-635a-47d8-894b-e51584a74513', 'enhanced_description': 'Dieses Set mit drei Soft-Bällen von Androni verspricht bunten Spaß für Kinder und Erwachsene. Jeder Ball ist in einer anderen leuchtenden Farbe gehalten (Blau, Grün, Gelb), was sie leicht unterscheidbar und attraktiv macht. Sie eignen sich ideal für diverse Outdoor-Spiele, sei es im Garten, am Strand oder im Park. Mit einer Größe von 56 x 39 x 51.5 cm liegen die Bälle gut in der Hand und sind auch für kleinere Kinderhände geeignet. Die robuste Qualität und das ansprechende Design sorgen für langanhaltende Freude bei Familie und Freunden. Erhältlich zu einem attraktiven Preis von nur 4.85 CHF, bieten diese Bälle eine hervorragende Möglichkeit, aktive Freizeitgestaltung zu genießen und die Koordination sowie die motorischen Fähigkeiten spielerisch zu fördern.'}\n",
            "{'id': 'c177439b-dd38-4d03-8c98-955d5a57cd9e', 'enhanced_description': \"Beleuchten Sie Ihren Außenbereich mit dem faszinierenden Schimmer der '3 Einbaulichter 5 cm' in lebhaftem Blau von Easy Connect. Diese robusten Einbauleuchten aus langlebigem Kunststoff fügen sich nahtlos in Terrassen, Wege oder Treppen ein und kreieren ein stimmungsvolles Ambiente durch ihr dezentes Design. Mit einem Durchmesser von je 5 cm lassen sie sich diskret in verschiedenste Oberflächen integrieren und bieten sowohl Funktionalität als auch stilvolle Ästhetik. Weitere Informationen und einen visuellen Eindruck finden Sie auf der Jumbo-Webseite unter dem angegebenen Link sowie ein aussagekräftiges Bild über das Aussehen der Leuchten.\"}\n",
            "Processed 30 rows\n",
            "{'id': 'ec25a7c2-4392-4b2f-9c74-9fad4033e7fa', 'enhanced_description': 'Entfesseln Sie Ihr Grillmeister-Potenzial mit dem 3er-Set Grillzangen von Broil King! Mit diesem praktischen Set aus hochwertigem Edelstahl können Sie jede Grillsession meistern. Die Zangen in verschiedenen Farben sind nicht nur stilvoll, sondern auch nützlich, um Kreuzkontamination zu vermeiden – verwenden Sie jeweils eine Zange für Fisch, Fleisch oder Gemüse. Die ergonomischen Griffe sorgen für eine bequeme Handhabung, während die Robustheit des Materials eine langanhaltende Qualität garantiert. Heben Sie Ihre Grillerfahrung auf die nächste Stufe und genießen Sie das ultimative Grillvergnügen mit Zuverlässigkeit und Präzision.'}\n",
            "{'id': '5c6134ee-1284-4868-98af-ce0a8f3f524a', 'enhanced_description': 'Set aus drei großen Geschenkbeuteln in zwei verschiedenen Designs oder Farben, ideal für jede Geschenkverpackung. Diese hochwertigen Beutel aus 60g/m2 starkem Papier sind mit einem eleganten Goldband zum einfachen und sicheren Verschließen ausgestattet. Die Maße betragen 22 x 33 x 5 cm und bieten somit ausreichend Platz für Ihre Präsente. Mit ihrem fantasievollen Muster und einer Farbwahl, die Freude ausstrahlt, sind diese Beutel für jede Saison geeignet und verkörpern als Schweizer Produkt Qualität und Tradition. Ob zum Geburtstag, zu Weihnachten oder als kleine Aufmerksamkeit zwischendurch – diese mehrfarbigen Papierbeutel machen Ihr Geschenk zum Hingucker.'}\n",
            "Processed 32 rows\n",
            "{'id': '853c41bb-3f9b-40a3-8b1d-db2dc2e19bf1', 'enhanced_description': 'Die 3 Q-Stick Scheibe von Einhell ist ein unverzichtbares Zubehör für Ihre Werkstatt, geeignet für die Schleifmaschine Tc-Us 400. Mit einem Durchmesser von 150 mm und einer Körnung von 80 sind diese Scheiben ideal für mittelschwere Schleifarbeiten. Sie erhalten 3 Scheiben in einem Set, die dank ihrer Körnung effizient Material abtragen und somit für eine glatte Oberflächenbearbeitung sorgen. Die Scheiben haben ein geringes Gewicht von nur 0.058 kg und sind einfach zu montieren. Die braune Farbe ist ein Zeichen für robustes und langlebiges Schleifpapier. Mit Abmessungen von 20 mm Höhe, 150 mm Breite und 190 mm Länge passen sie genau auf die entsprechende Schleifmaschine. Im Lieferumfang sind insgesamt 3 Stück enthalten, damit Sie direkt mit Ihrem Projekt starten können.'}\n",
            "{'id': 'ba6c2201-3379-4dba-b393-9acc383dadff', 'enhanced_description': 'Die Bosch Schleifschwämme im 3er-Set sind für ihre vielgestaltige, profilierte Form bekannt, die sich optimal für verschiedene Schleifarbeiten eignet. Die innovative flat+edge-Struktur ermöglicht eine präzise Anpassung an die Konturen des Werkstücks, was einen effizienten Schleifprozess und hervorragende Ergebnisse gewährleistet. Sie sind ideal für Heimwerker und Profis, die Wert auf Qualität und Präzision legen. Mit den Maßen 97 x ... sind sie handlich und praktisch für eine Vielzahl von Projekten einsetzbar. Entdecken Sie das optimale Schleifzubehör für Ihre Bohrmaschine – mit den Bosch Schleifschwämmen erreichen Sie perfekte Oberflächen bei jeder Anwendung.'}\n",
            "Processed 34 rows\n",
            "{'id': 'bf4c6159-43a3-4e40-9132-671fd8a75996', 'enhanced_description': 'Verleihen Sie Ihrem Fahrzeug mit dem 3-D Mini Sticker Deathkitty einen Hauch von Individualität. Dieser hochwertige Epoxidharz-Aufkleber besticht durch seinen einzigartigen 3D-Effekt und zieht garantiert Blicke auf sich. Er wurde speziell dafür entwickelt, extremen Bedingungen standzuhalten und ist waschstrassenbeständig, winterfest sowie temperaturbeständig. Mit seiner universellen Anpassungsfähigkeit haftet der Sticker mühelos auf allen sauberen und silikonfreien Oberflächen wie Glas, Metall, Kunststoff, Leder und Holz. Wählen Sie Qualität und Stil mit dem 3D Car Sticker, der auf Langlebigkeit ausgelegt ist und Ihrem Auto das gewisse Etwas verleiht.'}\n",
            "{'id': '3ce84fff-8ccf-4939-8c21-26f562ab647c', 'enhanced_description': 'Entdecken Sie die authentische Schönheit der 3-Schicht Massivholzplatte aus Fichte mit einem hochwertigen Digitaldruck im Altholz-Design Tirol in einem warmen Braunton, kunstvoll gebürstet, um den Charme alter Holzoberflächen zu imitieren. Diese Massivholzplatte kombiniert die natürliche Ästhetik von durchgehenden Decklamellen mit der Stabilität und Nachhaltigkeit der Fichte und ist ideal für tragende Konstruktionen, die Herstellung eleganter Möbeltüren sowie für dekorative Wandverkleidungen im Innenbereich. Hergestellt in Deutschland und Österreich, bietet das hochwertige Material mit einer Dicke von 19 mm und einem Gewicht von ca. 8,93 kg/m2 eine Bearbeitbarkeit, die Handwerkern einfache Anpassungen mit dem geeigneten Werkzeug ermöglicht. Unabhängig von Ihrem Projekt – sei es Laden- oder Messestandbau, Innenausbau, Trennwände, Möbel oder Tische und Stühle – diese vielseitige Holzplatte verleiht jedem Raum Charakter und Beständigkeit. Bitte beachten Sie, dass maßgefertigte Zuschnitte vom Rückgaberecht ausgeschlossen sind.'}\n",
            "Processed 36 rows\n",
            "{'id': '7532bc01-aa20-4637-a5a4-0aafe8c92d24', 'enhanced_description': 'Die hochwertige 3-Schichtplatte aus Bambus, gefertigt in Deutschland, ist die ideale Wahl für kreative und nachhaltige Innenprojekte. Mit einer Dicke von 18 mm und dem leicht handhabbaren Gewicht von 11,76 kg/m2 lässt sie sich hervorragend für den Möbelbau, Innenausbau sowie als elegante Lösung für Treppenstufen nutzen. Die Platte ist FSC-zertifiziert und somit nachweislich aus verantwortungsvoller Waldwirtschaft. Sie lässt sich dank ihrer bearbeitungsfreundlichen Beschaffenheit einfach mit den passenden Werkzeugen in Form bringen, sei es für Küchen- und Badezimmerschränke, feste und mobile Möbel oder als repräsentative Rückwand. Die Maßanfertigung bietet zudem eine individuelle Gestaltungsfreiheit, jedoch ist zu beachten, dass maßgefertigte Zuschnitte nicht retourniert werden können. Gekennzeichnet mit der Qualität A/A, ist diese Platte nicht nur funktional, sondern auch ästhetisch ansprechend und trägt das Siegel für hochwertiges Design und dauerhafte Haltbarkeit.'}\n",
            "{'id': '37a0c6ad-89ce-4387-ad49-d4f483f3b9fc', 'enhanced_description': 'Machen Sie Schluss mit kurzen Laufzeiten und langen Ladezyklen! Der Bosch 36 V/2,0 Ah Lithium-Ionen-Akku ist Ihr zuverlässiger Begleiter für Gartenarbeiten. Mit der fortschrittlichen 36-Volt-Lithium-Ionen-Technologie bietet dieser Akku eine hohe Leistungsdichte und ermöglicht effizientes Arbeiten ohne unangenehme Unterbrechungen. Die integrierte Akkuzustandsanzeige informiert Sie über den aktuellen Ladestand, sodass Sie stets den Überblick bewahren. Dank der sehr kurzen Ladezeiten ist der Akku schnell einsatzbereit, während die fehlende Selbstentladung und der Nichtvorhandensein eines Memory-Effekts für eine stets optimale Leistungsfähigkeit sorgen. Zudem profitieren Sie von einer langen Akkulebensdauer, die dem Qualitätsversprechen von Bosch entspricht. Mit den kompakten Abmessungen von 14,8 cm x 9,6 cm x 4,6 cm und einem Gewicht von nur 0,833 kg wird dieser Akku nicht zur Last, sondern zum hilfreichen Werkzeug bei allen Rasenpflegearbeiten. Mitgeliefert wird 1 Akkupack 36 V/2,0 Ah Lithium-Ionen, damit Sie sofort loslegen können.'}\n",
            "Processed 38 rows\n",
            "{'id': 'de2fef41-5afb-4a30-8c4c-730a98312476', 'enhanced_description': 'Entdecken Sie die Zauberwelt des Dupli Color 3D Effekt-Lacks! Mit diesem hochqualitativen, farblosen Acryllack verleihen Sie Ihrem Fahrzeug oder kreativen Projekt einen einzigartigen holographischen Glanz. Der magische 3D-Effekt entsteht durch feine, glitzernde Partikel im Lack, die je nach Lichteinfall und Blickwinkel eine Farbänderung hervorrufen. Besonders eindrucksvoll zeigt der Lack seine Wirkung auf dunklen Untergründen. Ob als dekoratives Finish oder zur Auffrischung – dieser Lack ist nicht nur vielseitig einsetzbar, sondern auch lichtecht und UV-beständig. Dank seiner Transparent-Eigenschaft kann er auf verschiedensten Farbtönen aufgetragen werden, wobei der endgültige Effekt von der Farbe und Textur des Untergrundes beeinflusst wird. Nach dem Überzug mit einem Klarlack ist er zudem wetterfest und hält Temperaturen bis zu 110 °C stand. Bitte beachten Sie die Verarbeitungshinweise für das beste Ergebnis: Der Untergrund sollte sauber, trocken und fettfrei sein. Vor Gebrauch den Lack 3 Minuten lang gut schütteln und mit einem Sprühabstand von 20-30 cm auftragen.'}\n",
            "{'id': '79e59ff8-a2ef-4be7-bfa1-2ad38c5341cf', 'enhanced_description': 'Entdecken Sie die vielseitigen Möglichkeiten des Dupli Color 3D Effekt Sprays mit einem Inhalt von 150 ml. Dieses hochwertige Spray in Nitro-Kombi-Qualität ermöglicht es Ihnen, individuelle Kunstwerke zu schaffen und Objekte wie Bilderrahmen, Gestecke, Kugeln und Geschenke kreativ zu gestalten. Das Effekt Spray ist einsetzbar auf einer Vielzahl von Oberflächen, einschließlich Glas, Keramik, Stein und Metallen, und verleiht Ihren Projekten mit seinem multicolor Effekt eine einzigartige, dreidimensionale Optik. Ganz gleich, ob Sie ein DIY-Fanatiker oder ein professioneller Gestalter sind, dieses vielseitige Spray wird sicherstellen, dass Ihre Kreationen in der Frühlingszeit und darüber hinaus einen bleibenden Eindruck hinterlassen.'}\n",
            "Processed 40 rows\n",
            "{'id': '22cc4b25-3e65-4427-957b-af6c694b06a0', 'enhanced_description': 'Entdecken Sie das kreative Vergnügen mit dem Rayher 3D-Holzherz. Dieses Bastel-Highlight misst 15,4 x 15 x 1 cm und bietet die ideale Grundlage für individuelle Dekoprojekte. Ob Sie es naturbelassen lassen, farbenfroh bemalen, mit Stempeln verzieren, mit Stoff bekleben oder mit Mosaiken versehen - dieses 3-D-Holzelement wird zu einem einzigartigen Deko-Accessoire in Ihrem Zuhause. Mit seiner braunen Farbe und der hochwertigen Beschaffenheit eignet sich das Holzherz perfekt, um Ihrer Kreativität freien Lauf zu lassen und persönliche Akzente in Ihrem Wohnambiente zu setzen.'}\n",
            "{'id': '249bf303-4126-4b6a-947c-a3019b111b0d', 'enhanced_description': 'Entdecken Sie das Potenzial Ihrer Kreativität mit dem 3D Holz Schmetterling der Marke Rayher. Mit FSC Mix Credit Zertifizierung versichert Ihnen dieser Holzschmetterling Nachhaltigkeit und Verantwortung gegenüber der Umwelt. Die Maße von 15 x 15 x 1 cm bieten die ideale Grundfläche für verschiedenste Gestaltungstechniken. Von natürlicher Schönheit zu individuellen Kunstwerken - dieser Schmetterling lässt sich nach Belieben bemalen, bestempeln, mit Stoff verzieren oder mit Serviettentechnik individualisieren. Komplettiert mit einem praktischen Aufhänger ist es ein Leichtes, Ihr Werk zu präsentieren. Ob als einzigartiger Blickfang in Ihrem Wohnraum oder als persönliches Geschenk, dieser Holzschmetterling lädt zur kreativen Entfaltung ein. Das Produkt wird in einer SB-Verpackung geliefert und umfasst 1 Stück.'}\n",
            "Processed 42 rows\n",
            "{'id': 'bd458b27-470d-40f1-a0ab-d4db78738163', 'enhanced_description': 'Entdecken Sie Ihr kreatives Potential mit der 3D Holzblume von Rayher, Ihrem neuen Lieblingsobjekt für DIY-Projekte und individuelle Dekorationen. Diese elegante Holzskulptur mit einer Größe von 35 cm kann nach Ihrem persönlichen Geschmack gestaltet werden: Naturbelassen für einen Hauch von schlichter Eleganz, bunt bemalt als fröhlicher Hingucker, mit Stoff bekleidet für eine stilvolle Textur, mit Serviettentechnik für feine Details oder mit Mosaiken für eine künstlerische Note. In jedem Fall wird die Holzblume zu einem Blickfang, mit dem Sie Ihr Zuhause oder jeden Raum individuell verschönern können. Ihre kreative Reise beginnt mit dieser vielseitigen und inspirierenden Figur in den angenehmen Farbtönen Braun und Grau aus hochwertigem Holz.'}\n",
            "{'id': '5f1bf1eb-30d9-4069-a1a4-ed1aad16e7a0', 'enhanced_description': 'Entdecken Sie die Welt der Kreativität mit den selbstklebenden 3D Moosgummi-Stickern von Glorex. Dieses 11-teilige Set besticht durch lebensfrohe Bienen-Motive, die mit einer Größe von je 6x4,5 cm perfekt für diverse Bastelprojekte geeignet sind. Ob Sie einzigartige Grußkarten kreieren, Scrapbooking betreiben, Geschenke individuell verzieren oder eine charmante Pinnwand gestalten wollen – diese farbenfrohen Schaumstoff-Sticker sind ein Highlight in jedem kreativen Unterfangen. Zudem eignen sie sich hervorragend zur Verschönerung von Kinderzimmern, dank ihrer kinderfreundlichen Motive und einfachen Anwendbarkeit. Mit dem gemischten Farbset können Sie Ihrem Kunstwerk eine fröhliche und dynamische Note verleihen.'}\n",
            "Processed 44 rows\n",
            "{'id': '9a9101d3-452e-4763-b977-9081c25e71d8', 'enhanced_description': \"Verlieben Sie sich in Ihre Bastelprojekte aufs Neue mit den 3D Papier-Accessoires 'Love' von Rayher! Dieses Set aus sechs selbstklebenden Papier-Accessoires mit einem Durchmesser von 4 cm erweckt Ihre Kreationen zum Leben. Jedes Element kommt in strahlendem Weiß und fügt Ihren Grußkarten, Scrapbooks oder Dekorationen einen Hauch von Romantik und Eleganz hinzu. Die dreidimensionalen Details sorgen für einen beeindruckenden visuellen Effekt, und da sie selbstklebend sind, lassen sie sich einfach und schnell anwenden. Ideal für alle, die im Bastelshop nach einer hochwertigen Verzierung suchen, die liebevolle Akzente setzt.\"}\n",
            "{'id': '5788b307-586d-40ff-805f-c888770f3a3b', 'enhanced_description': \"Entdecken Sie die Welt der Papiergestaltung mit den eleganz sprühenden 3D Papier-Accessoires von Rayher. Präsentiert in einem charmanten Rosa/Rosé Farbton, bieten diese selbstklebenden Dekorationen ein wunderbares Maß an Detail und Dimensionalität, um jedes Bastelprojekt auf ein neues Niveau zu heben. Jede Packung enthält sechs perfekt geformte 'Love'-Schriftzüge mit einem Durchmesser von 4cm, die aus hochwertigem Papier gefertigt sind. Ideal für persönliche Grußkarten, Scrapbooking oder als liebevolle Verzierung von Geschenken und Tischkarten. Diese stilvollen 3D-Sticker kommen in einer praktischen SB-Blisterverpackung, sodass sie nicht nur ein Blickfang für Ihr nächstes Kunstwerk, sondern auch ein Hit im organisierten Bastelschrank sind.\"}\n",
            "Processed 46 rows\n",
            "{'id': '9aced2c7-ab2c-4e07-b148-99b7ff50c5b9', 'enhanced_description': \"Entdecken Sie die romantische Welt des Bastelns mit den 3D Papier-Accessoires von Rayher. Dieses Set beinhaltet 6 selbstklebende Sticker in den Maßen 3,9x4,1cm, verziert im 'Romantic Love' Design. Ideal für Scrapbooking, Grußkarten oder andere Papierkunstwerke, verleihen diese Sticker jedem Projekt einen einzigartigen und liebevollen Akzent. In den zarten Farben Mintgrün und Grün gehalten, fügen sie sich harmonisch in Ihre Bastelideen ein. Das Hauptmaterial Papier sorgt für eine einfache Anwendung und bietet zugleich eine hohe Qualität. Erschaffen Sie mit diesen 3D Papier-Accessoires kleine Kunstwerke mit großer Wirkung.\"}\n",
            "{'id': '4e3f705f-50f7-425e-9137-82a114222abf', 'enhanced_description': \"Entdecken Sie die bezaubernde Welt der Papiergestaltung mit den 'Romantic Love' 3D Papier-Accessoires von Rayher. Diese selbstklebenden Schmuckstücke mit den Maßen 3,9x4,1 cm kommen in einem praktischen Set mit 6 Stück und sind besonders einfach anzuwenden. Sie verleihen Ihren kreativen Projekten einen individuellen und romantischen Touch. Perfekt geeignet für Scrapbooking, Grußkarten oder als dekorative Elemente für Einladungen und Geschenkverpackungen, bieten diese Accessoires in zarten Rosa- und Rosétönen eine einfache Möglichkeit, Ihren Arbeiten eine dreidimensionale und emotionale Tiefe zu verleihen. Sie sind auf der Suche nach dem gewissen Etwas für Ihr Papierkunstwerk? Mit den Rayher 3D Papier-Accessoires 'Romantic Love' setzen Sie einzigartige Akzente.\"}\n",
            "Processed 48 rows\n",
            "{'id': '8a0c15cb-1971-4f3b-9b17-83e89c2ed71d', 'enhanced_description': \"Die 'Romantic Rose' 3D Papier-Accessoires von Rayher sind perfekt, um Ihren Bastelarbeiten eine einzigartige und stilvolle Note zu verleihen. Diese selbstklebenden Dekorationen sind in einem praktischen Set von 6 Stück verfügbar und haben eine Größe von jeweils 4,7 x 3,2 cm, ideal für feine Detailarbeiten auf Karten, Scrapbooks oder Geschenkverpackungen. Mit ihrem eleganten weißen Farbton und der hochwertigen Papierqualität sorgen sie für eine delikate, dreidimensionale Blütenoptik. Verleihen Sie Ihren kreativen Projekten einen romantischen Touch mit diesen einfach zu verwendenden und wunderschönen Papierrosen.\"}\n",
            "{'id': '03cc97b7-def6-4caa-a560-dfbd045f8a6b', 'enhanced_description': \"Entfalten Sie Ihre künstlerische Ader mit den 'Romantic Rose' 3D Papier-Accessoires von Rayher. Diese selbstklebenden Dekorationen in Braun- und Taupe-Farbtönen mit den Maßen 4,7x3,2 cm kommen in einer praktischen SB-Verpackung mit 6 Stück. Ideal für Geburt und Taufprojekte - verleihen Sie Ihren Karten, Scrapbooks und anderen Papierkunstwerken eine bezaubernde 3D-Blütendimension.\"}\n",
            "Processed 50 rows\n",
            "{'id': 'f759bedc-5264-465b-973b-6d6a08a1964a', 'enhanced_description': 'Verleihen Sie Ihren Bastelarbeiten einen Hauch von Eleganz mit den selbstklebenden 3D Papier-Accessoires von Rayher. Diese fein ausgearbeiteten Rosen in strahlendem Weiß haben einen Durchmesser von 4 cm und eignen sich perfekt, um Grußkarten, Geschenkverpackungen oder Einladungen zu verschönern. Jedes Set enthält sechs hochwertige Papierrosen, die dank ihrer selbstklebenden Rückseite leicht anzuwenden sind. Die 3D-Struktur der Rosen sorgt für eine ansprechende Textur und einzigartigen Stil auf jedem Papierprojekt. Egal, ob Sie ein erfahrener Papierkünstler oder neu im Hobby sind, diese Accessoires sind ein ideales Mittel, um Ihren Kreationen eine persönliche und dreidimensionale Note zu verleihen.'}\n",
            "{'id': '4b2f014b-1879-4461-abe2-d12b1e498385', 'enhanced_description': 'Entdecken Sie die Welt des kreativen Bastelns mit den 3D Papier-Accessoires von Rayher. Diese selbstklebenden Rosen mit einem Durchmesser von 4 cm sind in einem praktischen Beutel mit 6 Stück verpackt und bereit, Ihren Papierprojekten eine besondere Note zu verleihen. Hergestellt aus hochwertigem Papier in ansprechenden Taupe- und Brauntönen, sind sie ideal für Scrapbooking, Kartengestaltung und andere Dekorationsvorhaben.'}\n",
            "Processed 52 rows\n",
            "{'id': 'fde4bf92-ba4d-4a31-9d7f-c4d82b2cd263', 'enhanced_description': 'Bringen Sie einen Hauch von Individualität und Wärme in Ihr Zuhause mit dem 3D-Holz-Herz von Rayher, Ihrem Partner für kreative Gestaltung. Dieses hochwertige Holzelement im Maße 15,4 x 15 x 1 cm verfügt über einen praktischen Aufhänger, der eine einfache Platzierung an Wänden oder anderen Oberflächen ermöglicht. Seine natürliche Holzoptik kann pur belassen oder individuell veredelt werden - ob durch Bemalen, Bestempeln, Stoffapplikationen, Serviettentechnik oder das Bekleben mit Mosaiksteinen. Lassen Sie Ihrer Kreativität freien Lauf und erschaffen Sie ein persönliches Deko-Stück, das in jedem Raum eine gemütliche Atmosphäre schafft.'}\n",
            "{'id': '018a1c0f-4f67-4d48-a032-f3a3d56e5ec7', 'enhanced_description': 'Entdecken Sie Ihre künstlerische Ader mit dieser 3D-Holz-Katze von Rayher, Ihrem Partner für Bastelbedarf. Abmessungen von 15x20x1 cm und praktischem Aufhänger bieten die perfekte Grundlage für Ihr nächstes DIY-Projekt. Ob klassisch in Naturtönen belassen oder kreativ gestaltet durch Bemalen, Bestempeln oder Stoffverzierung – diese Deko-Figur verwandelt Ihr Zuhause in eine individuelle Wohlfühloase. Eignet sich auch ideal für Techniken wie Serviettenkunst oder Mosaik. Aus hochwertigem Holz gefertigt, erscheint sie in sanften Braun- und Grautönen, passt sich harmonisch an jedes Interieur an und setzt warme, einladende Akzente.'}\n",
            "Processed 54 rows\n",
            "{'id': '9e392117-6a8d-44d3-bb40-c261bd1f38ae', 'enhanced_description': 'Die Glorex 3D-Filz-Sticker, 10-teiliges Set, sind kreativ gestaltete Filzapplikationen in den Formen von Schnecken, Bienen und Blumen mit einer Größe von je 5x4,5 cm. Diese selbstklebenden Sticker eignen sich hervorragend für das Aufpeppen und Personalisieren Ihrer Bastelarbeiten. Die farbenfrohen Motive machen sie zu einem perfekten Accessoire für kreative Kartengestaltung, für das Scrapbooking, zum Verzieren von Geschenken oder Pinnwänden und auch als spielerische Wanddekoration im Kinderzimmer. Hergestellt aus hochwertigem Polyester, bieten sie Langlebigkeit und eine leichte Anbringung.'}\n",
            "{'id': '9ce43c04-c973-4bc0-815f-f62b6294a808', 'enhanced_description': \"Die 3er Packung Irisfolie ist das ideale Produkt für kreative Köpfe und Geschenke-Liebhaber. Mit einer Breite von 70 cm und einer Länge von 5 Metern bietet diese Folie ausreichend Material für zahlreiche Anlässe. Ob zum Einpacken eines besonderen Geschenks oder zum Basteln eigener Dekorationen, die hochwertige Irisfolie ist ganzjährig ein nützlicher und vielseitiger Begleiter. Dieses Paket enthält 3 Stück der schimmernden Folie, die jedem Präsent eine elegante und festliche Note verleiht. Verfügbar ist dieses Set unter dem Link 'https://www.jumbo.ch/wohnen-licht/papeterie/fotoalben-geschenkpapier/geschenkpapier/3er-packung-irisfolie/p/6024952', wo auch die Abbildung des Produkts eingesehen werden kann.\"}\n",
            "Processed 56 rows\n",
            "{'id': 'b66d9312-0400-4774-a3db-f832c07fabd2', 'enhanced_description': 'Das 3-teilige Kunststoffboxen-Set mit je 17,5 Litern Fassungsvermögen eignet sich perfekt für eine ordentliche Aufbewahrung von diversen Gegenständen in Werkstatt oder Keller. Die Boxen aus stabilem Kunststoff sind temperaturbeständig von -15 bis +80 Grad Celsius. Mit durchsichtiger Gestaltung zur leichten Inhaltserkennung und kompakten Maßen von 26 cm Höhe, 46 cm Tiefe, 38 cm Breite. Inklusive 3 Stück pro Set.'}\n",
            "{'id': '41ad5def-9b29-4f1a-9d9e-6a07495f5dbf', 'enhanced_description': 'Das 3M 1900 Gewebeklebeband bietet eine universelle Lösung für diverse Klebeaufgaben. Mit einer Breite von 50 mm und einer Länge von 50 m ist es ideal für den Einsatz im Büro, Werkstatt oder gar zu Hause. Die Klebeeigenschaften umfassen eine hohe Haftkraft auf verschiedenen Materialien wie Metall, Glas, Kunststoff und Beton, ohne bei der Entfernung Spuren zu hinterlassen. Das silberfarbene Klebeband ist wasserfest, handreißbar und ermöglicht eine einfache Anwendung. Darüber hinaus kann man es problemlos beschriften, was die Organisation und Markierung von Objekten vereinfacht. Obwohl es nicht wiederablösbar ist, gewährleistet es Langlebigkeit und Zuverlässigkeit für alle klebenden Herausforderungen.'}\n",
            "Processed 58 rows\n",
            "{'id': '2cf77ae1-38ec-4e2e-ae3a-8ea48c8a0911', 'enhanced_description': \"Die 3M A1P2 Aktivkohle/Spezial Atemschutzmaske etwa eignet für Anwendungen wie Farbspritzen, Streichen, Lackieren und Maschinenschleifen. Durch die A1P2 Schutzstufe bietet die Maske effektiven Schutz gegen bestimmte organische Gase, Dämpfe und Partikel bis zu festgelegten Konzentrationen. Mit integrierten Filterelementen konzipiert, gewährleistet sie einen geringen Atemwiderstand, während das parabolische Ausatemventil einen Hitzestau vermeidet – für einen höheren Tragekomfort. Diese gebrauchsfertige und wartungsfreie Atemschutzmaske besticht durch ihr kompaktes Design, das eine uneingeschränkte Sicht ermöglicht. Hergestellt aus hochwertigem Kunststoff, ist sie in der Farbe Blau verfügbar, entspricht der Norm EN 405:2001 / A1:2009 FFA1P2 R D und wird in der Größe 'One Size' mit verstellbarem Sitz geliefert, sodass sie an verschiedene Kopfgrößen angepasst werden kann.\"}\n",
            "{'id': '5073c499-47b7-42ff-a650-d7f115d3c10d', 'enhanced_description': 'Die 3M Abdeckfolie ist ein unverzichtbares Zubehör für professionelle Malerarbeiten und Heimprojekte. Diese Folie, konzipiert für das innovative Handabdeckgerät M3000, bietet durch ihre statische Aufladung eine hervorragende Haftung auf verschiedenen Oberflächen. Mit einer Dicke von 0.4mm und einem Gewicht von 363 Gramm ist sie robust genug, um Schutz zu bieten, ohne umständlich in der Handhabung zu sein. Die 2,5 x 27,4 Meter messende Abdeckfolie ist bis zu 90°C hitzebeständig und eignet sich daher auch für Aufgaben, bei denen Wärme im Spiel ist. Außerdem verhindert ihre Spezialbeschichtung effektiv das Abperlen von Farbe, was ein sauberes Arbeiten ermöglicht und zugleich Zeit bei der Nachbearbeitung spart. Das transparente Material erlaubt eine klare Sicht auf die abgedeckten Bereiche, wodurch die Präzision während der Malerarbeiten gesteigert wird. Ob für Renovierungen, Lackierarbeiten oder zum Schutz von Möbeln und Böden – diese 3M Abdeckfolie ist eine zuverlässige Wahl.'}\n",
            "Processed 60 rows\n",
            "{'id': '5a4a03b9-8710-46a0-aafb-19eeeff89b08', 'enhanced_description': 'Die 3M Command Deko-Clips Indoor bieten eine revolutionäre Lösung für das schnelle und schadlose Aufhängen von Dekorationselementen wie Lichterketten. Mit den selbstklebenden transparenten Strips und Haken können Sie Ihr Zuhause ohne den Einsatz von Werkzeugen wie Hammer und Nägel dekorieren. Die Haken halten sicher und stark, lassen sich aber genauso leicht ohne Rückstände oder Schäden an den Wänden entfernen. Das Set beinhaltet insgesamt 20 Haken und 24 Strips und ist speziell für die Verwendung im Innenbereich konzipiert. Das transparente Design sorgt für eine unauffällige Präsentation Ihrer Dekorationen, während die hochwertige Kunststoffkonstruktion eine langlebige Nutzung garantiert. Mit einer Größe von 20,5 cm Länge, 18 cm Höhe und 11 cm Breite sind diese Deko-Clips von Command eine praktische und zuverlässige Wahl für kreative Dekorateure.'}\n",
            "{'id': '6c8271cf-5b15-4354-bf73-e27765ce2cc7', 'enhanced_description': 'Die 3M Gehörschutzstöpsel 1271 bieten robusten und zuverlässigen Schutz für Ihre Ohren. Entwickelt, um bei mittleren Lärmniveaus von 87 bis 98 dB störende Geräusche effektiv zu dämpfen, sind diese wiederverwendbaren Ohrstöpsel ideal für alle Arten von Heimwerker- und Reparaturarbeiten, sei es im Haus oder am Auto, sowie bei lauten Aktivitäten wie Hämmern. Die Stöpsel kommen mit einer praktischen Box zur hygienischen Aufbewahrung und einer Kordel, die das Tragen um den Hals ermöglicht und verhindert, dass sie verloren gehen. Die auffällige blaue und orange Farbe sorgt für gute Sichtbarkeit und die weiche, flexible Kunststoffkomposition garantiert einen komfortablen Sitz und einfache Reinigung. Vertrauen Sie auf die Qualität von 3M, um Ihre Ohren sicher und geschützt zu halten.'}\n",
            "Processed 62 rows\n",
            "{'id': 'ba070ec3-9f9e-42b7-81f4-94315876efe3', 'enhanced_description': 'Der 3M Peltor Kids Gehörschutz in leuchtendem Pink ist ein essentielles Accessoire für Kinder ab 2 Jahren, um ihre Ohren bei lauten Events oder während heimischen Renovierungsarbeiten zu schützen. Mit seinem leichten Design und der weichen Polsterung bietet er einen angenehmen Tragekomfort, speziell angepasst an die Bedürfnisse von Kinderohren. Der Gehörschutz dämmt effektiv störenden Lärm bei Konzerten oder lauten Heimaktivitäten und bleibt dank des geringen Gewichts für die kleinen Träger nahezu unbemerkt. Für eine perfekte Anpassung sorgt der stufenlos verstellbare Kopfbügel, der einen sicheren und komfortablen Sitz gewährleistet. Die Marke 3M steht dabei für bewährte Qualität, die Eltern vertrauen können, wenn es um den Schutz ihrer Kinder geht.'}\n",
            "{'id': 'd0f1d4f6-ae3d-475f-9007-5b037c70bae6', 'enhanced_description': 'Der 3M Peltor Optime Kapselgehörschutz H510A ist eine hochwertige Wahl für den Schutz des Gehörs in lauten Umgebungen. Dieser Gehörschutz ist mit seinem geringen Gewicht und seiner ergonomischen Form perfekt für lange Tragezeiten geeignet. Die Anpassungsfähigkeit an unterschiedliche Kopfformen garantiert einen sicher sitzenden und dichten Abschluss. Das Produkt zeichnet sich durch seine einzigartige Flüssig- und Schaumstofffüllung aus, welche eine hervorragende Dämmung gegen Lärmbelastung bietet. Für eine langanhaltende Hygiene und Leistungsfähigkeit können die Dämmmaterialien ausgetauscht werden, ohne dass das gesamte Produkt neu beschafft werden muss. Der Kapselgehörschutz ist aus robustem Kunststoff gefertigt und in auffälligem Gelb erhältlich, erfüllt die CE EN 352-1:2001 Norm und wird mit einer Stückzahl von 1 geliefert. Prädestiniert für Arbeiten in Maschinen- und Werkstattbereichen bietet der 3M Kapselgehörschutz hohe Flexibilität und Kombinierbarkeit für professionelle Anwender.'}\n",
            "Processed 64 rows\n",
            "{'id': 'bd978c8b-b522-4507-8df0-f67aeb6c0cba', 'enhanced_description': 'Die 3M™ Solus™ 2002 Schutzbrille verkörpert eine perfekte Kombination aus Stil und Sicherheit. Mit ihrem eleganten, schlanken Design und den einstellbaren Ratschenbügeln bietet diese Brille eine individuelle Anpassung an die Gesichtsform und bevorzugte Position auf der Nase. Der halbfeste Nasensteg und weiche Bügelenden garantieren einen verbesserten Tragekomfort und festen Sitz, selbst bei langen Einsätzen. Darüber hinaus sichert die innovative 3M™ Scotchgard™ Antibeschlag-Beschichtung eine hervorragende Sicht frei von Beschlag und Kratzern, was die Brille zu einem unverzichtbaren Begleiter in jeder Arbeitsumgebung macht, in der Augenschutz essenziell ist. Trotz der Nichtverstellbarkeit in der Größe kann dieses Produkt dank der Flexibilität der Bügel viele verschiedene Nutzer zufriedenstellen. Lieferumfang: 1 Stück.'}\n",
            "{'id': '2d70b80c-ac29-4182-b47e-68b096e4820d', 'enhanced_description': 'Der 3M Schutzhelm ist konzipiert, um höchste Sicherheitsanforderungen zu erfüllen und ist ideal für den Einsatz in der Industrie und auf Baustellen. Ausgestattet mit einem innovativen Uvicator, signalisiert er, wann der Helm aufgrund von UV-Lichteinwirkung ausgewechselt werden sollte. Die leuchtend gelbe Farbe sorgt für gute Sichtbarkeit, während das robuste ABS-Material ausgezeichneten Schutz und lange Haltbarkeit gewährleistet. Komfort wird nicht vernachlässigt: Dieser Helm zeichnet sich durch seine Belüftung und optimierte Passform aus, was auch bei langen Arbeitseinsätzen Tragekomfort garantiert.'}\n",
            "Processed 66 rows\n",
            "{'id': '5ecb4ced-4c8e-4237-827d-5e6d0970577a', 'enhanced_description': 'Die 3M™ 2820C Schutzbrille klar besticht durch ihr modernes Design und bietet optimalen Schutz für Ihre Augen. Mit der Marke 3M wählen Sie Qualität und Verlässlichkeit in einem. Die Brille ist ideal geeignet für Tätigkeiten in Maschinen- und Werkstätten und gehört zur Kategorie der persönlichen Schutzausrüstung. Die klaren Gläser sorgen für maximale Sichtbarkeit, während der leichte Rahmen und eine ergonomische Passform den ganzen Tag über für Komfort sorgen. Sie erhalten mit dem Lieferumfang eine Stückzahl von genau einem Exemplar dieser essentiellen Schutzausrüstung. Mehr Informationen und eine detaillierte Ansicht der 3M™ 2820C Schutzbrille finden Sie unter dem angegebenen Link.'}\n",
            "{'id': 'ad4460ff-148d-4277-b50f-8f3b7039edc7', 'enhanced_description': 'Die 3M™ Atemschutzmaske 9922C2 ist ein Teil des 3M Spezialmasken-Programms und speziell für anspruchsvolle Arbeitsumgebungen konzipiert. Diese Maske bietet zuverlässigen Schutz vor Feinstaub, bestimmten Niveaus von schädlichen Gasen und Dämpfen, die in industriellen oder handwerklichen Arbeitsprozessen vorkommen können. Mit ihrem leichten Design und dem komfortablen Sitz trägt die 3M™ 9922C2 dazu bei, die Belastung für den Träger zu minimieren, während ein optimaler Dichtsitz gewährleistet wird. Die Maske ist mit einem Ausatemventil ausgestattet, das Wärme und Feuchtigkeit reduziert und somit für eine erhöhte Atmungsaktivität sorgt. Dank der einfachen Handhabung und der hohen Filtrationseffizienz ist diese Atemschutzmaske ideal für Profis, die auf der Suche nach sowohl Schutz als auch Komfort sind.'}\n",
            "Processed 68 rows\n",
            "{'id': 'd39056dc-5c0a-477a-ba5f-08df01aa4825', 'enhanced_description': 'Die 3M™ Atemschutzmaske 8822 bietet professionellen Schutz der Sicherheitsstufe FFP2. Sie besticht durch maximale Filterleistung bei gleichzeitig minimiertem Atemwiderstand, was die Atmung auch über längere Tragezeiten komfortabel macht. Dank der benutzerfreundlichen Bänder lässt sich die Maske schnell und einfach aufsetzen. Das Design der 3M Atemschutzmaske gewährleistet eine optimale Anpassung an verschiedene Gesichtsformen und ermöglicht so einen zuverlässigen Dichtsitz. Die aufgedruckte Schutzstufe erleichtert zudem die schnelle Identifikation der Maske. Mit dem Schutz der 3M Qualität sind Sie gegen feste und flüssige Partikel bestens gewappnet. Die Packung enthält 3 Stück, sodass Sie stets Ersatz bei der Hand haben.'}\n",
            "{'id': '3ef92e38-e854-4d74-92be-36f4e83db801', 'enhanced_description': 'Die 3M™ Aura™ Atemschutzmaske 9322+ bietet professionellen Atemschutz der Klasse FFP2. Sie ist mit dem innovativen Cool Flow™ Ausatemventil ausgestattet, das für leichteres Atmen sorgt und Hitze und Feuchtigkeit unter der Maske minimiert, somit ideal für längeres Tragen geeignet ist. Diese Maske schützt bis zum 10-fachen des Arbeitsplatzgrenzwertes und ist hygienisch einzeln verpackt, um Kontamination vor Gebrauch zu verhindern. Das Design passt sich dank der flexiblen Struktur der Mundbewegung beim Sprechen an und sorgt für hohen Tragekomfort. Die 3M™ Aura™ 9322+ Masken erfüllen die europäische Norm EC002107 und sind in der Farbe Weiß erhältlich. Die leichte Konstruktion mit einem Gewicht von nur 0.077 kg macht sie zu einer kaum spürbaren Sicherheitsmaßnahme für verschiedenste Arbeitsumgebungen.'}\n",
            "Processed 70 rows\n",
            "{'id': 'bff81ba8-2c59-4b19-96ed-2d1efe739801', 'enhanced_description': 'Die 3M™ Aura™ Atemschutzmaske 9332+ bietet hervorragenden Atemschutz in einem innovativen Design. Diese FFP3 NR D-Maske mit dem Cool Flow Ausatemventil reduziert die Wärme und Feuchtigkeit für ein angenehmeres Tragegefühl auch bei längerer Nutzung und kann bis zum 30-fachen des Arbeitsplatzgrenzwertes eingesetzt werden. Sie ist hygienisch einzelverpackt, um die Maske vor Kontaminationen zu schützen, bevor sie zum Einsatz kommt. Das geringe Gewicht von nur 0.080 kg und die weiße Farbe machen die Maske praktisch und neutral, und mit 2 Stück pro Lieferumfang sind Sie gut ausgestattet. Die Maske entspricht der Norm EC002107, was Zuverlässigkeit und Qualität garantiert. Für alle, die zuverlässigen Schutz in Bereichen benötigen, in denen Arbeitsschutz gefordert ist, ist die Aura 9332+ die ideale Wahl.'}\n",
            "{'id': '098ebc46-8d0d-4cef-92f1-025bccbef967', 'enhanced_description': 'Der 3M™ E-A-R™ Bügelgehörschutz 1310 bietet mit einem SNR-Wert von 26 dB effektiven Schutz vor Lärm und erhält durch sein innovatives Design eine optimale Passform sowie einen besonderen Komfort. Ausgestattet mit einem langlebigen Kunststoffkopfbügel und weichen, flexiblen Pads, passt sich dieser Gehörschutz Ihren Kiefer- und Kopfbewegungen an und kann wahlweise hinter dem Kopf oder unter dem Kinn getragen werden, sodass die Kompatibilität mit weiterer Schutzkleidung gewährleistet ist. Dank des geringen Gewichts und des minimalen Kontakts mit der Kleidung stellt der Gehörschutz auch bei längerer Tragezeit keine Belastung dar. Die Farbkombination aus Orange und Blau macht ihn zudem im Arbeitsbereich gut sichtbar. Der Gehörschutz entspricht der Norm CE EN 352-1:2001 und kommt im Lieferumfang von einem Stück.'}\n",
            "Processed 72 rows\n",
            "{'id': '04256356-8aae-46b8-acd9-af557c4697b0', 'enhanced_description': 'Das hochwertige 1 Set 3M™ Ersatzfilter 6002Rc ist perfekt geeignet für die 3M™ Mehrweg-Halbmaske 6002C und speziell konzipiert für Farbspritzarbeiten. Sie entsprechen der Schutzstufe A2P2 und bieten erweiterten Schutz gemäß den Normen EN 14387:2004+A1:2008 A2, EN140 sowie 5925 und EN 143:2000 P2 R. Die Filter vereinen Effizienz und Komfort und sind dabei so gestaltet, dass Farbdämpfe und Partikel zuverlässig gefiltert werden. Mit einem Gewicht von 0.331 kg und in der Farbe Grau, fügen sie sich nahtlos in den professionellen Arbeitsschutz ein. Sie erfüllen die höchsten Standards für Sicherheit und Benutzerfreundlichkeit bei diversen Arbeitsschutzmaßnahmen im Bereich Maschinen und Werkstatt. Besuchen Sie den angegebenen Link, um dieses essenzielle Zubehör für Ihr 3M Schutzsystem zu erwerben und betrachten Sie das Produktbild, um mehr über das Design und die Passform zu erfahren.'}\n",
            "{'id': '61b8112d-1672-44d5-a1cd-8247a958534f', 'enhanced_description': 'Diese 3M™ Filzgleiter in der Farbe Weiß und Grau bieten einen starken Schutz für Innenböden. Sie sind mit einer Selbstklebefunktion ausgestattet für eine einfache Anwendung. Der extra starke Klebstoff sorgt für eine langlebige und zuverlässige Haftung. Mit einer Packungsgröße von 12 Stück sind diese ultra widerstandsfähigen Stuhlbeingleiter ideal für den Einsatz auf unebenen Flächen, um Kratzer und Abnutzung auf Ihren Bodenbelägen zu vermeiden. Das Hauptmaterial ist hochwertiger Filz, und die Gleiter messen jeweils 2,40 cm in Länge und Tiefe sowie 2,20 cm in Breite bei einem geringen Gewicht von 0,020 kg. Insgesamt bieten diese Filzgleiter eine robuste und praktische Lösung zur Schonung Ihrer Böden im Innenbereich.'}\n",
            "Processed 74 rows\n",
            "{'id': '643c0068-953c-4638-a647-d6b55adb3e91', 'enhanced_description': 'Die 3M™ Filzgleiter ultra resistent mit einem Durchmesser von 25 mm bieten optimalen Schutz für Ihre Böden. Aus hochwertigem Filz gefertigt, sind diese Gleiter besonders robust und ideal für den Einsatz auf unebenen Untergründen. Mit ihrer selbstklebenden Eigenschaft lassen sie sich einfach und schnell an Stuhl- und Tischbeinen anbringen, ohne zusätzliches Werkzeug zu benötigen. Der extra starke Klebstoff sorgt für eine dauerhafte Haftung und langfristige Nutzung. Das Set enthält 8 Stück in einem diskreten Grau-Weiß, wodurch sie unauffällig unter Ihren Möbelstücken bleiben. Mit einem Gewicht von nur 0.017 kg und kompakten Abmessungen sind sie leicht zu handhaben und zu lagern. Vertrauen Sie auf die Qualität der Marke 3M, um Ihre Böden vor Kratzern und Abnutzung zu schützen.'}\n",
            "{'id': '2efcf2f5-cfdd-4881-a3aa-de9c25e80ade', 'enhanced_description': 'Die 3M™ Filzgleiter ultra resistent sind mit einem Durchmesser von 34 mm ideal geeignet, um Ihre Böden effektiv vor Kratzern und Abnutzung zu schützen. Diese selbstklebenden Filzgleiter sind speziell für den Innenbereich konzipiert und bieten dank eines extra starken Klebstoffs eine zuverlässige und dauerhafte Haftung. Sie sind äußerst einfach in der Anwendung und halten selbst auf unebenen Oberflächen fest. Die Gleiter sind robust gefertigt und kommen in einem praktischen 4er-Set. Ihr Gewicht beträgt nur 0.017 kg, und mit einer gleichmäßigen quadratischen Größe von 3.4 cm in Länge und Breite vereinen sie Unauffälligkeit mit Funktionalität. Die grau-weiße Farbgebung sorgt für eine dezent-visuelle Integration in Ihre Möbelstücke. Hergestellt aus Filz, einem Material bekannt für seine schützenden Eigenschaften, sind die 3M Filzgleiter eine erstklassige Wahl für den Erhalt Ihrer Bodenbeläge.'}\n",
            "Processed 76 rows\n",
            "{'id': 'ec01a3d4-849d-4dd5-a3b8-4875f6fcf3f9', 'enhanced_description': 'Die 3M™ Gehörschutzstöpsel (Modell 1271) bieten einen hervorragenden Gehörschutz von 25 Dezibel (dB) und sind mit einem praktischen Schnursystem ausgestattet. Dieses innovative 3‑Lamellen‑Design gewährleistet, dass die Stöpsel sicher und komfortabel im Ohr sitzen und sich dank des integrierten Stiels leicht platzieren lassen. Die Stöpsel kommen mit einer hygienischen Aufbewahrungstasche, die per Gürtelclip einfach zu transportieren ist, sodass Ihre Gehörschutzstöpsel stets griffbereit, sauber und sicher verwahrt sind. Ideal für Arbeitsumgebungen oder Aktivitäten, bei denen Lärmschutz unverzichtbar ist.'}\n",
            "{'id': 'b3eb5933-96a4-498a-8c82-ad41cdacd4d1', 'enhanced_description': 'Die 3M™ Hand Sanding and Power Tool Respirator 8822 Atemschutzmaske vereint hohe Funktionalität mit optimalem Tragekomfort. Ausgestattet mit dem 3M™ Cool Flow™ Ventil, minimiert diese Maske die Wärmeentwicklung und Feuchtigkeitsansammlung, was für ein angenehmes Klima innerhalb der Maske sorgt, selbst bei intensiver manueller Arbeit oder Maschinenbedienung. Die robuste und formstabile Schale passt sich nahezu jeder Gesichtsform und -größe an, was die Maske zu einem universellen Schutz für viele Anwender macht. Diese Maske entspricht den hohen europäischen Sicherheitsstandards, was durch die CE-Kennzeichnung 0086 (EN 149:2001 A1:2009 FFP2 NR D) bestätigt wird. Mit einem Gewicht von nur 0.070 kg und ihrer kompakten Maße bleibt die Bewegungsfreiheit des Trägers unbeeinträchtigt. Der Lieferumfang beinhaltet 3 Stück dieser hochwertigen Atemschutzmasken von 3M, einer Marke, die für ihre verlässlichen und effizienten Schutzprodukte anerkannt ist. Obwohl die Größe nicht verstellbar ist, bietet die durchdachte Ergonomie eine passende Lösung für die meisten Nutzer.'}\n",
            "Processed 78 rows\n",
            "{'id': '78f489f4-d608-4cdc-9aa6-27d608c23d5f', 'enhanced_description': 'Die 3M™ Komfort-Schutzbrille 2822C ist das Nonplusultra in puncto Schutz und Komfort für Ihre Augen bei sämtlichen Arbeitsumgebungen. Dank ihres modernen und exklusiven Designs bietet diese Schutzbrille nicht nur optimale Sicherheit, sondern auch einen stilvollen Look. Trotz ihres leichten Gewichts von nur 0.070 kg, schränkt die Brille Ihr Sichtfeld nicht ein und passt dank verstellbarem Gestell perfekt auf jede Kopfform. Ideal für Profis in der Werkstatt sowie für Heimwerker, gewährleistet die Brille einen zuverlässigen Schutz vor Staub, Splittern und anderen Gefahren. Die One-Size-Größe und die Flexibilität der Marke 3M garantieren ein angenehmes Tragegefühl ohne Druckstellen. Ob Maschinenarbeit oder feinmechanische Präzisionstätigkeiten – mit dieser Schutzbrille haben Sie stets klare Sicht auf Ihre Projekte.'}\n",
            "{'id': 'f6178ba2-4bd5-403c-ac48-1d6fac52e6c5', 'enhanced_description': 'Die 3M™ Partikelmaske 8822C3 FFP2 bietet zuverlässigen Schutz für Gesundheit und Sicherheit am Arbeitsplatz. Die Maske ist ideal für Arbeiten wie Handschleifen oder Umgang mit Elektrowerkzeugen, da sie zuverlässigen Schutz vor Partikeln bietet. Zu den Eigenschaften gehören die Schutzstufe FFP2 und das innovative COOL FLOW™ Ausatemventil, das einen reduzierten Wärmestau unter der Maske gewährleistet. Die Maske ist anpassbar, um eine perfekte Passform zu ermöglichen, und kommt in einer schlichten weißen Farbe. Darüber hinaus ist die Partikelmaske bequem zu tragen und einfach anzulegen. Dieses Produkt wird in einer Packung mit drei Stücken geliefert, was eine praktische Handhabe und Austauschbarkeit gewährleistet. Ob für professionelle oder DIY-Projekte, diese Atemschutzmaske von 3M ist ein wesentlicher Bestandteil der persönlichen Schutzausrüstung.'}\n",
            "Processed 80 rows\n",
            "{'id': '58080a5c-f1e5-4d09-bdb6-46c0f73e4ce5', 'enhanced_description': 'Der 3M™ Peltor™ H510Ac Kapselgehörschützer bietet erstklassigen Schutz für Ihre Ohren bei lauten Arbeiten oder in geräuschintensiven Umgebungen. Dieser Gehörschützer zeichnet sich durch seine schmalen Kapseln aus, die trotz der kompakten Form eine hohe Dämmleistung bieten. Somit wirkt der Kapselgehörschützer weniger massiv als andere Modelle und bietet gleichzeitig komfortablen und effektiven Schutz. Die Marke 3M ist bekannt für ihre qualitativ hochwertigen Produkte, die im Bereich Arbeitssicherheit keine Kompromisse eingehen. Der Kapselgehörschützer ist ein Must-Have für jeden, der seine Ohren vor dauerhaften Schäden schützen möchte, ohne auf Ästhetik und Komfort zu verzichten.'}\n",
            "{'id': 'f35a5035-20b1-44db-9a95-ca86c52ca028', 'enhanced_description': 'Sicherer Schutz für Ihr Kind: Der 3M™ Peltor™ Kid Kapselgehörschutz Kidr in lebhaftem Rosa ist speziell für empfindliche Kinderohren konzipiert und bietet mit einem SNR-Wert von 27 dB zuverlässige Dämmung gegen Lärm. Diese Gehörschutzkapseln empfehlen sich für Kinder im Alter von ca. 1 ½ bis 12 Jahren. Achten Sie darauf, dass die Gehörschützer erst verwendet werden, wenn die Fontanellen des Kindes geschlossen sind, um Schädigungen zu vermeiden. Der Kapselgehörschutz ist für wachsende Kinder dank des verstellbaren Kopfbügels anpassbar. Für Jugendliche und Erwachsene stehen Modelle mit längeren Bügeln zur Verfügung, wie die 3M PELTOR OPTIME I oder 3M PELTOR X1. Der Gehörschutz in Pink und Rosé wiegt 0.245 kg und verbindet Sicherheit mit Stil für den Nachwuchs.'}\n",
            "Processed 82 rows\n",
            "{'id': 'a37672fa-9828-4844-8172-f11644a49c25', 'enhanced_description': 'Der 3M™ Peltor™ Kid Kapselgehörschutz in leuchtendem Neongrün bietet mit einem Schalldruckdämpfungsgrad von 27 dB einen hervorragenden Gehörschutz für Kinder. Dieser verstellbare Kapselgehörschützer überzeugt durch sein geringes Gewicht von nur 0.246 kg und sorgt mit seinem auffälligen Design nicht nur für Sicherheit, sondern auch für Spaß. Perfekt geeignet für laute Umgebungen im Bereich Werkstatt und Maschinenbetrieb, schützt er die Ohren Ihres Kindes zuverlässig und bequem.'}\n",
            "{'id': '600349bc-b07d-4f11-bc88-f33643f6961f', 'enhanced_description': 'Das 3M™ Peltor™ ProTac™ III Slim Headset ist ein hochfunktionaler Gehörschutz, der modernste Technologie nutzt, um nicht nur schädlichen Lärm zu dämpfen, sondern auch das Wahrnehmen wichtiger Umgebungsgeräusche zu ermöglichen. Dieses Headset mit seinem schlanken Design bietet durch den Kopfbügel einen hohen Tragekomfort und ist ideal für langanhaltende Nutzung in Lärmbereichen. Die aktive, pegelabhängige Dämmtechnologie gewährleistet einen wirksamen Schutz vor Impulslärm wie er z.B. bei Maschinenbetrieb auftritt, während gleichzeitig eine sichere Kommunikation im Arbeitsumfeld unterstützt wird. Das schwarze Gehörschutz-Headset entspricht den CE-Normen, wiegt nur 0.490 kg und ist somit leicht und bequem zu tragen.'}\n",
            "Processed 84 rows\n",
            "{'id': 'fce5f45a-437a-491b-8947-daa4d3bf0d21', 'enhanced_description': 'Die 3M™ Schutzbrille für Handlackierarbeiten, Modell 4800C1, bietet zuverlässigen Augenschutz für Profis und Heimwerker. Mit einem Gewicht von nur 109g, klarem, antibeschlagendem Glas und einer CE/EN 166 Zertifizierung stellt diese Brille sicher, dass Ihre Sicht während der Arbeit klar und unverstellt bleibt. Die feste Form verfügt über direkte Belüftung, um Beschlagen zu minimieren und Komfort zu erhöhen, wobei die Nichtverstellbarkeit durch eine universelle Passform ausgeglichen wird. Egal ob Sie im Labor, in der Werkstatt oder beim Lackieren sind, diese Schutzbrille schützt zuverlässig vor Spritzern und anderen Gefahren. In der Farbe Klar/Transparent gehalten und im Lieferumfang mit einer Stückzahl von 1, ist sie eine essentielle Sicherheitsausrüstung für jegliche Handlackierarbeiten.'}\n",
            "{'id': '5066d0f9-f7a6-4d08-a664-e78f4aa96d24', 'enhanced_description': 'Der 3M™ Schutzhelm H700Nvg ist ein hochwertiger Basishelm, der sich ideal für vielfältige Arbeitsszenarien eignet. Mit einem praktischen Ratschensystem versehen, ermöglicht er eine fein abgestimmte Passform und gewährleistet damit einen sicheren Sitz. Das Helmmodell kommt in einem strahlenden Weiß und ist aus robustem HDPE/Polyethylen gefertigt, um eine hohe Beständigkeit und Langlebigkeit sicherzustellen. Ein Kunststoff-Schweißband trägt zur bequemen Verwendung bei. Mit einem Gewicht von nur 0.430 kg bietet der Helm Schutz ohne zu beschweren, und erfüllt die Anforderungen diverser Arbeitsumgebungen. Im Lieferumfang ist 1 Stück enthalten und dank der verstellbaren Größe kann er individuell an den Träger angepasst werden. Dieser Helm steht für eine Kombination aus Schutz, Komfort und Qualität, die von der vertrauenswürdigen Marke 3M bereitgestellt wird.'}\n",
            "Processed 86 rows\n",
            "{'id': '90424580-985e-4fea-8f39-c8d0bf9e60a0', 'enhanced_description': 'Die 3M™ Schutzpuffer sind Ihre erste Wahl, wenn es darum geht, Ihre Wände und Möbel vor Beschädigungen durch Anschlagen, Kratzern und Vibrationen zu schützen. Diese selbstklebenden Puffer haften fest auf einer Vielzahl von Oberflächen und bieten dauerhaften Halt ohne zu reißen oder zu verhärten. Sie eignen sich perfekt für den Einsatz in Haushalt, Büro oder Werkstatt. Mit ihrem extra starken Klebstoff können Sie diese Schutzpuffer einfach anbringen und darauf vertrauen, dass keine Rückstände oder Flecken zurückbleiben. Im Lieferumfang erhalten Sie 4 Stück dieser strapazierfähigen Puffer in klassischem Schwarz, gefertigt aus hochwertigem Kunststoff und Gummi. Sie sind quadratisch mit einer Kantenlänge von jeweils 10 cm und einem Gewicht von insgesamt 0.475 kg. Schützen Sie Ihre Umgebung effizient und zuverlässig mit den 3M Schutzpuffern.'}\n",
            "{'id': '3936c1c5-d526-4804-a2c2-1be91cf21cdc', 'enhanced_description': 'Die 3M™ Schutzpuffer mit einem Durchmesser von 13 mm sind höchst strapazierfähige und selbstklebende Elemente, die für ein breites Spektrum an Schutzanwendungen im Innenbereich konzipiert wurden. Sie dienen effektiv dazu, Schäden durch schlagende Türen zu vermeiden, Kratzer zu verhindern, das Verrutschen von Objekten zu minimieren und Vibrationen zu dämpfen. Mit ihrer überzeugenden Klarheit integrieren sie sich nahtlos in jedes Interieur, ohne störende Markierungen zu hinterlassen. Dank des verwendeten hochwertigen Kunststoffs bleiben die Puffer geschmeidig und werden nicht rissig oder hart. Die extra starke Klebstoffbeschichtung gewährleistet eine langanhaltende Haftung auf unterschiedlichsten Oberflächen. Im Lieferumfang sind 12 Stück enthalten, die leicht anzuwenden sind und sofort für einen zuverlässigen Schutz sorgen.'}\n",
            "Processed 88 rows\n",
            "{'id': '1990ba3e-9c96-49cc-989c-6a5758d89c07', 'enhanced_description': 'Die 3M™ Schutzpuffer mit einem Durchmesser von 19 mm sind eine unentbehrliche Ergänzung für jedes Heim, um Schäden und Lärm durch schlagende Türen effektiv zu verhindern. Diese selbstklebenden Rundpuffer sind aus hochwertigem, transparentem Kunststoff gefertigt und gewährleisten dank ihrer Langlebigkeit und dem extra starken Klebstoff einen langanhaltenden Schutz. Sie sind ideal geeignet, um Kratzer, Verrutschen und Vibration auf verschiedenen Oberflächen zu vermeiden, ohne Rückstände wie Kratzer oder Flecken zu hinterlassen. Die Puffer werden im praktischen 8er Set geliefert, sind einfach anzubringen und bleiben auch über längere Zeit weich und flexibel, ohne rissig oder hart zu werden. Mit einem Gewicht von 18 Gramm und einer Höhe von 4 mm fügen sie sich unauffällig und funktionell in den Innenbereich ein.'}\n",
            "{'id': 'aff1df51-6932-4a54-bde8-4f48010d4e0a', 'enhanced_description': 'Die 3M™ Schutzpuffer in der Größe von 21 x 21 mm sind eine effektive Lösung, um Ihre Wände und Möbel vor Schäden durch Türklinken, Vibrationen oder Verrutschen zu schützen. Diese selbstklebenden Pad sind leicht anzubringen und überzeugen durch ihr strapazierfähiges, transparentes Kunststoffmaterial, das ohne Rückstände an den meisten Oberflächen haftet und dabei keine Kratzer oder Flecken hinterlässt. Sie sind witterungsbeständig und behalten ihre Form, ohne rissig oder hart zu werden. Mit dem extra starken Klebstoff bieten die 3M Schutzpuffer einen lang anhaltenden Halt. Das Set enthält 6 Stück und eignet sich hervorragend für den Innenbereich, um empfindliche Flächen effektiv zu schützen.'}\n",
            "Processed 90 rows\n",
            "{'id': 'faf5f26d-1132-4d72-964c-0d18107c0d03', 'enhanced_description': 'Die 3M™ Schutzpuffer in der Größe 21 x 21 mm bieten eine zuverlässige Lösung zum Schutz von Wänden, Möbeln und weiteren Oberflächen vor Schäden durch schlagende Türen und Kratzern. Sie eignen sich hervorragend zum Minimieren von Verrutschen und Dämpfen von Vibrationen. Diese Puffer sind selbstklebend, was eine einfache Anwendung ermöglicht. Sie sind aus einem sehr strapazierfähigen Kunststoffmaterial gefertigt, das keine Kratzer oder Flecken hinterlässt, nicht rissig oder hart wird und mit extra starkem Klebstoff befestigt wird. Dieses Produkt wird in einem Pack mit 6 Stück geliefert und eignet sich bestens für den Innenbereich – ideal für Haushalte, Büros und überall dort, wo ein unauffälliger Schutz erforderlich ist.'}\n",
            "{'id': '92bed962-b044-4986-8557-6ceb605db873', 'enhanced_description': 'Die 3M™ Schutzpuffer mit einem Durchmesser von 22 mm bieten eine transparente Lösung zum Schutz Ihrer Oberflächen. Diese selbstklebenden Puffer sind ideal, um Schäden durch schlagende Türen oder Möbelstücke zu verhindern und sorgen gleichzeitig dafür, dass Objekte nicht verrutschen oder durch Vibration beschädigt werden. Sie sind aus einem hoch strapazierfähigen Kunststoff gefertigt, der weder rissig noch hart wird, und sind mit einem extra starken Klebstoff versehen, der keine Kratzer oder Flecken hinterlässt. Mit einer Packung erhalten Sie 4 Stück der Schutzpuffer, die sowohl im Innenbereich als auch auf verschiedenen Oberflächen eingesetzt werden können, ohne Rückstände zu hinterlassen.'}\n",
            "Processed 92 rows\n",
            "{'id': 'ac51e1d4-0653-48ad-9791-d5340e4fbab5', 'enhanced_description': 'Die 3M™ Schutzpuffer mit einem Durchmesser von 22 mm in elegantem Weiß bieten eine effektive Lösung zum Schutz Ihrer Wände und Möbel vor Schäden durch schlagende Türen oder Verrutschen von Gegenständen. Diese Schutzpuffer sind selbstklebend und daher leicht anzubringen. Sie sind aus hochstrapazierfähigem Kunststoff gefertigt, der weder rissig noch hart wird, sodass sie langfristig Schutz bieten, ohne Spuren auf den Oberflächen zu hinterlassen. Mit extra starkem Klebstoff ausgestattet, gewährleisten diese Puffer zudem eine zuverlässige Haftung auf verschiedenen Oberflächen im Innenbereich. Im Lieferumfang sind 4 Stück enthalten, was eine vielseitige Nutzung für diverse Anwendungen erlaubt.'}\n",
            "{'id': 'c8a0464a-5c5c-424f-b317-780ec5ecd70b', 'enhanced_description': 'Die 3M™ Schutzpuffer sind ein unverzichtbarer Begleiter im Haushalt zum Schutz Ihrer Möbel und Oberflächen. Diese 8 mm Puffer sind selbstklebend, einfach anzubringen und bieten einen effektiven Schutz vor Kratzern, Vibrationen, Rutschen und dem Einschlagen von Türen. Mit einer Größe von 0,8 cm bieten sie eine dezente Lösung, die keine Rückstände hinterlässt, nicht rissig oder hart wird und über einen extra starken Klebstoff verfügt. Die zuverlässige Qualität der Marke 3M garantiert eine hohe Strapazierfähigkeit dieser transparenten Kunststoffschutzpuffer. Im Lieferumfang enthalten sind 16 Stück, die vielfältige Anwendung in Ihrem Zuhause finden werden, ohne die Optik zu stören.'}\n",
            "Processed 94 rows\n",
            "{'id': '9a773d6c-916e-415f-83f6-5d000fcd6ad6', 'enhanced_description': 'Die 3M™ SecureFit™ 400 Schutzbrille Sf401As/Af ist Ihre zuverlässige Wahl für Augenschutz in der Werkstatt oder am Arbeitsplatz. Mit ihrem rahmenlosen Design und der revolutionären Bügeldruckverteilungstechnologie sorgt diese Schutzbrille für einen ausgeglichenen Druck auf den Schläfen und Ohren, was sie unglaublich komfortabel macht, selbst bei längerer Tragedauer. Die Gläser aus hochwertigem Polycarbonat bieten exzellente Klarheit und Schutz vor Schadstoffen. Sie erfüllt die Sicherheitsnorm CE / EN 166, garantiert also höchste Sicherheitsstandards für den Augenschutz. Nicht verstellbar, aber mit einem Gewicht von nur 63 g ist sie leicht genug, um sie den ganzen Tag zu tragen, ohne dass sie zur Last wird. Diese Schutzbrille ist eine kluge Investition für jeden, der den besten Augenschutz ohne Abstriche bei Komfort und Haltbarkeit sucht.'}\n",
            "{'id': 'f56e1fc9-53a8-46cb-81bd-d9d7e562a945', 'enhanced_description': 'Die 3M™ Sliders Sp63A17 Möbelgleiter in Grau ermöglichen es Ihnen, Möbelstücke jeglichen Gewichts mühelos zu verschieben. Dank der speziellen Vertiefungen auf der Oberfläche wird die Gleitfähigkeit um über 50% verbessert. Diese Möbelgleiter sind aus einem äußerst widerstandsfähigen Polymer gefertigt, das für seine Langlebigkeit bekannt ist. Mit ihrem extra starken Klebstoff gewährleisten die 16 Gleiter mit einem Durchmesser von jeweils 17 mm eine sichere und dauerhafte Haftung auf unterschiedlichsten Untergründen. Der Lieferumfang beinhaltet insgesamt 24 Stück dieser praktischen Helfer. Verlassen Sie sich auf die Qualität der Marke 3M für ein leichteres Umgestalten Ihrer Wohnräume.'}\n",
            "Processed 96 rows\n",
            "{'id': '2f760dc9-5309-4ddf-819e-7ce56330fb95', 'enhanced_description': 'Die 3M™ Solus™ 1000 Schutzbrille kombiniert Funktionalität mit modischem Design und ist die perfekte Ausrüstung für die Arbeit in rauer Umgebung sowie für Heimwerkerprojekte. Der dünne Rahmen macht sie leicht und die weichen Komponenten am Schläfenbereich erhöhen den Tragekomfort auch bei längerer Nutzung. Die Schutzbrille besticht durch ihre modernen Farbakzente und ihr stilvolles Aussehen, welches auch die Sicherheitsbekleidung optisch aufwertet. Eine der herausragendsten Eigenschaften ist die 3M™ Scotchgard™ Antibeschlag-Beschichtung, die nicht nur das Beschlagen der Brille verhindert, sondern auch vor Kratzern schützt und somit für eine klare Sicht sorgt. Das widerstandsfähige Polycarbonatglas der Brille bietet exzellente Stoßfestigkeit und Sicherheit, und die weichen Nasenbügel sorgen für zusätzlichen Komfort. Obwohl nicht größenverstellbar, garantiert das intelligente Design der Schutzbrille Passgenauigkeit und dauerhaften Schutz. Mit einem Gewicht von nur 0,107 kg und in der Farbe Transparent/Klar gehalten, ist sie leicht und unaufdringlich. Im Lieferumfang ist ein Stück enthalten.'}\n",
            "{'id': 'c246da9f-581d-4d2f-8cf2-f8734e83cb1e', 'enhanced_description': 'Die 3M™ Spezialmaske 9922 bietet zuverlässigen Ffp2 Schutz und ist ideal für Arbeitsumgebungen mit Ozon oder organischen Gasen unterhalb des Grenzwertes. Ausgestattet mit einem Cool-Flow Ausatemventil unterstützt sie ein angenehmes Atmen, indem sie die Wärme- und Feuchtigkeitsbildung reduziert. Die robuste, formstabile Schale passt sich leicht an verschiedene Gesichtsformen und -größen an, ohne Komfort einzubüßen. Mit europäischen Normen übereinstimmend (CE-Kennzeichnung 0086, EN 149:2001 A1:2009 FFP2 NR D), gewährleistet die Maske Sicherheit bis zum 10-fachen des Arbeitsplatzgrenzwertes. Darüber hinaus kommt sie in einem praktischen 2-Stück-Pack und in ansprechender grauer Farbe, was sie sowohl funktionell als auch optisch zu einer guten Wahl für professionellen Arbeitsschutz macht.'}\n",
            "Processed 98 rows\n",
            "{'id': 'e3d62afe-3aae-4e15-b983-e9ee01c134aa', 'enhanced_description': 'Die 3M™ Visitore Überbrille klar ist ein vielseitiger Augenschutz für Besucher und Arbeiter in Umgebungen, wo die Augen vor Staub, Splittern oder Flüssigkeitsspritzern geschützt werden müssen. Diese Überbrille zeichnet sich durch klare Polycarbonat-Scheiben aus, welche hervorragende Sichtbarkeit und Schutz gewährleisten. Der Rahmen ist transparent, ergonomisch gestaltet und so konzipiert, dass die Überbrille komfortabel über die meisten Korrektionsbrillen passt. Ideal für den Einsatz in Werkstätten, Laboren oder auf Baustellen, bietet diese Überbrille von der renommierten Marke 3M eine praktische und effektive Lösung, um die Sicherheitsstandards am Arbeitsplatz einzuhalten.'}\n",
            "{'id': '497bc0ba-81ee-4423-93c6-c10f410eac91', 'enhanced_description': 'Die 3M™ Wollfilzgleiter sind die ideale Lösung, um Ihre Böden im Innenbereich vor Kratzern und Abnutzungen zu schützen. Diese extra weichen Gleiter sind aus hochwertigem Wollfilz gefertigt und sorgen für eine sanfte und schonende Handhabung auf glatten Oberflächen. Mit einer Größe von 215 x 80 mm sind sie vielseitig einsetzbar und dank der selbstklebenden Unterseite besonders leicht anzubringen. Der extra starke Klebstoff garantiert eine langanhaltende Haftung. Ob für Stuhlbeine oder Kleinmöbel, diese Gleiter bieten einen zuverlässigen Schutz für Ihre Böden, wobei die beige Farbe eine dezente Optik gewährt. Im Lieferumfang ist 1 Stück enthalten, mit einem Gewicht von nur 0.045 kg, was die Handhabung und Installation zu einem Kinderspiel macht.'}\n",
            "                                     id          GTIN  external_id  \\\n",
            "0  39b782de-7aa7-4598-aafd-e6770a2eaaa0  5.761020e+13      6104950   \n",
            "1  68f8dd55-4c90-4f74-8547-78e34eb977ed  3.100350e+12      6336316   \n",
            "2  bb52940b-1f40-48f5-9413-db97a48b3187  8.423220e+12      6899264   \n",
            "3  ae10152f-39d0-428d-bcbe-86b5b637a29b  7.627540e+12      7100535   \n",
            "4  8364f617-ff56-4b79-88b9-4e4113c5db27  4.006890e+12      4813481   \n",
            "\n",
            "                                                 URL  \\\n",
            "0  https://www.jumbo.ch/maschinen-werkstatt/bekle...   \n",
            "1  https://www.jumbo.ch/maschinen-werkstatt/besch...   \n",
            "2  https://www.jumbo.ch/maschinen-werkstatt/besch...   \n",
            "3  https://www.jumbo.ch/hobby-sport/autozubehoer/...   \n",
            "4  https://www.jumbo.ch/maschinen-werkstatt/werks...   \n",
            "\n",
            "                                                Bild  \\\n",
            "0  https://www.jumbo.ch/img/products/402Wx268H/61...   \n",
            "1  https://www.jumbo.ch/img/products/402Wx268H/63...   \n",
            "2  https://www.jumbo.ch/img/products/402Wx268H/68...   \n",
            "3  https://www.jumbo.ch/img/products/402Wx268H/71...   \n",
            "4  https://www.jumbo.ch/img/products/402Wx268H/48...   \n",
            "\n",
            "                                               Titel  \\\n",
            "0  . . . 3M™ Mehrweg-Halbmaske mit Wechselfiltern...   \n",
            "1  . . . 3M™ Sliders Sp62N14, Möbelgleiter braun ...   \n",
            "2                  .Moebelknoepf Segelboot, 54X81 MM   \n",
            "3               0ecoplan Auto-Scheibenreiniger 500Ml   \n",
            "4                                 1 Lochwand Step II   \n",
            "\n",
            "                                        Beschreibung  \\\n",
            "0  Effektiver Schutz: Die 3M™ Farbspritz-Mehrwegm...   \n",
            "1  Möbel mühelos verschieben, auch schwere Stücke...   \n",
            "2                                                NaN   \n",
            "3                                                NaN   \n",
            "4  Praktische und einfache Aufbewahrung von Werkz...   \n",
            "\n",
            "                                       Eigenschaften      Marke  Kategorie  \\\n",
            "0  Wiederverwendbare Atemschutzmaske für Farbspri...         3M    40603.0   \n",
            "1                            Extra starker Klebstoff         3M  4050304.0   \n",
            "2                                                NaN        NaN  4050110.0   \n",
            "3                                                NaN   Oecoplan  8070102.0   \n",
            "4                               Belastbar bis 50 kg.  Wolfcraft  4030201.0   \n",
            "\n",
            "   ...  Anzahl Batterien Batterien enthalten Starthilfestrom in Ah  \\\n",
            "0  ...               NaN                 NaN                   NaN   \n",
            "1  ...               NaN                 NaN                   NaN   \n",
            "2  ...               NaN                 NaN                   NaN   \n",
            "3  ...               NaN                 NaN                   NaN   \n",
            "4  ...               NaN                 NaN                   NaN   \n",
            "\n",
            "  Schwierigkeitsgrad Produktfarbe NF Optik Laub Rosentyp Züchter Blueten  \n",
            "0                NaN             NaN   NaN  NaN      NaN     NaN     NaN  \n",
            "1                NaN             NaN   NaN  NaN      NaN     NaN     NaN  \n",
            "2                NaN             NaN   NaN  NaN      NaN     NaN     NaN  \n",
            "3                NaN             NaN   NaN  NaN      NaN     NaN     NaN  \n",
            "4                NaN             NaN   NaN  NaN      NaN     NaN     NaN  \n",
            "\n",
            "[5 rows x 443 columns]\n"
          ]
        }
      ],
      "source": [
        "from openai import OpenAI\n",
        "from dotenv import dotenv_values\n",
        "\n",
        "updated_df = df.copy()\n",
        "\n",
        "client = OpenAI(\n",
        "    api_key=dotenv_values(\".env\")[\"OPENAI_API_KEY\"],\n",
        ")\n",
        "result_array = []\n",
        "result_df = pd.DataFrame(columns=[\"result\"])\n",
        "\n",
        "new_df = pd.DataFrame(columns=[\"id\", \"enhanced_description\"])\n",
        "for i in range(0,100):\n",
        "    json_string = json_objects[i]\n",
        "    prompt = f\"\"\"\n",
        "            Erstellen Sie eine überzeugende und genaue Produktbeschreibung für jedes der Produkte, die in der untenstehenden JSON-Datenstruktur bereitgestellt werden. Diese Beschreibung sollte in der Ausgabe enthalten sein.\n",
        "\n",
        "            Die Ausgabe sollte ein JSON-Array sein, das nur aus den ursprünglichen id und den aktualisierten Beschreibung Feldern für jedes Produkt besteht.\n",
        "            ===\n",
        "            {json_string}\n",
        "            \"\"\"\n",
        "    \n",
        "    result = client.chat.completions.create(\n",
        "        messages=[\n",
        "            {\n",
        "                \"role\": \"user\",\n",
        "                \"content\": prompt,\n",
        "            }\n",
        "        ],\n",
        "        model=\"gpt-4-1106-preview\"\n",
        "    )\n",
        "    string = result.choices[0].message.content\n",
        "    start_index = string.find('{')\n",
        "\n",
        "    # Find the position of the last '}'\n",
        "    end_index = string.rfind('}')\n",
        "\n",
        "    # Check if both characters are found\n",
        "    if start_index != -1 and end_index != -1:\n",
        "        json_obj = (json.loads(string[start_index:end_index+1]))\n",
        "        better_description = {'id': json_obj['id'], 'enhanced_description': json_obj['Beschreibung']}\n",
        "        new_df.loc[len(new_df)] = better_description\n",
        "        if i % 2 == 0:\n",
        "            print(f\"Processed {i} rows\")\n",
        "            # save the updated dataframe to a csv file\n",
        "            new_df.to_csv(\"updated_product_data.csv\", index=False)\n",
        "        print(better_description)\n",
        "        \n",
        "print(updated_df.head())"
      ]
    },
    {
      "cell_type": "code",
      "execution_count": 112,
      "metadata": {},
      "outputs": [
        {
          "name": "stdout",
          "output_type": "stream",
          "text": [
            "[{'id': '39b782de-7aa7-4598-aafd-e6770a2eaaa0', 'Beschreibung': 'Die 3M™ Mehrweg-Halbmaske mit Wechselfiltern 6002C ist eine robuste und vielseitige Schutzausrüstung für anspruchsvolle Arbeitsumgebungen. Geeignet für Farbspritz- und Maschinenschleifarbeiten sowie andere Tätigkeiten mit organischen Gasen und Dämpfen, bietet die Maske Schutz der Stufe A2 gegen organische Dämpfe wie Lösemittel sowie P2 Schutz gegen Feinstaub und Öl- oder Wasserdämpfe. Die wiederverwendbare Maske zeichnet sich durch ihr Doppel-Einatemventil aus, das eine verbesserte Atmungsaktivität und einen reduzierten Atemwiderstand im Vergleich zu Einzelfiltermasken ermöglicht. Der Bajonett-Klick-Verschluss erlaubt einen einfachen Filterwechsel und ist kompatibel mit einer Vielzahl von Filtern. Die Einheitsgröße und die Eigenschaften entsprechen den Normen EN 140:1998, 6055: EN 14387:2004 A1:2008 A2 und 5925: EN 143:2000 P2 R, was eine hohe Zuverlässigkeit und Sicherheit gewährleistet. Mit einem Gewicht von nur 0.412 kg und in der Farbe Grau ist die Maske ein essentieller Bestandteil der persönlichen Schutzausrüstung beim Umgang mit gefährlichen Stoffen.'}, {'id': '8364f617-ff56-4b79-88b9-4e4113c5db27', 'Beschreibung': 'Die 1 Lochwand Step II von Wolfcraft ist der perfekte Organisator für jede Werkstatt. Hergestellt aus robustem Stahlblech und Aluminium, bietet die Lochwand eine tragfähige und langlebige Möglichkeit, Werkzeuge übersichtlich und immer griffbereit an der Wand zu befestigen. Dieses einfache Aufbewahrungssystem kann bis zu 50 kg tragen und kommt inklusive aller notwendigen Systemhaken sowie Befestigungsmaterial, um direkt mit der Einrichtung loszulegen. Die Lochwand misst in ihrer Höhe 50 cm und in der Breite 96 cm, was ausreichend Raum für eine Vielzahl von Werkzeugen bietet. Mit einem Gewicht von nur 5 kg lässt sie sich leicht manövrieren und installieren. Die Farbkombination aus Grau und Silber fügt sich nahtlos in jede Werkstattumgebung ein. Der Lieferumfang umfasst 1 Stück der Lochwand Step II.'}]\n"
          ]
        }
      ],
      "source": [
        "enhanced_results = []\n",
        "for item in result_array:\n",
        "    string = item.choices[0].message.content\n",
        "    start_index = string.find('{')\n",
        "\n",
        "    # Find the position of the last '}'\n",
        "    end_index = string.rfind('}')\n",
        "\n",
        "    # Check if both characters are found\n",
        "    if start_index != -1 and end_index != -1:\n",
        "        enhanced_results.append(json.loads(string[start_index:end_index+1]))\n",
        "    \n",
        "\n",
        "print(enhanced_results)"
      ]
    },
    {
      "cell_type": "code",
      "execution_count": 115,
      "metadata": {},
      "outputs": [
        {
          "name": "stdout",
          "output_type": "stream",
          "text": [
            "{'39b782de-7aa7-4598-aafd-e6770a2eaaa0': 'Die 3M™ Mehrweg-Halbmaske mit Wechselfiltern 6002C ist eine robuste und vielseitige Schutzausrüstung für anspruchsvolle Arbeitsumgebungen. Geeignet für Farbspritz- und Maschinenschleifarbeiten sowie andere Tätigkeiten mit organischen Gasen und Dämpfen, bietet die Maske Schutz der Stufe A2 gegen organische Dämpfe wie Lösemittel sowie P2 Schutz gegen Feinstaub und Öl- oder Wasserdämpfe. Die wiederverwendbare Maske zeichnet sich durch ihr Doppel-Einatemventil aus, das eine verbesserte Atmungsaktivität und einen reduzierten Atemwiderstand im Vergleich zu Einzelfiltermasken ermöglicht. Der Bajonett-Klick-Verschluss erlaubt einen einfachen Filterwechsel und ist kompatibel mit einer Vielzahl von Filtern. Die Einheitsgröße und die Eigenschaften entsprechen den Normen EN 140:1998, 6055: EN 14387:2004 A1:2008 A2 und 5925: EN 143:2000 P2 R, was eine hohe Zuverlässigkeit und Sicherheit gewährleistet. Mit einem Gewicht von nur 0.412 kg und in der Farbe Grau ist die Maske ein essentieller Bestandteil der persönlichen Schutzausrüstung beim Umgang mit gefährlichen Stoffen.', '8364f617-ff56-4b79-88b9-4e4113c5db27': 'Die 1 Lochwand Step II von Wolfcraft ist der perfekte Organisator für jede Werkstatt. Hergestellt aus robustem Stahlblech und Aluminium, bietet die Lochwand eine tragfähige und langlebige Möglichkeit, Werkzeuge übersichtlich und immer griffbereit an der Wand zu befestigen. Dieses einfache Aufbewahrungssystem kann bis zu 50 kg tragen und kommt inklusive aller notwendigen Systemhaken sowie Befestigungsmaterial, um direkt mit der Einrichtung loszulegen. Die Lochwand misst in ihrer Höhe 50 cm und in der Breite 96 cm, was ausreichend Raum für eine Vielzahl von Werkzeugen bietet. Mit einem Gewicht von nur 5 kg lässt sie sich leicht manövrieren und installieren. Die Farbkombination aus Grau und Silber fügt sich nahtlos in jede Werkstattumgebung ein. Der Lieferumfang umfasst 1 Stück der Lochwand Step II.'}\n"
          ]
        }
      ],
      "source": [
        "better_descriptions = {item['id']: item['Beschreibung'] for item in enhanced_results}\n",
        "\n",
        "print(better_descriptions)"
      ]
    },
    {
      "cell_type": "code",
      "execution_count": 119,
      "metadata": {
        "id": "CSVZz7AGTtEB"
      },
      "outputs": [
        {
          "name": "stdout",
          "output_type": "stream",
          "text": [
            "                                     id          GTIN  external_id  \\\n",
            "0  39b782de-7aa7-4598-aafd-e6770a2eaaa0  5.761020e+13      6104950   \n",
            "1  68f8dd55-4c90-4f74-8547-78e34eb977ed  3.100350e+12      6336316   \n",
            "2  bb52940b-1f40-48f5-9413-db97a48b3187  8.423220e+12      6899264   \n",
            "3  ae10152f-39d0-428d-bcbe-86b5b637a29b  7.627540e+12      7100535   \n",
            "4  8364f617-ff56-4b79-88b9-4e4113c5db27  4.006890e+12      4813481   \n",
            "\n",
            "                                                 URL  \\\n",
            "0  https://www.jumbo.ch/maschinen-werkstatt/bekle...   \n",
            "1  https://www.jumbo.ch/maschinen-werkstatt/besch...   \n",
            "2  https://www.jumbo.ch/maschinen-werkstatt/besch...   \n",
            "3  https://www.jumbo.ch/hobby-sport/autozubehoer/...   \n",
            "4  https://www.jumbo.ch/maschinen-werkstatt/werks...   \n",
            "\n",
            "                                                Bild  \\\n",
            "0  https://www.jumbo.ch/img/products/402Wx268H/61...   \n",
            "1  https://www.jumbo.ch/img/products/402Wx268H/63...   \n",
            "2  https://www.jumbo.ch/img/products/402Wx268H/68...   \n",
            "3  https://www.jumbo.ch/img/products/402Wx268H/71...   \n",
            "4  https://www.jumbo.ch/img/products/402Wx268H/48...   \n",
            "\n",
            "                                               Titel  \\\n",
            "0  . . . 3M™ Mehrweg-Halbmaske mit Wechselfiltern...   \n",
            "1  . . . 3M™ Sliders Sp62N14, Möbelgleiter braun ...   \n",
            "2                  .Moebelknoepf Segelboot, 54X81 MM   \n",
            "3               0ecoplan Auto-Scheibenreiniger 500Ml   \n",
            "4                                 1 Lochwand Step II   \n",
            "\n",
            "                                        Beschreibung  \\\n",
            "0  Effektiver Schutz: Die 3M™ Farbspritz-Mehrwegm...   \n",
            "1  Möbel mühelos verschieben, auch schwere Stücke...   \n",
            "2                                                NaN   \n",
            "3                                                NaN   \n",
            "4  Praktische und einfache Aufbewahrung von Werkz...   \n",
            "\n",
            "                                       Eigenschaften      Marke  Kategorie  \\\n",
            "0  Wiederverwendbare Atemschutzmaske für Farbspri...         3M    40603.0   \n",
            "1                            Extra starker Klebstoff         3M  4050304.0   \n",
            "2                                                NaN        NaN  4050110.0   \n",
            "3                                                NaN   Oecoplan  8070102.0   \n",
            "4                               Belastbar bis 50 kg.  Wolfcraft  4030201.0   \n",
            "\n",
            "   ...  Batterien enthalten Starthilfestrom in Ah Schwierigkeitsgrad  \\\n",
            "0  ...                  NaN                   NaN                NaN   \n",
            "1  ...                  NaN                   NaN                NaN   \n",
            "2  ...                  NaN                   NaN                NaN   \n",
            "3  ...                  NaN                   NaN                NaN   \n",
            "4  ...                  NaN                   NaN                NaN   \n",
            "\n",
            "  Produktfarbe NF Optik Laub Rosentyp Züchter Blueten  \\\n",
            "0             NaN   NaN  NaN      NaN     NaN     NaN   \n",
            "1             NaN   NaN  NaN      NaN     NaN     NaN   \n",
            "2             NaN   NaN  NaN      NaN     NaN     NaN   \n",
            "3             NaN   NaN  NaN      NaN     NaN     NaN   \n",
            "4             NaN   NaN  NaN      NaN     NaN     NaN   \n",
            "\n",
            "                                enhanced_description  \n",
            "0  Die 3M™ Mehrweg-Halbmaske mit Wechselfiltern 6...  \n",
            "1                                                NaN  \n",
            "2                                                NaN  \n",
            "3                                                NaN  \n",
            "4  Die 1 Lochwand Step II von Wolfcraft ist der p...  \n",
            "\n",
            "[5 rows x 444 columns]\n"
          ]
        }
      ],
      "source": [
        "\n",
        "\n",
        "# Update the descriptions in a new data frame\n",
        "updated_df = df.copy()\n",
        "\n",
        "updated_df['enhanced_description'] = updated_df['id'].map(better_descriptions)\n",
        "\n",
        "print(updated_df.head())\n"
      ]
    },
    {
      "cell_type": "code",
      "execution_count": null,
      "metadata": {
        "id": "WTob6EK0YCQr"
      },
      "outputs": [],
      "source": [
        "# Create a new series containing the product description lengths\n",
        "updated_num_chars_in_description = get_num_chars_in_description(updated_df)\n",
        "\n",
        "# Calculate how many rows are now under the threshold\n",
        "print(get_rows_under_threshold(updated_num_chars_in_description, threshold).shape[0])"
      ]
    },
    {
      "cell_type": "markdown",
      "metadata": {
        "id": "YBLue2XGn8LR"
      },
      "source": [
        "Finally, let's plot our result!"
      ]
    },
    {
      "cell_type": "code",
      "execution_count": null,
      "metadata": {
        "id": "qsVKtYwZiKz4"
      },
      "outputs": [],
      "source": [
        "# Define the bin width and xlimit\n",
        "bin_width = 10\n",
        "xlim_left = 60\n",
        "xlim_right = 120\n",
        "\n",
        "# Create two histograms\n",
        "fig, ax = plt.subplots()\n",
        "ax.hist(num_chars_in_description, bins=np.arange(0, xlim_right + bin_width, bin_width), alpha=0.5, label='Original')\n",
        "ax.hist(updated_num_chars_in_description, bins=np.arange(0, xlim_right + bin_width, bin_width), alpha=0.5, label='Updated')\n",
        "\n",
        "# Set the x-axis limits\n",
        "ax.set_xlim(xlim_left, xlim_right)\n",
        "\n",
        "# Add a legend\n",
        "ax.legend()\n",
        "\n",
        "# Set the title and labels\n",
        "ax.set_title('Product Description Length')\n",
        "ax.set_xlabel('Number of Characters')\n",
        "ax.set_ylabel('Frequency')\n",
        "\n",
        "# Show the plot\n",
        "plt.show()\n"
      ]
    },
    {
      "cell_type": "markdown",
      "metadata": {
        "id": "vnKzQMX7nHUf"
      },
      "source": [
        "Thanks for walking through this tutorial. I hope you've learned some new things, and enjoyed the experience!"
      ]
    }
  ],
  "metadata": {
    "colab": {
      "provenance": []
    },
    "kernelspec": {
      "display_name": "Python 3",
      "name": "python3"
    },
    "language_info": {
      "codemirror_mode": {
        "name": "ipython",
        "version": 3
      },
      "file_extension": ".py",
      "mimetype": "text/x-python",
      "name": "python",
      "nbconvert_exporter": "python",
      "pygments_lexer": "ipython3",
      "version": "3.11.6"
    }
  },
  "nbformat": 4,
  "nbformat_minor": 0
}
