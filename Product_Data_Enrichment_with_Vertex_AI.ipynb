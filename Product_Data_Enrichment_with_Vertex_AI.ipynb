{
  "cells": [
    {
      "cell_type": "code",
      "execution_count": null,
      "metadata": {
        "id": "qk95204JX-c7"
      },
      "outputs": [],
      "source": [
        "# Copyright 2023 Google LLC\n",
        "#\n",
        "# Licensed under the Apache License, Version 2.0 (the \"License\");\n",
        "# you may not use this file except in compliance with the License.\n",
        "# You may obtain a copy of the License at\n",
        "#\n",
        "#     https://www.apache.org/licenses/LICENSE-2.0\n",
        "#\n",
        "# Unless required by applicable law or agreed to in writing, software\n",
        "# distributed under the License is distributed on an \"AS IS\" BASIS,\n",
        "# WITHOUT WARRANTIES OR CONDITIONS OF ANY KIND, either express or implied.\n",
        "# See the License for the specific language governing permissions and\n",
        "# limitations under the License."
      ]
    },
    {
      "cell_type": "markdown",
      "metadata": {
        "id": "hj20Ixwkd4jU"
      },
      "source": [
        "# Overview\n",
        "\n",
        "This notebook demonstrates how to enrich your data using Generative AI with Vertex AI on Google Cloud.\n",
        "\n",
        "The specific example is a retail use case for improving product description metadata. Better product descriptions lead to more user engagement and higher conversion rates.\n",
        "\n",
        "\n",
        "The workflow includes:\n",
        "* Importing the data\n",
        "* Analyzing the product metadata\n",
        "* Enriching the data with an LLM\n",
        "* Updating the data"
      ]
    },
    {
      "cell_type": "markdown",
      "metadata": {
        "id": "rSCowhwJopyI"
      },
      "source": [
        "# Getting Started"
      ]
    },
    {
      "cell_type": "code",
      "execution_count": 9,
      "metadata": {
        "id": "9rp8GGz-ongv"
      },
      "outputs": [
        {
          "name": "stdout",
          "output_type": "stream",
          "text": [
            "Requirement already satisfied: openai in ./env/lib/python3.11/site-packages (1.3.5)\n",
            "Requirement already satisfied: pandas in ./env/lib/python3.11/site-packages (2.1.3)\n",
            "Requirement already satisfied: python-dotenv in ./env/lib/python3.11/site-packages (1.0.0)\n",
            "Collecting matplotlib\n",
            "  Downloading matplotlib-3.8.2-cp311-cp311-macosx_11_0_arm64.whl.metadata (5.8 kB)\n",
            "Requirement already satisfied: numpy in ./env/lib/python3.11/site-packages (1.26.2)\n",
            "Collecting scipy\n",
            "  Downloading scipy-1.11.4-cp311-cp311-macosx_12_0_arm64.whl.metadata (165 kB)\n",
            "\u001b[2K     \u001b[38;2;114;156;31m━━━━━━━━━━━━━━━━━━━━━━━━━━━━━━━━━━━━━━━\u001b[0m \u001b[32m165.4/165.4 kB\u001b[0m \u001b[31m3.3 MB/s\u001b[0m eta \u001b[36m0:00:00\u001b[0m[31m3.7 MB/s\u001b[0m eta \u001b[36m0:00:01\u001b[0m\n",
            "\u001b[?25hRequirement already satisfied: anyio<4,>=3.5.0 in ./env/lib/python3.11/site-packages (from openai) (3.7.1)\n",
            "Requirement already satisfied: distro<2,>=1.7.0 in ./env/lib/python3.11/site-packages (from openai) (1.8.0)\n",
            "Requirement already satisfied: httpx<1,>=0.23.0 in ./env/lib/python3.11/site-packages (from openai) (0.25.2)\n",
            "Requirement already satisfied: pydantic<3,>=1.9.0 in ./env/lib/python3.11/site-packages (from openai) (2.5.2)\n",
            "Requirement already satisfied: tqdm>4 in ./env/lib/python3.11/site-packages (from openai) (4.66.1)\n",
            "Requirement already satisfied: typing-extensions<5,>=4.5 in ./env/lib/python3.11/site-packages (from openai) (4.8.0)\n",
            "Requirement already satisfied: python-dateutil>=2.8.2 in ./env/lib/python3.11/site-packages (from pandas) (2.8.2)\n",
            "Requirement already satisfied: pytz>=2020.1 in ./env/lib/python3.11/site-packages (from pandas) (2023.3.post1)\n",
            "Requirement already satisfied: tzdata>=2022.1 in ./env/lib/python3.11/site-packages (from pandas) (2023.3)\n",
            "Collecting contourpy>=1.0.1 (from matplotlib)\n",
            "  Downloading contourpy-1.2.0-cp311-cp311-macosx_11_0_arm64.whl.metadata (5.8 kB)\n",
            "Collecting cycler>=0.10 (from matplotlib)\n",
            "  Downloading cycler-0.12.1-py3-none-any.whl.metadata (3.8 kB)\n",
            "Collecting fonttools>=4.22.0 (from matplotlib)\n",
            "  Downloading fonttools-4.45.1-cp311-cp311-macosx_10_9_universal2.whl.metadata (155 kB)\n",
            "\u001b[2K     \u001b[38;2;114;156;31m━━━━━━━━━━━━━━━━━━━━━━━━━━━━━━━━━━━━━━━\u001b[0m \u001b[32m155.2/155.2 kB\u001b[0m \u001b[31m9.2 MB/s\u001b[0m eta \u001b[36m0:00:00\u001b[0m\n",
            "\u001b[?25hCollecting kiwisolver>=1.3.1 (from matplotlib)\n",
            "  Downloading kiwisolver-1.4.5-cp311-cp311-macosx_11_0_arm64.whl.metadata (6.4 kB)\n",
            "Requirement already satisfied: packaging>=20.0 in ./env/lib/python3.11/site-packages (from matplotlib) (23.2)\n",
            "Collecting pillow>=8 (from matplotlib)\n",
            "  Downloading Pillow-10.1.0-cp311-cp311-macosx_11_0_arm64.whl.metadata (9.5 kB)\n",
            "Collecting pyparsing>=2.3.1 (from matplotlib)\n",
            "  Downloading pyparsing-3.1.1-py3-none-any.whl.metadata (5.1 kB)\n",
            "Requirement already satisfied: idna>=2.8 in ./env/lib/python3.11/site-packages (from anyio<4,>=3.5.0->openai) (3.6)\n",
            "Requirement already satisfied: sniffio>=1.1 in ./env/lib/python3.11/site-packages (from anyio<4,>=3.5.0->openai) (1.3.0)\n",
            "Requirement already satisfied: certifi in ./env/lib/python3.11/site-packages (from httpx<1,>=0.23.0->openai) (2023.11.17)\n",
            "Requirement already satisfied: httpcore==1.* in ./env/lib/python3.11/site-packages (from httpx<1,>=0.23.0->openai) (1.0.2)\n",
            "Requirement already satisfied: h11<0.15,>=0.13 in ./env/lib/python3.11/site-packages (from httpcore==1.*->httpx<1,>=0.23.0->openai) (0.14.0)\n",
            "Requirement already satisfied: annotated-types>=0.4.0 in ./env/lib/python3.11/site-packages (from pydantic<3,>=1.9.0->openai) (0.6.0)\n",
            "Requirement already satisfied: pydantic-core==2.14.5 in ./env/lib/python3.11/site-packages (from pydantic<3,>=1.9.0->openai) (2.14.5)\n",
            "Requirement already satisfied: six>=1.5 in ./env/lib/python3.11/site-packages (from python-dateutil>=2.8.2->pandas) (1.16.0)\n",
            "Downloading matplotlib-3.8.2-cp311-cp311-macosx_11_0_arm64.whl (7.5 MB)\n",
            "\u001b[2K   \u001b[38;2;114;156;31m━━━━━━━━━━━━━━━━━━━━━━━━━━━━━━━━━━━━━━━━\u001b[0m \u001b[32m7.5/7.5 MB\u001b[0m \u001b[31m18.5 MB/s\u001b[0m eta \u001b[36m0:00:00\u001b[0m MB/s\u001b[0m eta \u001b[36m0:00:01\u001b[0m:01\u001b[0m\n",
            "\u001b[?25hDownloading scipy-1.11.4-cp311-cp311-macosx_12_0_arm64.whl (29.7 MB)\n",
            "\u001b[2K   \u001b[38;2;114;156;31m━━━━━━━━━━━━━━━━━━━━━━━━━━━━━━━━━━━━━━━━\u001b[0m \u001b[32m29.7/29.7 MB\u001b[0m \u001b[31m22.2 MB/s\u001b[0m eta \u001b[36m0:00:00\u001b[0mm eta \u001b[36m0:00:01\u001b[0m0:01\u001b[0m:01\u001b[0m\n",
            "\u001b[?25hDownloading contourpy-1.2.0-cp311-cp311-macosx_11_0_arm64.whl (243 kB)\n",
            "\u001b[2K   \u001b[38;2;114;156;31m━━━━━━━━━━━━━━━━━━━━━━━━━━━━━━━━━━━━━━━━\u001b[0m \u001b[32m243.4/243.4 kB\u001b[0m \u001b[31m12.9 MB/s\u001b[0m eta \u001b[36m0:00:00\u001b[0m\n",
            "\u001b[?25hDownloading cycler-0.12.1-py3-none-any.whl (8.3 kB)\n",
            "Downloading fonttools-4.45.1-cp311-cp311-macosx_10_9_universal2.whl (2.8 MB)\n",
            "\u001b[2K   \u001b[38;2;114;156;31m━━━━━━━━━━━━━━━━━━━━━━━━━━━━━━━━━━━━━━━━\u001b[0m \u001b[32m2.8/2.8 MB\u001b[0m \u001b[31m20.3 MB/s\u001b[0m eta \u001b[36m0:00:00\u001b[0m31m23.2 MB/s\u001b[0m eta \u001b[36m0:00:01\u001b[0m\n",
            "\u001b[?25hDownloading kiwisolver-1.4.5-cp311-cp311-macosx_11_0_arm64.whl (66 kB)\n",
            "\u001b[2K   \u001b[38;2;114;156;31m━━━━━━━━━━━━━━━━━━━━━━━━━━━━━━━━━━━━━━━━\u001b[0m \u001b[32m66.2/66.2 kB\u001b[0m \u001b[31m6.4 MB/s\u001b[0m eta \u001b[36m0:00:00\u001b[0m\n",
            "\u001b[?25hDownloading Pillow-10.1.0-cp311-cp311-macosx_11_0_arm64.whl (3.3 MB)\n",
            "\u001b[2K   \u001b[38;2;114;156;31m━━━━━━━━━━━━━━━━━━━━━━━━━━━━━━━━━━━━━━━━\u001b[0m \u001b[32m3.3/3.3 MB\u001b[0m \u001b[31m22.0 MB/s\u001b[0m eta \u001b[36m0:00:00\u001b[0m MB/s\u001b[0m eta \u001b[36m0:00:01\u001b[0m:01\u001b[0m\n",
            "\u001b[?25hDownloading pyparsing-3.1.1-py3-none-any.whl (103 kB)\n",
            "\u001b[2K   \u001b[38;2;114;156;31m━━━━━━━━━━━━━━━━━━━━━━━━━━━━━━━━━━━━━━━━\u001b[0m \u001b[32m103.1/103.1 kB\u001b[0m \u001b[31m8.9 MB/s\u001b[0m eta \u001b[36m0:00:00\u001b[0m\n",
            "\u001b[?25hInstalling collected packages: scipy, pyparsing, pillow, kiwisolver, fonttools, cycler, contourpy, matplotlib\n",
            "Successfully installed contourpy-1.2.0 cycler-0.12.1 fonttools-4.45.1 kiwisolver-1.4.5 matplotlib-3.8.2 pillow-10.1.0 pyparsing-3.1.1 scipy-1.11.4\n"
          ]
        }
      ],
      "source": [
        "# Install the Vertex AI SDK\n",
        "\n",
        "# This step currently includes an additional dependency, to avoid a conflict\n",
        "\n",
        "!pip install openai pandas python-dotenv matplotlib numpy scipy\n",
        "\n"
      ]
    },
    {
      "cell_type": "markdown",
      "metadata": {
        "id": "4Hp6xeaoosMB"
      },
      "source": [
        "**Restart** the runtime to use these package versions."
      ]
    },
    {
      "cell_type": "markdown",
      "metadata": {
        "id": "lgbvew1r5YJe"
      },
      "source": [
        "# Import data"
      ]
    },
    {
      "cell_type": "markdown",
      "metadata": {
        "id": "5s7gnElv5a9D"
      },
      "source": [
        "This notebook requires downloading the [Flipkart Products](https://www.kaggle.com/datasets/PromptCloudHQ/flipkart-products?resource=download) dataset from Kaggle.\n",
        "\n",
        "After downloading the data, upload the CSV file to the notebook using the Files feature of Colab."
      ]
    },
    {
      "cell_type": "code",
      "execution_count": 8,
      "metadata": {
        "id": "6qgo2oLp30Va"
      },
      "outputs": [
        {
          "data": {
            "text/html": [
              "<div>\n",
              "<style scoped>\n",
              "    .dataframe tbody tr th:only-of-type {\n",
              "        vertical-align: middle;\n",
              "    }\n",
              "\n",
              "    .dataframe tbody tr th {\n",
              "        vertical-align: top;\n",
              "    }\n",
              "\n",
              "    .dataframe thead th {\n",
              "        text-align: right;\n",
              "    }\n",
              "</style>\n",
              "<table border=\"1\" class=\"dataframe\">\n",
              "  <thead>\n",
              "    <tr style=\"text-align: right;\">\n",
              "      <th></th>\n",
              "      <th>id</th>\n",
              "      <th>GTIN</th>\n",
              "      <th>external_id</th>\n",
              "      <th>URL</th>\n",
              "      <th>Bild</th>\n",
              "      <th>Titel</th>\n",
              "      <th>Beschreibung</th>\n",
              "      <th>Eigenschaften</th>\n",
              "      <th>Marke</th>\n",
              "      <th>Kategorie</th>\n",
              "      <th>...</th>\n",
              "      <th>Anzahl Batterien</th>\n",
              "      <th>Batterien enthalten</th>\n",
              "      <th>Starthilfestrom in Ah</th>\n",
              "      <th>Schwierigkeitsgrad</th>\n",
              "      <th>Produktfarbe NF</th>\n",
              "      <th>Optik</th>\n",
              "      <th>Laub</th>\n",
              "      <th>Rosentyp</th>\n",
              "      <th>Züchter</th>\n",
              "      <th>Blueten</th>\n",
              "    </tr>\n",
              "  </thead>\n",
              "  <tbody>\n",
              "    <tr>\n",
              "      <th>0</th>\n",
              "      <td>39b782de-7aa7-4598-aafd-e6770a2eaaa0</td>\n",
              "      <td>5.761020e+13</td>\n",
              "      <td>6104950</td>\n",
              "      <td>https://www.jumbo.ch/maschinen-werkstatt/bekle...</td>\n",
              "      <td>https://www.jumbo.ch/img/products/402Wx268H/61...</td>\n",
              "      <td>. . . 3M™ Mehrweg-Halbmaske mit Wechselfiltern...</td>\n",
              "      <td>Effektiver Schutz: Die 3M™ Farbspritz-Mehrwegm...</td>\n",
              "      <td>Wiederverwendbare Atemschutzmaske für Farbspri...</td>\n",
              "      <td>3M</td>\n",
              "      <td>40603.0</td>\n",
              "      <td>...</td>\n",
              "      <td>NaN</td>\n",
              "      <td>NaN</td>\n",
              "      <td>NaN</td>\n",
              "      <td>NaN</td>\n",
              "      <td>NaN</td>\n",
              "      <td>NaN</td>\n",
              "      <td>NaN</td>\n",
              "      <td>NaN</td>\n",
              "      <td>NaN</td>\n",
              "      <td>NaN</td>\n",
              "    </tr>\n",
              "    <tr>\n",
              "      <th>1</th>\n",
              "      <td>68f8dd55-4c90-4f74-8547-78e34eb977ed</td>\n",
              "      <td>3.100350e+12</td>\n",
              "      <td>6336316</td>\n",
              "      <td>https://www.jumbo.ch/maschinen-werkstatt/besch...</td>\n",
              "      <td>https://www.jumbo.ch/img/products/402Wx268H/63...</td>\n",
              "      <td>. . . 3M™ Sliders Sp62N14, Möbelgleiter braun ...</td>\n",
              "      <td>Möbel mühelos verschieben, auch schwere Stücke...</td>\n",
              "      <td>Extra starker Klebstoff</td>\n",
              "      <td>3M</td>\n",
              "      <td>4050304.0</td>\n",
              "      <td>...</td>\n",
              "      <td>NaN</td>\n",
              "      <td>NaN</td>\n",
              "      <td>NaN</td>\n",
              "      <td>NaN</td>\n",
              "      <td>NaN</td>\n",
              "      <td>NaN</td>\n",
              "      <td>NaN</td>\n",
              "      <td>NaN</td>\n",
              "      <td>NaN</td>\n",
              "      <td>NaN</td>\n",
              "    </tr>\n",
              "    <tr>\n",
              "      <th>2</th>\n",
              "      <td>bb52940b-1f40-48f5-9413-db97a48b3187</td>\n",
              "      <td>8.423220e+12</td>\n",
              "      <td>6899264</td>\n",
              "      <td>https://www.jumbo.ch/maschinen-werkstatt/besch...</td>\n",
              "      <td>https://www.jumbo.ch/img/products/402Wx268H/68...</td>\n",
              "      <td>.Moebelknoepf Segelboot, 54X81 MM</td>\n",
              "      <td>NaN</td>\n",
              "      <td>NaN</td>\n",
              "      <td>NaN</td>\n",
              "      <td>4050110.0</td>\n",
              "      <td>...</td>\n",
              "      <td>NaN</td>\n",
              "      <td>NaN</td>\n",
              "      <td>NaN</td>\n",
              "      <td>NaN</td>\n",
              "      <td>NaN</td>\n",
              "      <td>NaN</td>\n",
              "      <td>NaN</td>\n",
              "      <td>NaN</td>\n",
              "      <td>NaN</td>\n",
              "      <td>NaN</td>\n",
              "    </tr>\n",
              "    <tr>\n",
              "      <th>3</th>\n",
              "      <td>ae10152f-39d0-428d-bcbe-86b5b637a29b</td>\n",
              "      <td>7.627540e+12</td>\n",
              "      <td>7100535</td>\n",
              "      <td>https://www.jumbo.ch/hobby-sport/autozubehoer/...</td>\n",
              "      <td>https://www.jumbo.ch/img/products/402Wx268H/71...</td>\n",
              "      <td>0ecoplan Auto-Scheibenreiniger 500Ml</td>\n",
              "      <td>NaN</td>\n",
              "      <td>NaN</td>\n",
              "      <td>Oecoplan</td>\n",
              "      <td>8070102.0</td>\n",
              "      <td>...</td>\n",
              "      <td>NaN</td>\n",
              "      <td>NaN</td>\n",
              "      <td>NaN</td>\n",
              "      <td>NaN</td>\n",
              "      <td>NaN</td>\n",
              "      <td>NaN</td>\n",
              "      <td>NaN</td>\n",
              "      <td>NaN</td>\n",
              "      <td>NaN</td>\n",
              "      <td>NaN</td>\n",
              "    </tr>\n",
              "    <tr>\n",
              "      <th>4</th>\n",
              "      <td>8364f617-ff56-4b79-88b9-4e4113c5db27</td>\n",
              "      <td>4.006890e+12</td>\n",
              "      <td>4813481</td>\n",
              "      <td>https://www.jumbo.ch/maschinen-werkstatt/werks...</td>\n",
              "      <td>https://www.jumbo.ch/img/products/402Wx268H/48...</td>\n",
              "      <td>1 Lochwand Step II</td>\n",
              "      <td>Praktische und einfache Aufbewahrung von Werkz...</td>\n",
              "      <td>Belastbar bis 50 kg.</td>\n",
              "      <td>Wolfcraft</td>\n",
              "      <td>4030201.0</td>\n",
              "      <td>...</td>\n",
              "      <td>NaN</td>\n",
              "      <td>NaN</td>\n",
              "      <td>NaN</td>\n",
              "      <td>NaN</td>\n",
              "      <td>NaN</td>\n",
              "      <td>NaN</td>\n",
              "      <td>NaN</td>\n",
              "      <td>NaN</td>\n",
              "      <td>NaN</td>\n",
              "      <td>NaN</td>\n",
              "    </tr>\n",
              "  </tbody>\n",
              "</table>\n",
              "<p>5 rows × 443 columns</p>\n",
              "</div>"
            ],
            "text/plain": [
              "                                     id          GTIN  external_id  \\\n",
              "0  39b782de-7aa7-4598-aafd-e6770a2eaaa0  5.761020e+13      6104950   \n",
              "1  68f8dd55-4c90-4f74-8547-78e34eb977ed  3.100350e+12      6336316   \n",
              "2  bb52940b-1f40-48f5-9413-db97a48b3187  8.423220e+12      6899264   \n",
              "3  ae10152f-39d0-428d-bcbe-86b5b637a29b  7.627540e+12      7100535   \n",
              "4  8364f617-ff56-4b79-88b9-4e4113c5db27  4.006890e+12      4813481   \n",
              "\n",
              "                                                 URL  \\\n",
              "0  https://www.jumbo.ch/maschinen-werkstatt/bekle...   \n",
              "1  https://www.jumbo.ch/maschinen-werkstatt/besch...   \n",
              "2  https://www.jumbo.ch/maschinen-werkstatt/besch...   \n",
              "3  https://www.jumbo.ch/hobby-sport/autozubehoer/...   \n",
              "4  https://www.jumbo.ch/maschinen-werkstatt/werks...   \n",
              "\n",
              "                                                Bild  \\\n",
              "0  https://www.jumbo.ch/img/products/402Wx268H/61...   \n",
              "1  https://www.jumbo.ch/img/products/402Wx268H/63...   \n",
              "2  https://www.jumbo.ch/img/products/402Wx268H/68...   \n",
              "3  https://www.jumbo.ch/img/products/402Wx268H/71...   \n",
              "4  https://www.jumbo.ch/img/products/402Wx268H/48...   \n",
              "\n",
              "                                               Titel  \\\n",
              "0  . . . 3M™ Mehrweg-Halbmaske mit Wechselfiltern...   \n",
              "1  . . . 3M™ Sliders Sp62N14, Möbelgleiter braun ...   \n",
              "2                  .Moebelknoepf Segelboot, 54X81 MM   \n",
              "3               0ecoplan Auto-Scheibenreiniger 500Ml   \n",
              "4                                 1 Lochwand Step II   \n",
              "\n",
              "                                        Beschreibung  \\\n",
              "0  Effektiver Schutz: Die 3M™ Farbspritz-Mehrwegm...   \n",
              "1  Möbel mühelos verschieben, auch schwere Stücke...   \n",
              "2                                                NaN   \n",
              "3                                                NaN   \n",
              "4  Praktische und einfache Aufbewahrung von Werkz...   \n",
              "\n",
              "                                       Eigenschaften      Marke  Kategorie  \\\n",
              "0  Wiederverwendbare Atemschutzmaske für Farbspri...         3M    40603.0   \n",
              "1                            Extra starker Klebstoff         3M  4050304.0   \n",
              "2                                                NaN        NaN  4050110.0   \n",
              "3                                                NaN   Oecoplan  8070102.0   \n",
              "4                               Belastbar bis 50 kg.  Wolfcraft  4030201.0   \n",
              "\n",
              "   ...  Anzahl Batterien Batterien enthalten Starthilfestrom in Ah  \\\n",
              "0  ...               NaN                 NaN                   NaN   \n",
              "1  ...               NaN                 NaN                   NaN   \n",
              "2  ...               NaN                 NaN                   NaN   \n",
              "3  ...               NaN                 NaN                   NaN   \n",
              "4  ...               NaN                 NaN                   NaN   \n",
              "\n",
              "  Schwierigkeitsgrad Produktfarbe NF Optik Laub Rosentyp Züchter Blueten  \n",
              "0                NaN             NaN   NaN  NaN      NaN     NaN     NaN  \n",
              "1                NaN             NaN   NaN  NaN      NaN     NaN     NaN  \n",
              "2                NaN             NaN   NaN  NaN      NaN     NaN     NaN  \n",
              "3                NaN             NaN   NaN  NaN      NaN     NaN     NaN  \n",
              "4                NaN             NaN   NaN  NaN      NaN     NaN     NaN  \n",
              "\n",
              "[5 rows x 443 columns]"
            ]
          },
          "execution_count": 8,
          "metadata": {},
          "output_type": "execute_result"
        }
      ],
      "source": [
        "import pandas as pd\n",
        "\n",
        "# Read the data from the CSV file\n",
        "df = pd.read_csv(\"raw_product_data.csv\", engine=\"python\")\n",
        "\n",
        "# Filter out blank rows\n",
        "df = df.dropna(how=\"all\")\n",
        "\n",
        "# Print the first five rows of the data\n",
        "df.head()"
      ]
    },
    {
      "cell_type": "markdown",
      "metadata": {
        "id": "uTmRVv_Zc7z5"
      },
      "source": [
        "# Data Analysis\n",
        "\n",
        "Let's now look at the product description field. To keep things simple, we'll use the length of the description as a proxy for data quality.\n",
        "\n",
        "We'll look for short descriptions, where it's likely that useful details are omitted."
      ]
    },
    {
      "cell_type": "code",
      "execution_count": 57,
      "metadata": {
        "id": "1nF1kOCy4OLF"
      },
      "outputs": [
        {
          "data": {
            "image/png": "[encoded data removed]",
            "text/plain": [
              "<Figure size 640x480 with 1 Axes>"
            ]
          },
          "metadata": {},
          "output_type": "display_data"
        }
      ],
      "source": [
        "import matplotlib.pyplot as plt\n",
        "import numpy as np\n",
        "from scipy.stats import gaussian_kde\n",
        "\n",
        "def get_num_chars_in_description(dataframe: pd.DataFrame) -> pd.Series:\n",
        "  # Get the number of characters in the description field\n",
        "  num_chars_in_description = dataframe[\"Beschreibung\"].str.len()\n",
        "\n",
        "  # Try converting the number of characters to numerics before plotting the distribution\n",
        "  try:\n",
        "    # If it is string type, remove all characters except numbers, \".\", \"+\" or \"-\".\n",
        "    if pd.api.types.is_string_dtype(num_chars_in_description):\n",
        "      num_chars_in_description = num_chars_in_description.str.replace(r\"[^\\d\\-+\\.]\", \"\")\n",
        "    num_chars_in_description = pd.to_numeric(num_chars_in_description)\n",
        "  except:\n",
        "    pass\n",
        "\n",
        "  # Drop the rows with NA values\n",
        "  num_chars_in_description = num_chars_in_description.dropna()\n",
        "\n",
        "  # Convert the number of characters to integers\n",
        "  num_chars_in_description = num_chars_in_description.astype(int)\n",
        "\n",
        "  return num_chars_in_description\n",
        "\n",
        "def plot_distribution(series: pd.Series) -> None:\n",
        "  # Create a kernel density estimate (KDE) object\n",
        "  kde = gaussian_kde(series)\n",
        "\n",
        "  # Evaluate the PDF at a range of points\n",
        "  x = np.linspace(0, max(series), 1000)\n",
        "  y = kde(x)\n",
        "\n",
        "  # Plot the smoothed distribution function\n",
        "\n",
        "  plt.plot(x, y)\n",
        "  plt.xlabel(\"Number of characters in description\")\n",
        "  plt.ylabel(\"Probability density\")\n",
        "  plt.title(\"Product Description Length KDE Plot\")\n",
        "  plt.show()\n",
        "\n",
        "num_chars_in_description = get_num_chars_in_description(df)\n",
        "plot_distribution(num_chars_in_description)"
      ]
    },
    {
      "cell_type": "markdown",
      "metadata": {
        "id": "caHZEyFq9gJs"
      },
      "source": [
        "Let's now set a threshold to improve the shortest 0.05% of our descriptions. We see that 93 characters should be that threshold, and there are 13 descriptions of that length or less."
      ]
    },
    {
      "cell_type": "code",
      "execution_count": 27,
      "metadata": {
        "id": "0Yre716JDXm2"
      },
      "outputs": [
        {
          "data": {
            "text/plain": [
              "84"
            ]
          },
          "execution_count": 27,
          "metadata": {},
          "output_type": "execute_result"
        }
      ],
      "source": [
        "threshold = int(num_chars_in_description.quantile(0.1))\n",
        "\n",
        "threshold"
      ]
    },
    {
      "cell_type": "code",
      "execution_count": 33,
      "metadata": {
        "id": "SgJnUXnj9COm"
      },
      "outputs": [
        {
          "name": "stdout",
          "output_type": "stream",
          "text": [
            "1954\n"
          ]
        }
      ],
      "source": [
        "def get_rows_under_threshold(series: pd.Series, threshold) -> pd.Series:\n",
        "  return num_chars_in_description.loc[series <= threshold]\n",
        "\n",
        "rows_with_description_under_threshold = get_rows_under_threshold(num_chars_in_description, 250)\n",
        "\n",
        "print(rows_with_description_under_threshold.shape[0])"
      ]
    },
    {
      "cell_type": "markdown",
      "metadata": {
        "id": "52Cf3r7pdBVN"
      },
      "source": [
        "# Data Transformation\n",
        "\n",
        "Next, let's collect the relevant details from each row with short descriptions. We'll put that into a JSON structure that we'll pass into the large language model."
      ]
    },
    {
      "cell_type": "code",
      "execution_count": 63,
      "metadata": {
        "id": "VY08ro3VCmLz"
      },
      "outputs": [
        {
          "name": "stdout",
          "output_type": "stream",
          "text": [
            "{'id': '39b782de-7aa7-4598-aafd-e6770a2eaaa0', 'GTIN': 57610200000000.0, 'external_id': 6104950, 'URL': 'https://www.jumbo.ch/maschinen-werkstatt/bekleidung-schutz/diverser-arbeitsschutz/---3m-mehrweg-halbmaske-mit-wechselfiltern-6002c-fuer-farbspritz-und-maschinenschleifarbeiten-schutzstufe-a2p2/p/6104950', 'Bild': 'https://www.jumbo.ch/img/products/402Wx268H/6104950_001.jpg?_=1660885612115', 'Titel': '. . . 3M™ Mehrweg-Halbmaske mit Wechselfiltern 6002C, für Farbspritz- und Maschinenschleifarbeiten, Schutzstufe A2P2', 'Beschreibung': 'Effektiver Schutz: Die 3M™ Farbspritz-Mehrwegmaske 6002C bietet einen effektiven Schutz gegen organische Gase und Dämpfe (Schutzstufe A2) sowie gegen Partikel (Schutzstufe P2).', 'Eigenschaften': 'Wiederverwendbare Atemschutzmaske für Farbspritzarbeiten, den Farbauftrag mit Pinsel und Roller sowie das Schleifen von Hand oder mit einem ExzenterschleiferDieses Produkt schützt vor bestimmten organischen Gasen und Dämpfen in Konzentrationen A2-Schutz vor organischen Gasen und Dämpfen beispielsweise von lösemittelhaltigen Farben, Klebstoffen und ReinigungsmittelnP2-Schutz vor mittleren Belastungen durch Feinstaub sowie vor Öl- oder WasserdämpfenWiederverwendbar mit austauschbaren Partikelfiltern bzw. Gas- und Dampf-Filterkartuschen oder KombinationskartuschenIm Vergleich zu Einzelfiltermasken verbesserte Atmungsaktivität und geringerer Atemwiderstand durch Doppel-Einatemventil und große FilterEinfacher Filterwechsel dank des Bajonett-Klick-Verschlusses, der das mühelose Einklicken einer Vielzahl von Filtern ermöglicht Einheitsgrösse.', 'Marke': '3M', 'Kategorie': 40603.0, 'Google Shopping Kategorie ID': 40603.0, 'Google Shopping Kategorie': 'Maschinen + Werkstatt > Bekleidung + Schutz > Diverser Arbeitsschutz', 'Gewicht in kg': '0.412 kg', 'Farbe': 'Grau', 'Norm': 'EN 140:1998, 6055: EN 14387:2004   A1:2008 A2, 5925: EN 143:2000 P2 R'}\n"
          ]
        }
      ],
      "source": [
        "import json\n",
        "\n",
        "# Create a JSON object for each row\n",
        "json_objects = []\n",
        "for index, row in df.loc[rows_with_description_under_threshold.index].iterrows():\n",
        "  dirty_dict = row.to_dict()\n",
        "  cleaned_dict = {key: value for key, value in dirty_dict.items() if value == value}\n",
        "  json_objects.append(cleaned_dict)\n",
        "\n"
      ]
    },
    {
      "cell_type": "markdown",
      "metadata": {
        "id": "7tkufA1e-MXV"
      },
      "source": [
        "We can now include this JSON array into a prompt to query the LLM with."
      ]
    },
    {
      "cell_type": "code",
      "execution_count": null,
      "metadata": {
        "id": "KEH2zIAWkCiV"
      },
      "outputs": [],
      "source": [
        "prompt = f\"\"\"\n",
        "Erstellen Sie eine überzeugende und genaue Produktbeschreibung für jedes der Produkte, die in der untenstehenden JSON-Datenstruktur bereitgestellt werden. Diese Beschreibung sollte in der Ausgabe enthalten sein.\n",
        "\n",
        "Die Ausgabe sollte ein JSON-Array sein, das nur aus den ursprünglichen id und den aktualisierten Beschreibung Feldern für jedes Produkt besteht.\n",
        "===\n",
        "{json}\n",
        "\"\"\"\n",
        "\n",
        "print(prompt)"
      ]
    },
    {
      "cell_type": "markdown",
      "metadata": {
        "id": "qkRWhaRJjdfV"
      },
      "source": [
        "# Query LLM"
      ]
    },
    {
      "cell_type": "markdown",
      "metadata": {
        "id": "YpAmBjhd-Z7U"
      },
      "source": [
        "In this step, we'll connect to a Vertex AI LLM with our prompt and return a result.\n",
        "\n",
        "First, let's define some project parameters:"
      ]
    },
    {
      "cell_type": "code",
      "execution_count": 132,
      "metadata": {
        "id": "GngwIaWD_u59"
      },
      "outputs": [
        {
          "name": "stdout",
          "output_type": "stream",
          "text": [
            "Processed 0 rows\n",
            "{'id': '39b782de-7aa7-4598-aafd-e6770a2eaaa0', 'enhanced_description': 'Entdecken Sie die zuverlässige 3M™ Mehrweg-Halbmaske 6002C, eine unerlässliche Sicherheitsausstattung für professionelle Farbspritz- und Maschinenschleifarbeiten. Diese hochwertige Atemschutzmaske bietet nicht nur Schutz gegen organische Gase und Dämpfe gemäß Schutzstufe A2, sondern auch gegen Feinstaubpartikel mit der Schutzstufe P2. Ihre Wiederverwendbarkeit, kombiniert mit austauschbaren Partikelfiltern und Gas-/Dampf-Filterkartuschen, machen sie zu einer ökonomischen und ökologischen Wahl. Ein Doppel-Einatemventil sowie die großzügig gestalteten Filter sorgen für eine verbesserte Atmungsaktivität und reduzieren den Atemwiderstand. Dank des Bajonett-Klick-Verschlusses lässt sich der Filterwechsel schnell und ohne Mühe durchführen. Die intuitive anpassbare Einheitsgröße und das robuste Design in der Farbe Grau erfüllen die Normen EN 140:1998 und EN 14387:2004 A1:2008 A2, ebenso wie EN 143:2000 P2 R, garantieren damit höchste Sicherheitsstandards.'}\n",
            "{'id': '8364f617-ff56-4b79-88b9-4e4113c5db27', 'enhanced_description': 'Die 1 Lochwand Step II von Wolfcraft stellt eine robuste und durchdachte Lösung zur Werkzeugorganisation dar. Gefertigt aus langlebigen Stahl- und Aluminiumelementen, garantiert dieses Wandorganisations-system, dass Ihre Werkzeuge jederzeit schnell und übersichtlich zur Hand sind. Mit einer Tragkraft von bis zu 50 kg eignet es sich ideal für die Aufbewahrung verschiedener Werkzeuge, die mithilfe von Systemhaken sicher und praktisch an der Wand befestigt werden können. Das zeitlose Design in Grau und Silber passt perfekt in jede Werkstatt und jedes Kellerambiente. Der Lieferumfang umfasst das notwendige Befestigungsmaterial für eine einfache Wandmontage. Dieses Modell misst 50 cm in der Höhe, 96 cm in der Breite und hat eine Tiefe von 10 cm. Gewichtstechnisch bringt es leichte 5 kg auf die Waage, was den Transport und die Montage erleichtert. Zuverlässigkeit und Qualität werden bei diesem Produkt von Wolfcraft großgeschrieben und machen es zu einer unverzichtbaren Ergänzung für organisierte Arbeitsbereiche.'}\n"
          ]
        },
        {
          "ename": "KeyboardInterrupt",
          "evalue": "",
          "output_type": "error",
          "traceback": [
            "\u001b[0;31m---------------------------------------------------------------------------\u001b[0m",
            "\u001b[0;31mKeyboardInterrupt\u001b[0m                         Traceback (most recent call last)",
            "\u001b[1;32m/Users/jbecker/Code/university/frontnow/frontnow/Product_Data_Enrichment_with_Vertex_AI.ipynb Cell 20\u001b[0m line \u001b[0;36m2\n\u001b[1;32m     <a href='vscode-notebook-cell:/Users/jbecker/Code/university/frontnow/frontnow/Product_Data_Enrichment_with_Vertex_AI.ipynb#X30sZmlsZQ%3D%3D?line=13'>14</a>\u001b[0m json_string \u001b[39m=\u001b[39m json_objects[i]\n\u001b[1;32m     <a href='vscode-notebook-cell:/Users/jbecker/Code/university/frontnow/frontnow/Product_Data_Enrichment_with_Vertex_AI.ipynb#X30sZmlsZQ%3D%3D?line=14'>15</a>\u001b[0m prompt \u001b[39m=\u001b[39m \u001b[39mf\u001b[39m\u001b[39m\"\"\"\u001b[39m\n\u001b[1;32m     <a href='vscode-notebook-cell:/Users/jbecker/Code/university/frontnow/frontnow/Product_Data_Enrichment_with_Vertex_AI.ipynb#X30sZmlsZQ%3D%3D?line=15'>16</a>\u001b[0m \u001b[39m        Erstellen Sie eine überzeugende und genaue Produktbeschreibung für jedes der Produkte, die in der untenstehenden JSON-Datenstruktur bereitgestellt werden. Diese Beschreibung sollte in der Ausgabe enthalten sein.\u001b[39m\n\u001b[1;32m     <a href='vscode-notebook-cell:/Users/jbecker/Code/university/frontnow/frontnow/Product_Data_Enrichment_with_Vertex_AI.ipynb#X30sZmlsZQ%3D%3D?line=16'>17</a>\u001b[0m \n\u001b[0;32m   (...)\u001b[0m\n\u001b[1;32m     <a href='vscode-notebook-cell:/Users/jbecker/Code/university/frontnow/frontnow/Product_Data_Enrichment_with_Vertex_AI.ipynb#X30sZmlsZQ%3D%3D?line=19'>20</a>\u001b[0m \u001b[39m        \u001b[39m\u001b[39m{\u001b[39;00mjson_string\u001b[39m}\u001b[39;00m\n\u001b[1;32m     <a href='vscode-notebook-cell:/Users/jbecker/Code/university/frontnow/frontnow/Product_Data_Enrichment_with_Vertex_AI.ipynb#X30sZmlsZQ%3D%3D?line=20'>21</a>\u001b[0m \u001b[39m        \u001b[39m\u001b[39m\"\"\"\u001b[39m\n\u001b[0;32m---> <a href='vscode-notebook-cell:/Users/jbecker/Code/university/frontnow/frontnow/Product_Data_Enrichment_with_Vertex_AI.ipynb#X30sZmlsZQ%3D%3D?line=22'>23</a>\u001b[0m result \u001b[39m=\u001b[39m client\u001b[39m.\u001b[39;49mchat\u001b[39m.\u001b[39;49mcompletions\u001b[39m.\u001b[39;49mcreate(\n\u001b[1;32m     <a href='vscode-notebook-cell:/Users/jbecker/Code/university/frontnow/frontnow/Product_Data_Enrichment_with_Vertex_AI.ipynb#X30sZmlsZQ%3D%3D?line=23'>24</a>\u001b[0m     messages\u001b[39m=\u001b[39;49m[\n\u001b[1;32m     <a href='vscode-notebook-cell:/Users/jbecker/Code/university/frontnow/frontnow/Product_Data_Enrichment_with_Vertex_AI.ipynb#X30sZmlsZQ%3D%3D?line=24'>25</a>\u001b[0m         {\n\u001b[1;32m     <a href='vscode-notebook-cell:/Users/jbecker/Code/university/frontnow/frontnow/Product_Data_Enrichment_with_Vertex_AI.ipynb#X30sZmlsZQ%3D%3D?line=25'>26</a>\u001b[0m             \u001b[39m\"\u001b[39;49m\u001b[39mrole\u001b[39;49m\u001b[39m\"\u001b[39;49m: \u001b[39m\"\u001b[39;49m\u001b[39muser\u001b[39;49m\u001b[39m\"\u001b[39;49m,\n\u001b[1;32m     <a href='vscode-notebook-cell:/Users/jbecker/Code/university/frontnow/frontnow/Product_Data_Enrichment_with_Vertex_AI.ipynb#X30sZmlsZQ%3D%3D?line=26'>27</a>\u001b[0m             \u001b[39m\"\u001b[39;49m\u001b[39mcontent\u001b[39;49m\u001b[39m\"\u001b[39;49m: prompt,\n\u001b[1;32m     <a href='vscode-notebook-cell:/Users/jbecker/Code/university/frontnow/frontnow/Product_Data_Enrichment_with_Vertex_AI.ipynb#X30sZmlsZQ%3D%3D?line=27'>28</a>\u001b[0m         }\n\u001b[1;32m     <a href='vscode-notebook-cell:/Users/jbecker/Code/university/frontnow/frontnow/Product_Data_Enrichment_with_Vertex_AI.ipynb#X30sZmlsZQ%3D%3D?line=28'>29</a>\u001b[0m     ],\n\u001b[1;32m     <a href='vscode-notebook-cell:/Users/jbecker/Code/university/frontnow/frontnow/Product_Data_Enrichment_with_Vertex_AI.ipynb#X30sZmlsZQ%3D%3D?line=29'>30</a>\u001b[0m     model\u001b[39m=\u001b[39;49m\u001b[39m\"\u001b[39;49m\u001b[39mgpt-4-1106-preview\u001b[39;49m\u001b[39m\"\u001b[39;49m\n\u001b[1;32m     <a href='vscode-notebook-cell:/Users/jbecker/Code/university/frontnow/frontnow/Product_Data_Enrichment_with_Vertex_AI.ipynb#X30sZmlsZQ%3D%3D?line=30'>31</a>\u001b[0m )\n\u001b[1;32m     <a href='vscode-notebook-cell:/Users/jbecker/Code/university/frontnow/frontnow/Product_Data_Enrichment_with_Vertex_AI.ipynb#X30sZmlsZQ%3D%3D?line=31'>32</a>\u001b[0m string \u001b[39m=\u001b[39m result\u001b[39m.\u001b[39mchoices[\u001b[39m0\u001b[39m]\u001b[39m.\u001b[39mmessage\u001b[39m.\u001b[39mcontent\n\u001b[1;32m     <a href='vscode-notebook-cell:/Users/jbecker/Code/university/frontnow/frontnow/Product_Data_Enrichment_with_Vertex_AI.ipynb#X30sZmlsZQ%3D%3D?line=32'>33</a>\u001b[0m start_index \u001b[39m=\u001b[39m string\u001b[39m.\u001b[39mfind(\u001b[39m'\u001b[39m\u001b[39m{\u001b[39m\u001b[39m'\u001b[39m)\n",
            "File \u001b[0;32m~/Code/university/frontnow/frontnow/env/lib/python3.11/site-packages/openai/_utils/_utils.py:299\u001b[0m, in \u001b[0;36mrequired_args.<locals>.inner.<locals>.wrapper\u001b[0;34m(*args, **kwargs)\u001b[0m\n\u001b[1;32m    297\u001b[0m             msg \u001b[39m=\u001b[39m \u001b[39mf\u001b[39m\u001b[39m\"\u001b[39m\u001b[39mMissing required argument: \u001b[39m\u001b[39m{\u001b[39;00mquote(missing[\u001b[39m0\u001b[39m])\u001b[39m}\u001b[39;00m\u001b[39m\"\u001b[39m\n\u001b[1;32m    298\u001b[0m     \u001b[39mraise\u001b[39;00m \u001b[39mTypeError\u001b[39;00m(msg)\n\u001b[0;32m--> 299\u001b[0m \u001b[39mreturn\u001b[39;00m func(\u001b[39m*\u001b[39;49margs, \u001b[39m*\u001b[39;49m\u001b[39m*\u001b[39;49mkwargs)\n",
            "File \u001b[0;32m~/Code/university/frontnow/frontnow/env/lib/python3.11/site-packages/openai/resources/chat/completions.py:598\u001b[0m, in \u001b[0;36mCompletions.create\u001b[0;34m(self, messages, model, frequency_penalty, function_call, functions, logit_bias, max_tokens, n, presence_penalty, response_format, seed, stop, stream, temperature, tool_choice, tools, top_p, user, extra_headers, extra_query, extra_body, timeout)\u001b[0m\n\u001b[1;32m    551\u001b[0m \u001b[39m@required_args\u001b[39m([\u001b[39m\"\u001b[39m\u001b[39mmessages\u001b[39m\u001b[39m\"\u001b[39m, \u001b[39m\"\u001b[39m\u001b[39mmodel\u001b[39m\u001b[39m\"\u001b[39m], [\u001b[39m\"\u001b[39m\u001b[39mmessages\u001b[39m\u001b[39m\"\u001b[39m, \u001b[39m\"\u001b[39m\u001b[39mmodel\u001b[39m\u001b[39m\"\u001b[39m, \u001b[39m\"\u001b[39m\u001b[39mstream\u001b[39m\u001b[39m\"\u001b[39m])\n\u001b[1;32m    552\u001b[0m \u001b[39mdef\u001b[39;00m \u001b[39mcreate\u001b[39m(\n\u001b[1;32m    553\u001b[0m     \u001b[39mself\u001b[39m,\n\u001b[0;32m   (...)\u001b[0m\n\u001b[1;32m    596\u001b[0m     timeout: \u001b[39mfloat\u001b[39m \u001b[39m|\u001b[39m httpx\u001b[39m.\u001b[39mTimeout \u001b[39m|\u001b[39m \u001b[39mNone\u001b[39;00m \u001b[39m|\u001b[39m NotGiven \u001b[39m=\u001b[39m NOT_GIVEN,\n\u001b[1;32m    597\u001b[0m ) \u001b[39m-\u001b[39m\u001b[39m>\u001b[39m ChatCompletion \u001b[39m|\u001b[39m Stream[ChatCompletionChunk]:\n\u001b[0;32m--> 598\u001b[0m     \u001b[39mreturn\u001b[39;00m \u001b[39mself\u001b[39;49m\u001b[39m.\u001b[39;49m_post(\n\u001b[1;32m    599\u001b[0m         \u001b[39m\"\u001b[39;49m\u001b[39m/chat/completions\u001b[39;49m\u001b[39m\"\u001b[39;49m,\n\u001b[1;32m    600\u001b[0m         body\u001b[39m=\u001b[39;49mmaybe_transform(\n\u001b[1;32m    601\u001b[0m             {\n\u001b[1;32m    602\u001b[0m                 \u001b[39m\"\u001b[39;49m\u001b[39mmessages\u001b[39;49m\u001b[39m\"\u001b[39;49m: messages,\n\u001b[1;32m    603\u001b[0m                 \u001b[39m\"\u001b[39;49m\u001b[39mmodel\u001b[39;49m\u001b[39m\"\u001b[39;49m: model,\n\u001b[1;32m    604\u001b[0m                 \u001b[39m\"\u001b[39;49m\u001b[39mfrequency_penalty\u001b[39;49m\u001b[39m\"\u001b[39;49m: frequency_penalty,\n\u001b[1;32m    605\u001b[0m                 \u001b[39m\"\u001b[39;49m\u001b[39mfunction_call\u001b[39;49m\u001b[39m\"\u001b[39;49m: function_call,\n\u001b[1;32m    606\u001b[0m                 \u001b[39m\"\u001b[39;49m\u001b[39mfunctions\u001b[39;49m\u001b[39m\"\u001b[39;49m: functions,\n\u001b[1;32m    607\u001b[0m                 \u001b[39m\"\u001b[39;49m\u001b[39mlogit_bias\u001b[39;49m\u001b[39m\"\u001b[39;49m: logit_bias,\n\u001b[1;32m    608\u001b[0m                 \u001b[39m\"\u001b[39;49m\u001b[39mmax_tokens\u001b[39;49m\u001b[39m\"\u001b[39;49m: max_tokens,\n\u001b[1;32m    609\u001b[0m                 \u001b[39m\"\u001b[39;49m\u001b[39mn\u001b[39;49m\u001b[39m\"\u001b[39;49m: n,\n\u001b[1;32m    610\u001b[0m                 \u001b[39m\"\u001b[39;49m\u001b[39mpresence_penalty\u001b[39;49m\u001b[39m\"\u001b[39;49m: presence_penalty,\n\u001b[1;32m    611\u001b[0m                 \u001b[39m\"\u001b[39;49m\u001b[39mresponse_format\u001b[39;49m\u001b[39m\"\u001b[39;49m: response_format,\n\u001b[1;32m    612\u001b[0m                 \u001b[39m\"\u001b[39;49m\u001b[39mseed\u001b[39;49m\u001b[39m\"\u001b[39;49m: seed,\n\u001b[1;32m    613\u001b[0m                 \u001b[39m\"\u001b[39;49m\u001b[39mstop\u001b[39;49m\u001b[39m\"\u001b[39;49m: stop,\n\u001b[1;32m    614\u001b[0m                 \u001b[39m\"\u001b[39;49m\u001b[39mstream\u001b[39;49m\u001b[39m\"\u001b[39;49m: stream,\n\u001b[1;32m    615\u001b[0m                 \u001b[39m\"\u001b[39;49m\u001b[39mtemperature\u001b[39;49m\u001b[39m\"\u001b[39;49m: temperature,\n\u001b[1;32m    616\u001b[0m                 \u001b[39m\"\u001b[39;49m\u001b[39mtool_choice\u001b[39;49m\u001b[39m\"\u001b[39;49m: tool_choice,\n\u001b[1;32m    617\u001b[0m                 \u001b[39m\"\u001b[39;49m\u001b[39mtools\u001b[39;49m\u001b[39m\"\u001b[39;49m: tools,\n\u001b[1;32m    618\u001b[0m                 \u001b[39m\"\u001b[39;49m\u001b[39mtop_p\u001b[39;49m\u001b[39m\"\u001b[39;49m: top_p,\n\u001b[1;32m    619\u001b[0m                 \u001b[39m\"\u001b[39;49m\u001b[39muser\u001b[39;49m\u001b[39m\"\u001b[39;49m: user,\n\u001b[1;32m    620\u001b[0m             },\n\u001b[1;32m    621\u001b[0m             completion_create_params\u001b[39m.\u001b[39;49mCompletionCreateParams,\n\u001b[1;32m    622\u001b[0m         ),\n\u001b[1;32m    623\u001b[0m         options\u001b[39m=\u001b[39;49mmake_request_options(\n\u001b[1;32m    624\u001b[0m             extra_headers\u001b[39m=\u001b[39;49mextra_headers, extra_query\u001b[39m=\u001b[39;49mextra_query, extra_body\u001b[39m=\u001b[39;49mextra_body, timeout\u001b[39m=\u001b[39;49mtimeout\n\u001b[1;32m    625\u001b[0m         ),\n\u001b[1;32m    626\u001b[0m         cast_to\u001b[39m=\u001b[39;49mChatCompletion,\n\u001b[1;32m    627\u001b[0m         stream\u001b[39m=\u001b[39;49mstream \u001b[39mor\u001b[39;49;00m \u001b[39mFalse\u001b[39;49;00m,\n\u001b[1;32m    628\u001b[0m         stream_cls\u001b[39m=\u001b[39;49mStream[ChatCompletionChunk],\n\u001b[1;32m    629\u001b[0m     )\n",
            "File \u001b[0;32m~/Code/university/frontnow/frontnow/env/lib/python3.11/site-packages/openai/_base_client.py:1063\u001b[0m, in \u001b[0;36mSyncAPIClient.post\u001b[0;34m(self, path, cast_to, body, options, files, stream, stream_cls)\u001b[0m\n\u001b[1;32m   1049\u001b[0m \u001b[39mdef\u001b[39;00m \u001b[39mpost\u001b[39m(\n\u001b[1;32m   1050\u001b[0m     \u001b[39mself\u001b[39m,\n\u001b[1;32m   1051\u001b[0m     path: \u001b[39mstr\u001b[39m,\n\u001b[0;32m   (...)\u001b[0m\n\u001b[1;32m   1058\u001b[0m     stream_cls: \u001b[39mtype\u001b[39m[_StreamT] \u001b[39m|\u001b[39m \u001b[39mNone\u001b[39;00m \u001b[39m=\u001b[39m \u001b[39mNone\u001b[39;00m,\n\u001b[1;32m   1059\u001b[0m ) \u001b[39m-\u001b[39m\u001b[39m>\u001b[39m ResponseT \u001b[39m|\u001b[39m _StreamT:\n\u001b[1;32m   1060\u001b[0m     opts \u001b[39m=\u001b[39m FinalRequestOptions\u001b[39m.\u001b[39mconstruct(\n\u001b[1;32m   1061\u001b[0m         method\u001b[39m=\u001b[39m\u001b[39m\"\u001b[39m\u001b[39mpost\u001b[39m\u001b[39m\"\u001b[39m, url\u001b[39m=\u001b[39mpath, json_data\u001b[39m=\u001b[39mbody, files\u001b[39m=\u001b[39mto_httpx_files(files), \u001b[39m*\u001b[39m\u001b[39m*\u001b[39moptions\n\u001b[1;32m   1062\u001b[0m     )\n\u001b[0;32m-> 1063\u001b[0m     \u001b[39mreturn\u001b[39;00m cast(ResponseT, \u001b[39mself\u001b[39;49m\u001b[39m.\u001b[39;49mrequest(cast_to, opts, stream\u001b[39m=\u001b[39;49mstream, stream_cls\u001b[39m=\u001b[39;49mstream_cls))\n",
            "File \u001b[0;32m~/Code/university/frontnow/frontnow/env/lib/python3.11/site-packages/openai/_base_client.py:842\u001b[0m, in \u001b[0;36mSyncAPIClient.request\u001b[0;34m(self, cast_to, options, remaining_retries, stream, stream_cls)\u001b[0m\n\u001b[1;32m    833\u001b[0m \u001b[39mdef\u001b[39;00m \u001b[39mrequest\u001b[39m(\n\u001b[1;32m    834\u001b[0m     \u001b[39mself\u001b[39m,\n\u001b[1;32m    835\u001b[0m     cast_to: Type[ResponseT],\n\u001b[0;32m   (...)\u001b[0m\n\u001b[1;32m    840\u001b[0m     stream_cls: \u001b[39mtype\u001b[39m[_StreamT] \u001b[39m|\u001b[39m \u001b[39mNone\u001b[39;00m \u001b[39m=\u001b[39m \u001b[39mNone\u001b[39;00m,\n\u001b[1;32m    841\u001b[0m ) \u001b[39m-\u001b[39m\u001b[39m>\u001b[39m ResponseT \u001b[39m|\u001b[39m _StreamT:\n\u001b[0;32m--> 842\u001b[0m     \u001b[39mreturn\u001b[39;00m \u001b[39mself\u001b[39;49m\u001b[39m.\u001b[39;49m_request(\n\u001b[1;32m    843\u001b[0m         cast_to\u001b[39m=\u001b[39;49mcast_to,\n\u001b[1;32m    844\u001b[0m         options\u001b[39m=\u001b[39;49moptions,\n\u001b[1;32m    845\u001b[0m         stream\u001b[39m=\u001b[39;49mstream,\n\u001b[1;32m    846\u001b[0m         stream_cls\u001b[39m=\u001b[39;49mstream_cls,\n\u001b[1;32m    847\u001b[0m         remaining_retries\u001b[39m=\u001b[39;49mremaining_retries,\n\u001b[1;32m    848\u001b[0m     )\n",
            "File \u001b[0;32m~/Code/university/frontnow/frontnow/env/lib/python3.11/site-packages/openai/_base_client.py:866\u001b[0m, in \u001b[0;36mSyncAPIClient._request\u001b[0;34m(self, cast_to, options, remaining_retries, stream, stream_cls)\u001b[0m\n\u001b[1;32m    863\u001b[0m \u001b[39mself\u001b[39m\u001b[39m.\u001b[39m_prepare_request(request)\n\u001b[1;32m    865\u001b[0m \u001b[39mtry\u001b[39;00m:\n\u001b[0;32m--> 866\u001b[0m     response \u001b[39m=\u001b[39m \u001b[39mself\u001b[39;49m\u001b[39m.\u001b[39;49m_client\u001b[39m.\u001b[39;49msend(request, auth\u001b[39m=\u001b[39;49m\u001b[39mself\u001b[39;49m\u001b[39m.\u001b[39;49mcustom_auth, stream\u001b[39m=\u001b[39;49mstream)\n\u001b[1;32m    867\u001b[0m     log\u001b[39m.\u001b[39mdebug(\n\u001b[1;32m    868\u001b[0m         \u001b[39m'\u001b[39m\u001b[39mHTTP Request: \u001b[39m\u001b[39m%s\u001b[39;00m\u001b[39m \u001b[39m\u001b[39m%s\u001b[39;00m\u001b[39m \u001b[39m\u001b[39m\"\u001b[39m\u001b[39m%i\u001b[39;00m\u001b[39m \u001b[39m\u001b[39m%s\u001b[39;00m\u001b[39m\"\u001b[39m\u001b[39m'\u001b[39m, request\u001b[39m.\u001b[39mmethod, request\u001b[39m.\u001b[39murl, response\u001b[39m.\u001b[39mstatus_code, response\u001b[39m.\u001b[39mreason_phrase\n\u001b[1;32m    869\u001b[0m     )\n\u001b[1;32m    870\u001b[0m     response\u001b[39m.\u001b[39mraise_for_status()\n",
            "File \u001b[0;32m~/Code/university/frontnow/frontnow/env/lib/python3.11/site-packages/httpx/_client.py:901\u001b[0m, in \u001b[0;36mClient.send\u001b[0;34m(self, request, stream, auth, follow_redirects)\u001b[0m\n\u001b[1;32m    893\u001b[0m follow_redirects \u001b[39m=\u001b[39m (\n\u001b[1;32m    894\u001b[0m     \u001b[39mself\u001b[39m\u001b[39m.\u001b[39mfollow_redirects\n\u001b[1;32m    895\u001b[0m     \u001b[39mif\u001b[39;00m \u001b[39misinstance\u001b[39m(follow_redirects, UseClientDefault)\n\u001b[1;32m    896\u001b[0m     \u001b[39melse\u001b[39;00m follow_redirects\n\u001b[1;32m    897\u001b[0m )\n\u001b[1;32m    899\u001b[0m auth \u001b[39m=\u001b[39m \u001b[39mself\u001b[39m\u001b[39m.\u001b[39m_build_request_auth(request, auth)\n\u001b[0;32m--> 901\u001b[0m response \u001b[39m=\u001b[39m \u001b[39mself\u001b[39;49m\u001b[39m.\u001b[39;49m_send_handling_auth(\n\u001b[1;32m    902\u001b[0m     request,\n\u001b[1;32m    903\u001b[0m     auth\u001b[39m=\u001b[39;49mauth,\n\u001b[1;32m    904\u001b[0m     follow_redirects\u001b[39m=\u001b[39;49mfollow_redirects,\n\u001b[1;32m    905\u001b[0m     history\u001b[39m=\u001b[39;49m[],\n\u001b[1;32m    906\u001b[0m )\n\u001b[1;32m    907\u001b[0m \u001b[39mtry\u001b[39;00m:\n\u001b[1;32m    908\u001b[0m     \u001b[39mif\u001b[39;00m \u001b[39mnot\u001b[39;00m stream:\n",
            "File \u001b[0;32m~/Code/university/frontnow/frontnow/env/lib/python3.11/site-packages/httpx/_client.py:929\u001b[0m, in \u001b[0;36mClient._send_handling_auth\u001b[0;34m(self, request, auth, follow_redirects, history)\u001b[0m\n\u001b[1;32m    926\u001b[0m request \u001b[39m=\u001b[39m \u001b[39mnext\u001b[39m(auth_flow)\n\u001b[1;32m    928\u001b[0m \u001b[39mwhile\u001b[39;00m \u001b[39mTrue\u001b[39;00m:\n\u001b[0;32m--> 929\u001b[0m     response \u001b[39m=\u001b[39m \u001b[39mself\u001b[39;49m\u001b[39m.\u001b[39;49m_send_handling_redirects(\n\u001b[1;32m    930\u001b[0m         request,\n\u001b[1;32m    931\u001b[0m         follow_redirects\u001b[39m=\u001b[39;49mfollow_redirects,\n\u001b[1;32m    932\u001b[0m         history\u001b[39m=\u001b[39;49mhistory,\n\u001b[1;32m    933\u001b[0m     )\n\u001b[1;32m    934\u001b[0m     \u001b[39mtry\u001b[39;00m:\n\u001b[1;32m    935\u001b[0m         \u001b[39mtry\u001b[39;00m:\n",
            "File \u001b[0;32m~/Code/university/frontnow/frontnow/env/lib/python3.11/site-packages/httpx/_client.py:966\u001b[0m, in \u001b[0;36mClient._send_handling_redirects\u001b[0;34m(self, request, follow_redirects, history)\u001b[0m\n\u001b[1;32m    963\u001b[0m \u001b[39mfor\u001b[39;00m hook \u001b[39min\u001b[39;00m \u001b[39mself\u001b[39m\u001b[39m.\u001b[39m_event_hooks[\u001b[39m\"\u001b[39m\u001b[39mrequest\u001b[39m\u001b[39m\"\u001b[39m]:\n\u001b[1;32m    964\u001b[0m     hook(request)\n\u001b[0;32m--> 966\u001b[0m response \u001b[39m=\u001b[39m \u001b[39mself\u001b[39;49m\u001b[39m.\u001b[39;49m_send_single_request(request)\n\u001b[1;32m    967\u001b[0m \u001b[39mtry\u001b[39;00m:\n\u001b[1;32m    968\u001b[0m     \u001b[39mfor\u001b[39;00m hook \u001b[39min\u001b[39;00m \u001b[39mself\u001b[39m\u001b[39m.\u001b[39m_event_hooks[\u001b[39m\"\u001b[39m\u001b[39mresponse\u001b[39m\u001b[39m\"\u001b[39m]:\n",
            "File \u001b[0;32m~/Code/university/frontnow/frontnow/env/lib/python3.11/site-packages/httpx/_client.py:1002\u001b[0m, in \u001b[0;36mClient._send_single_request\u001b[0;34m(self, request)\u001b[0m\n\u001b[1;32m    997\u001b[0m     \u001b[39mraise\u001b[39;00m \u001b[39mRuntimeError\u001b[39;00m(\n\u001b[1;32m    998\u001b[0m         \u001b[39m\"\u001b[39m\u001b[39mAttempted to send an async request with a sync Client instance.\u001b[39m\u001b[39m\"\u001b[39m\n\u001b[1;32m    999\u001b[0m     )\n\u001b[1;32m   1001\u001b[0m \u001b[39mwith\u001b[39;00m request_context(request\u001b[39m=\u001b[39mrequest):\n\u001b[0;32m-> 1002\u001b[0m     response \u001b[39m=\u001b[39m transport\u001b[39m.\u001b[39;49mhandle_request(request)\n\u001b[1;32m   1004\u001b[0m \u001b[39massert\u001b[39;00m \u001b[39misinstance\u001b[39m(response\u001b[39m.\u001b[39mstream, SyncByteStream)\n\u001b[1;32m   1006\u001b[0m response\u001b[39m.\u001b[39mrequest \u001b[39m=\u001b[39m request\n",
            "File \u001b[0;32m~/Code/university/frontnow/frontnow/env/lib/python3.11/site-packages/httpx/_transports/default.py:228\u001b[0m, in \u001b[0;36mHTTPTransport.handle_request\u001b[0;34m(self, request)\u001b[0m\n\u001b[1;32m    215\u001b[0m req \u001b[39m=\u001b[39m httpcore\u001b[39m.\u001b[39mRequest(\n\u001b[1;32m    216\u001b[0m     method\u001b[39m=\u001b[39mrequest\u001b[39m.\u001b[39mmethod,\n\u001b[1;32m    217\u001b[0m     url\u001b[39m=\u001b[39mhttpcore\u001b[39m.\u001b[39mURL(\n\u001b[0;32m   (...)\u001b[0m\n\u001b[1;32m    225\u001b[0m     extensions\u001b[39m=\u001b[39mrequest\u001b[39m.\u001b[39mextensions,\n\u001b[1;32m    226\u001b[0m )\n\u001b[1;32m    227\u001b[0m \u001b[39mwith\u001b[39;00m map_httpcore_exceptions():\n\u001b[0;32m--> 228\u001b[0m     resp \u001b[39m=\u001b[39m \u001b[39mself\u001b[39;49m\u001b[39m.\u001b[39;49m_pool\u001b[39m.\u001b[39;49mhandle_request(req)\n\u001b[1;32m    230\u001b[0m \u001b[39massert\u001b[39;00m \u001b[39misinstance\u001b[39m(resp\u001b[39m.\u001b[39mstream, typing\u001b[39m.\u001b[39mIterable)\n\u001b[1;32m    232\u001b[0m \u001b[39mreturn\u001b[39;00m Response(\n\u001b[1;32m    233\u001b[0m     status_code\u001b[39m=\u001b[39mresp\u001b[39m.\u001b[39mstatus,\n\u001b[1;32m    234\u001b[0m     headers\u001b[39m=\u001b[39mresp\u001b[39m.\u001b[39mheaders,\n\u001b[1;32m    235\u001b[0m     stream\u001b[39m=\u001b[39mResponseStream(resp\u001b[39m.\u001b[39mstream),\n\u001b[1;32m    236\u001b[0m     extensions\u001b[39m=\u001b[39mresp\u001b[39m.\u001b[39mextensions,\n\u001b[1;32m    237\u001b[0m )\n",
            "File \u001b[0;32m~/Code/university/frontnow/frontnow/env/lib/python3.11/site-packages/httpcore/_sync/connection_pool.py:268\u001b[0m, in \u001b[0;36mConnectionPool.handle_request\u001b[0;34m(self, request)\u001b[0m\n\u001b[1;32m    266\u001b[0m     \u001b[39mwith\u001b[39;00m ShieldCancellation():\n\u001b[1;32m    267\u001b[0m         \u001b[39mself\u001b[39m\u001b[39m.\u001b[39mresponse_closed(status)\n\u001b[0;32m--> 268\u001b[0m     \u001b[39mraise\u001b[39;00m exc\n\u001b[1;32m    269\u001b[0m \u001b[39melse\u001b[39;00m:\n\u001b[1;32m    270\u001b[0m     \u001b[39mbreak\u001b[39;00m\n",
            "File \u001b[0;32m~/Code/university/frontnow/frontnow/env/lib/python3.11/site-packages/httpcore/_sync/connection_pool.py:251\u001b[0m, in \u001b[0;36mConnectionPool.handle_request\u001b[0;34m(self, request)\u001b[0m\n\u001b[1;32m    248\u001b[0m         \u001b[39mraise\u001b[39;00m exc\n\u001b[1;32m    250\u001b[0m \u001b[39mtry\u001b[39;00m:\n\u001b[0;32m--> 251\u001b[0m     response \u001b[39m=\u001b[39m connection\u001b[39m.\u001b[39;49mhandle_request(request)\n\u001b[1;32m    252\u001b[0m \u001b[39mexcept\u001b[39;00m ConnectionNotAvailable:\n\u001b[1;32m    253\u001b[0m     \u001b[39m# The ConnectionNotAvailable exception is a special case, that\u001b[39;00m\n\u001b[1;32m    254\u001b[0m     \u001b[39m# indicates we need to retry the request on a new connection.\u001b[39;00m\n\u001b[0;32m   (...)\u001b[0m\n\u001b[1;32m    258\u001b[0m     \u001b[39m# might end up as an HTTP/2 connection, but which actually ends\u001b[39;00m\n\u001b[1;32m    259\u001b[0m     \u001b[39m# up as HTTP/1.1.\u001b[39;00m\n\u001b[1;32m    260\u001b[0m     \u001b[39mwith\u001b[39;00m \u001b[39mself\u001b[39m\u001b[39m.\u001b[39m_pool_lock:\n\u001b[1;32m    261\u001b[0m         \u001b[39m# Maintain our position in the request queue, but reset the\u001b[39;00m\n\u001b[1;32m    262\u001b[0m         \u001b[39m# status so that the request becomes queued again.\u001b[39;00m\n",
            "File \u001b[0;32m~/Code/university/frontnow/frontnow/env/lib/python3.11/site-packages/httpcore/_sync/connection.py:103\u001b[0m, in \u001b[0;36mHTTPConnection.handle_request\u001b[0;34m(self, request)\u001b[0m\n\u001b[1;32m    100\u001b[0m     \u001b[39melif\u001b[39;00m \u001b[39mnot\u001b[39;00m \u001b[39mself\u001b[39m\u001b[39m.\u001b[39m_connection\u001b[39m.\u001b[39mis_available():\n\u001b[1;32m    101\u001b[0m         \u001b[39mraise\u001b[39;00m ConnectionNotAvailable()\n\u001b[0;32m--> 103\u001b[0m \u001b[39mreturn\u001b[39;00m \u001b[39mself\u001b[39;49m\u001b[39m.\u001b[39;49m_connection\u001b[39m.\u001b[39;49mhandle_request(request)\n",
            "File \u001b[0;32m~/Code/university/frontnow/frontnow/env/lib/python3.11/site-packages/httpcore/_sync/http11.py:133\u001b[0m, in \u001b[0;36mHTTP11Connection.handle_request\u001b[0;34m(self, request)\u001b[0m\n\u001b[1;32m    131\u001b[0m     \u001b[39mwith\u001b[39;00m Trace(\u001b[39m\"\u001b[39m\u001b[39mresponse_closed\u001b[39m\u001b[39m\"\u001b[39m, logger, request) \u001b[39mas\u001b[39;00m trace:\n\u001b[1;32m    132\u001b[0m         \u001b[39mself\u001b[39m\u001b[39m.\u001b[39m_response_closed()\n\u001b[0;32m--> 133\u001b[0m \u001b[39mraise\u001b[39;00m exc\n",
            "File \u001b[0;32m~/Code/university/frontnow/frontnow/env/lib/python3.11/site-packages/httpcore/_sync/http11.py:111\u001b[0m, in \u001b[0;36mHTTP11Connection.handle_request\u001b[0;34m(self, request)\u001b[0m\n\u001b[1;32m    101\u001b[0m     \u001b[39mpass\u001b[39;00m\n\u001b[1;32m    103\u001b[0m \u001b[39mwith\u001b[39;00m Trace(\n\u001b[1;32m    104\u001b[0m     \u001b[39m\"\u001b[39m\u001b[39mreceive_response_headers\u001b[39m\u001b[39m\"\u001b[39m, logger, request, kwargs\n\u001b[1;32m    105\u001b[0m ) \u001b[39mas\u001b[39;00m trace:\n\u001b[1;32m    106\u001b[0m     (\n\u001b[1;32m    107\u001b[0m         http_version,\n\u001b[1;32m    108\u001b[0m         status,\n\u001b[1;32m    109\u001b[0m         reason_phrase,\n\u001b[1;32m    110\u001b[0m         headers,\n\u001b[0;32m--> 111\u001b[0m     ) \u001b[39m=\u001b[39m \u001b[39mself\u001b[39;49m\u001b[39m.\u001b[39;49m_receive_response_headers(\u001b[39m*\u001b[39;49m\u001b[39m*\u001b[39;49mkwargs)\n\u001b[1;32m    112\u001b[0m     trace\u001b[39m.\u001b[39mreturn_value \u001b[39m=\u001b[39m (\n\u001b[1;32m    113\u001b[0m         http_version,\n\u001b[1;32m    114\u001b[0m         status,\n\u001b[1;32m    115\u001b[0m         reason_phrase,\n\u001b[1;32m    116\u001b[0m         headers,\n\u001b[1;32m    117\u001b[0m     )\n\u001b[1;32m    119\u001b[0m \u001b[39mreturn\u001b[39;00m Response(\n\u001b[1;32m    120\u001b[0m     status\u001b[39m=\u001b[39mstatus,\n\u001b[1;32m    121\u001b[0m     headers\u001b[39m=\u001b[39mheaders,\n\u001b[0;32m   (...)\u001b[0m\n\u001b[1;32m    127\u001b[0m     },\n\u001b[1;32m    128\u001b[0m )\n",
            "File \u001b[0;32m~/Code/university/frontnow/frontnow/env/lib/python3.11/site-packages/httpcore/_sync/http11.py:176\u001b[0m, in \u001b[0;36mHTTP11Connection._receive_response_headers\u001b[0;34m(self, request)\u001b[0m\n\u001b[1;32m    173\u001b[0m timeout \u001b[39m=\u001b[39m timeouts\u001b[39m.\u001b[39mget(\u001b[39m\"\u001b[39m\u001b[39mread\u001b[39m\u001b[39m\"\u001b[39m, \u001b[39mNone\u001b[39;00m)\n\u001b[1;32m    175\u001b[0m \u001b[39mwhile\u001b[39;00m \u001b[39mTrue\u001b[39;00m:\n\u001b[0;32m--> 176\u001b[0m     event \u001b[39m=\u001b[39m \u001b[39mself\u001b[39;49m\u001b[39m.\u001b[39;49m_receive_event(timeout\u001b[39m=\u001b[39;49mtimeout)\n\u001b[1;32m    177\u001b[0m     \u001b[39mif\u001b[39;00m \u001b[39misinstance\u001b[39m(event, h11\u001b[39m.\u001b[39mResponse):\n\u001b[1;32m    178\u001b[0m         \u001b[39mbreak\u001b[39;00m\n",
            "File \u001b[0;32m~/Code/university/frontnow/frontnow/env/lib/python3.11/site-packages/httpcore/_sync/http11.py:212\u001b[0m, in \u001b[0;36mHTTP11Connection._receive_event\u001b[0;34m(self, timeout)\u001b[0m\n\u001b[1;32m    209\u001b[0m     event \u001b[39m=\u001b[39m \u001b[39mself\u001b[39m\u001b[39m.\u001b[39m_h11_state\u001b[39m.\u001b[39mnext_event()\n\u001b[1;32m    211\u001b[0m \u001b[39mif\u001b[39;00m event \u001b[39mis\u001b[39;00m h11\u001b[39m.\u001b[39mNEED_DATA:\n\u001b[0;32m--> 212\u001b[0m     data \u001b[39m=\u001b[39m \u001b[39mself\u001b[39;49m\u001b[39m.\u001b[39;49m_network_stream\u001b[39m.\u001b[39;49mread(\n\u001b[1;32m    213\u001b[0m         \u001b[39mself\u001b[39;49m\u001b[39m.\u001b[39;49mREAD_NUM_BYTES, timeout\u001b[39m=\u001b[39;49mtimeout\n\u001b[1;32m    214\u001b[0m     )\n\u001b[1;32m    216\u001b[0m     \u001b[39m# If we feed this case through h11 we'll raise an exception like:\u001b[39;00m\n\u001b[1;32m    217\u001b[0m     \u001b[39m#\u001b[39;00m\n\u001b[1;32m    218\u001b[0m     \u001b[39m#     httpcore.RemoteProtocolError: can't handle event type\u001b[39;00m\n\u001b[0;32m   (...)\u001b[0m\n\u001b[1;32m    222\u001b[0m     \u001b[39m# perspective. Instead we handle this case distinctly and treat\u001b[39;00m\n\u001b[1;32m    223\u001b[0m     \u001b[39m# it as a ConnectError.\u001b[39;00m\n\u001b[1;32m    224\u001b[0m     \u001b[39mif\u001b[39;00m data \u001b[39m==\u001b[39m \u001b[39mb\u001b[39m\u001b[39m\"\u001b[39m\u001b[39m\"\u001b[39m \u001b[39mand\u001b[39;00m \u001b[39mself\u001b[39m\u001b[39m.\u001b[39m_h11_state\u001b[39m.\u001b[39mtheir_state \u001b[39m==\u001b[39m h11\u001b[39m.\u001b[39mSEND_RESPONSE:\n",
            "File \u001b[0;32m~/Code/university/frontnow/frontnow/env/lib/python3.11/site-packages/httpcore/_backends/sync.py:126\u001b[0m, in \u001b[0;36mSyncStream.read\u001b[0;34m(self, max_bytes, timeout)\u001b[0m\n\u001b[1;32m    124\u001b[0m \u001b[39mwith\u001b[39;00m map_exceptions(exc_map):\n\u001b[1;32m    125\u001b[0m     \u001b[39mself\u001b[39m\u001b[39m.\u001b[39m_sock\u001b[39m.\u001b[39msettimeout(timeout)\n\u001b[0;32m--> 126\u001b[0m     \u001b[39mreturn\u001b[39;00m \u001b[39mself\u001b[39;49m\u001b[39m.\u001b[39;49m_sock\u001b[39m.\u001b[39;49mrecv(max_bytes)\n",
            "File \u001b[0;32m/opt/homebrew/Cellar/python@3.11/3.11.6_1/Frameworks/Python.framework/Versions/3.11/lib/python3.11/ssl.py:1296\u001b[0m, in \u001b[0;36mSSLSocket.recv\u001b[0;34m(self, buflen, flags)\u001b[0m\n\u001b[1;32m   1292\u001b[0m     \u001b[39mif\u001b[39;00m flags \u001b[39m!=\u001b[39m \u001b[39m0\u001b[39m:\n\u001b[1;32m   1293\u001b[0m         \u001b[39mraise\u001b[39;00m \u001b[39mValueError\u001b[39;00m(\n\u001b[1;32m   1294\u001b[0m             \u001b[39m\"\u001b[39m\u001b[39mnon-zero flags not allowed in calls to recv() on \u001b[39m\u001b[39m%s\u001b[39;00m\u001b[39m\"\u001b[39m \u001b[39m%\u001b[39m\n\u001b[1;32m   1295\u001b[0m             \u001b[39mself\u001b[39m\u001b[39m.\u001b[39m\u001b[39m__class__\u001b[39m)\n\u001b[0;32m-> 1296\u001b[0m     \u001b[39mreturn\u001b[39;00m \u001b[39mself\u001b[39;49m\u001b[39m.\u001b[39;49mread(buflen)\n\u001b[1;32m   1297\u001b[0m \u001b[39melse\u001b[39;00m:\n\u001b[1;32m   1298\u001b[0m     \u001b[39mreturn\u001b[39;00m \u001b[39msuper\u001b[39m()\u001b[39m.\u001b[39mrecv(buflen, flags)\n",
            "File \u001b[0;32m/opt/homebrew/Cellar/python@3.11/3.11.6_1/Frameworks/Python.framework/Versions/3.11/lib/python3.11/ssl.py:1169\u001b[0m, in \u001b[0;36mSSLSocket.read\u001b[0;34m(self, len, buffer)\u001b[0m\n\u001b[1;32m   1167\u001b[0m         \u001b[39mreturn\u001b[39;00m \u001b[39mself\u001b[39m\u001b[39m.\u001b[39m_sslobj\u001b[39m.\u001b[39mread(\u001b[39mlen\u001b[39m, buffer)\n\u001b[1;32m   1168\u001b[0m     \u001b[39melse\u001b[39;00m:\n\u001b[0;32m-> 1169\u001b[0m         \u001b[39mreturn\u001b[39;00m \u001b[39mself\u001b[39;49m\u001b[39m.\u001b[39;49m_sslobj\u001b[39m.\u001b[39;49mread(\u001b[39mlen\u001b[39;49m)\n\u001b[1;32m   1170\u001b[0m \u001b[39mexcept\u001b[39;00m SSLError \u001b[39mas\u001b[39;00m x:\n\u001b[1;32m   1171\u001b[0m     \u001b[39mif\u001b[39;00m x\u001b[39m.\u001b[39margs[\u001b[39m0\u001b[39m] \u001b[39m==\u001b[39m SSL_ERROR_EOF \u001b[39mand\u001b[39;00m \u001b[39mself\u001b[39m\u001b[39m.\u001b[39msuppress_ragged_eofs:\n",
            "\u001b[0;31mKeyboardInterrupt\u001b[0m: "
          ]
        }
      ],
      "source": [
        "from openai import OpenAI\n",
        "from dotenv import dotenv_values\n",
        "\n",
        "updated_df = df.copy()\n",
        "\n",
        "client = OpenAI(\n",
        "    api_key=dotenv_values(\".env\")[\"OPENAI_API_KEY\"],\n",
        ")\n",
        "result_array = []\n",
        "result_df = pd.DataFrame(columns=[\"result\"])\n",
        "\n",
        "new_df = pd.DataFrame(columns=[\"id\", \"enhanced_description\"])\n",
        "for i in range(0,100):\n",
        "    json_string = json_objects[i]\n",
        "    prompt = f\"\"\"\n",
        "            Erstellen Sie eine überzeugende und genaue Produktbeschreibung für jedes der Produkte, die in der untenstehenden JSON-Datenstruktur bereitgestellt werden. Diese Beschreibung sollte in der Ausgabe enthalten sein.\n",
        "\n",
        "            Die Ausgabe sollte ein JSON-Array sein, das nur aus den ursprünglichen id und den aktualisierten Beschreibung Feldern für jedes Produkt besteht.\n",
        "            ===\n",
        "            {json_string}\n",
        "            \"\"\"\n",
        "    \n",
        "    result = client.chat.completions.create(\n",
        "        messages=[\n",
        "            {\n",
        "                \"role\": \"user\",\n",
        "                \"content\": prompt,\n",
        "            }\n",
        "        ],\n",
        "        model=\"gpt-4-1106-preview\"\n",
        "    )\n",
        "    string = result.choices[0].message.content\n",
        "    start_index = string.find('{')\n",
        "\n",
        "    # Find the position of the last '}'\n",
        "    end_index = string.rfind('}')\n",
        "\n",
        "    # Check if both characters are found\n",
        "    if start_index != -1 and end_index != -1:\n",
        "        json_obj = (json.loads(string[start_index:end_index+1]))\n",
        "        better_description = {'id': json_obj['id'], 'enhanced_description': json_obj['Beschreibung']}\n",
        "        new_df.loc[len(new_df)] = better_description\n",
        "        if i % 2 == 0:\n",
        "            print(f\"Processed {i} rows\")\n",
        "            # save the updated dataframe to a csv file\n",
        "            new_df.to_csv(\"updated_product_data.csv\", index=False)\n",
        "        print(better_description)\n",
        "        \n",
        "print(updated_df.head())"
      ]
    },
    {
      "cell_type": "code",
      "execution_count": 112,
      "metadata": {},
      "outputs": [
        {
          "name": "stdout",
          "output_type": "stream",
          "text": [
            "[{'id': '39b782de-7aa7-4598-aafd-e6770a2eaaa0', 'Beschreibung': 'Die 3M™ Mehrweg-Halbmaske mit Wechselfiltern 6002C ist eine robuste und vielseitige Schutzausrüstung für anspruchsvolle Arbeitsumgebungen. Geeignet für Farbspritz- und Maschinenschleifarbeiten sowie andere Tätigkeiten mit organischen Gasen und Dämpfen, bietet die Maske Schutz der Stufe A2 gegen organische Dämpfe wie Lösemittel sowie P2 Schutz gegen Feinstaub und Öl- oder Wasserdämpfe. Die wiederverwendbare Maske zeichnet sich durch ihr Doppel-Einatemventil aus, das eine verbesserte Atmungsaktivität und einen reduzierten Atemwiderstand im Vergleich zu Einzelfiltermasken ermöglicht. Der Bajonett-Klick-Verschluss erlaubt einen einfachen Filterwechsel und ist kompatibel mit einer Vielzahl von Filtern. Die Einheitsgröße und die Eigenschaften entsprechen den Normen EN 140:1998, 6055: EN 14387:2004 A1:2008 A2 und 5925: EN 143:2000 P2 R, was eine hohe Zuverlässigkeit und Sicherheit gewährleistet. Mit einem Gewicht von nur 0.412 kg und in der Farbe Grau ist die Maske ein essentieller Bestandteil der persönlichen Schutzausrüstung beim Umgang mit gefährlichen Stoffen.'}, {'id': '8364f617-ff56-4b79-88b9-4e4113c5db27', 'Beschreibung': 'Die 1 Lochwand Step II von Wolfcraft ist der perfekte Organisator für jede Werkstatt. Hergestellt aus robustem Stahlblech und Aluminium, bietet die Lochwand eine tragfähige und langlebige Möglichkeit, Werkzeuge übersichtlich und immer griffbereit an der Wand zu befestigen. Dieses einfache Aufbewahrungssystem kann bis zu 50 kg tragen und kommt inklusive aller notwendigen Systemhaken sowie Befestigungsmaterial, um direkt mit der Einrichtung loszulegen. Die Lochwand misst in ihrer Höhe 50 cm und in der Breite 96 cm, was ausreichend Raum für eine Vielzahl von Werkzeugen bietet. Mit einem Gewicht von nur 5 kg lässt sie sich leicht manövrieren und installieren. Die Farbkombination aus Grau und Silber fügt sich nahtlos in jede Werkstattumgebung ein. Der Lieferumfang umfasst 1 Stück der Lochwand Step II.'}]\n"
          ]
        }
      ],
      "source": [
        "enhanced_results = []\n",
        "for item in result_array:\n",
        "    string = item.choices[0].message.content\n",
        "    start_index = string.find('{')\n",
        "\n",
        "    # Find the position of the last '}'\n",
        "    end_index = string.rfind('}')\n",
        "\n",
        "    # Check if both characters are found\n",
        "    if start_index != -1 and end_index != -1:\n",
        "        enhanced_results.append(json.loads(string[start_index:end_index+1]))\n",
        "    \n",
        "\n",
        "print(enhanced_results)"
      ]
    },
    {
      "cell_type": "code",
      "execution_count": 115,
      "metadata": {},
      "outputs": [
        {
          "name": "stdout",
          "output_type": "stream",
          "text": [
            "{'39b782de-7aa7-4598-aafd-e6770a2eaaa0': 'Die 3M™ Mehrweg-Halbmaske mit Wechselfiltern 6002C ist eine robuste und vielseitige Schutzausrüstung für anspruchsvolle Arbeitsumgebungen. Geeignet für Farbspritz- und Maschinenschleifarbeiten sowie andere Tätigkeiten mit organischen Gasen und Dämpfen, bietet die Maske Schutz der Stufe A2 gegen organische Dämpfe wie Lösemittel sowie P2 Schutz gegen Feinstaub und Öl- oder Wasserdämpfe. Die wiederverwendbare Maske zeichnet sich durch ihr Doppel-Einatemventil aus, das eine verbesserte Atmungsaktivität und einen reduzierten Atemwiderstand im Vergleich zu Einzelfiltermasken ermöglicht. Der Bajonett-Klick-Verschluss erlaubt einen einfachen Filterwechsel und ist kompatibel mit einer Vielzahl von Filtern. Die Einheitsgröße und die Eigenschaften entsprechen den Normen EN 140:1998, 6055: EN 14387:2004 A1:2008 A2 und 5925: EN 143:2000 P2 R, was eine hohe Zuverlässigkeit und Sicherheit gewährleistet. Mit einem Gewicht von nur 0.412 kg und in der Farbe Grau ist die Maske ein essentieller Bestandteil der persönlichen Schutzausrüstung beim Umgang mit gefährlichen Stoffen.', '8364f617-ff56-4b79-88b9-4e4113c5db27': 'Die 1 Lochwand Step II von Wolfcraft ist der perfekte Organisator für jede Werkstatt. Hergestellt aus robustem Stahlblech und Aluminium, bietet die Lochwand eine tragfähige und langlebige Möglichkeit, Werkzeuge übersichtlich und immer griffbereit an der Wand zu befestigen. Dieses einfache Aufbewahrungssystem kann bis zu 50 kg tragen und kommt inklusive aller notwendigen Systemhaken sowie Befestigungsmaterial, um direkt mit der Einrichtung loszulegen. Die Lochwand misst in ihrer Höhe 50 cm und in der Breite 96 cm, was ausreichend Raum für eine Vielzahl von Werkzeugen bietet. Mit einem Gewicht von nur 5 kg lässt sie sich leicht manövrieren und installieren. Die Farbkombination aus Grau und Silber fügt sich nahtlos in jede Werkstattumgebung ein. Der Lieferumfang umfasst 1 Stück der Lochwand Step II.'}\n"
          ]
        }
      ],
      "source": [
        "better_descriptions = {item['id']: item['Beschreibung'] for item in enhanced_results}\n",
        "\n",
        "print(better_descriptions)"
      ]
    },
    {
      "cell_type": "code",
      "execution_count": 119,
      "metadata": {
        "id": "CSVZz7AGTtEB"
      },
      "outputs": [
        {
          "name": "stdout",
          "output_type": "stream",
          "text": [
            "                                     id          GTIN  external_id  \\\n",
            "0  39b782de-7aa7-4598-aafd-e6770a2eaaa0  5.761020e+13      6104950   \n",
            "1  68f8dd55-4c90-4f74-8547-78e34eb977ed  3.100350e+12      6336316   \n",
            "2  bb52940b-1f40-48f5-9413-db97a48b3187  8.423220e+12      6899264   \n",
            "3  ae10152f-39d0-428d-bcbe-86b5b637a29b  7.627540e+12      7100535   \n",
            "4  8364f617-ff56-4b79-88b9-4e4113c5db27  4.006890e+12      4813481   \n",
            "\n",
            "                                                 URL  \\\n",
            "0  https://www.jumbo.ch/maschinen-werkstatt/bekle...   \n",
            "1  https://www.jumbo.ch/maschinen-werkstatt/besch...   \n",
            "2  https://www.jumbo.ch/maschinen-werkstatt/besch...   \n",
            "3  https://www.jumbo.ch/hobby-sport/autozubehoer/...   \n",
            "4  https://www.jumbo.ch/maschinen-werkstatt/werks...   \n",
            "\n",
            "                                                Bild  \\\n",
            "0  https://www.jumbo.ch/img/products/402Wx268H/61...   \n",
            "1  https://www.jumbo.ch/img/products/402Wx268H/63...   \n",
            "2  https://www.jumbo.ch/img/products/402Wx268H/68...   \n",
            "3  https://www.jumbo.ch/img/products/402Wx268H/71...   \n",
            "4  https://www.jumbo.ch/img/products/402Wx268H/48...   \n",
            "\n",
            "                                               Titel  \\\n",
            "0  . . . 3M™ Mehrweg-Halbmaske mit Wechselfiltern...   \n",
            "1  . . . 3M™ Sliders Sp62N14, Möbelgleiter braun ...   \n",
            "2                  .Moebelknoepf Segelboot, 54X81 MM   \n",
            "3               0ecoplan Auto-Scheibenreiniger 500Ml   \n",
            "4                                 1 Lochwand Step II   \n",
            "\n",
            "                                        Beschreibung  \\\n",
            "0  Effektiver Schutz: Die 3M™ Farbspritz-Mehrwegm...   \n",
            "1  Möbel mühelos verschieben, auch schwere Stücke...   \n",
            "2                                                NaN   \n",
            "3                                                NaN   \n",
            "4  Praktische und einfache Aufbewahrung von Werkz...   \n",
            "\n",
            "                                       Eigenschaften      Marke  Kategorie  \\\n",
            "0  Wiederverwendbare Atemschutzmaske für Farbspri...         3M    40603.0   \n",
            "1                            Extra starker Klebstoff         3M  4050304.0   \n",
            "2                                                NaN        NaN  4050110.0   \n",
            "3                                                NaN   Oecoplan  8070102.0   \n",
            "4                               Belastbar bis 50 kg.  Wolfcraft  4030201.0   \n",
            "\n",
            "   ...  Batterien enthalten Starthilfestrom in Ah Schwierigkeitsgrad  \\\n",
            "0  ...                  NaN                   NaN                NaN   \n",
            "1  ...                  NaN                   NaN                NaN   \n",
            "2  ...                  NaN                   NaN                NaN   \n",
            "3  ...                  NaN                   NaN                NaN   \n",
            "4  ...                  NaN                   NaN                NaN   \n",
            "\n",
            "  Produktfarbe NF Optik Laub Rosentyp Züchter Blueten  \\\n",
            "0             NaN   NaN  NaN      NaN     NaN     NaN   \n",
            "1             NaN   NaN  NaN      NaN     NaN     NaN   \n",
            "2             NaN   NaN  NaN      NaN     NaN     NaN   \n",
            "3             NaN   NaN  NaN      NaN     NaN     NaN   \n",
            "4             NaN   NaN  NaN      NaN     NaN     NaN   \n",
            "\n",
            "                                enhanced_description  \n",
            "0  Die 3M™ Mehrweg-Halbmaske mit Wechselfiltern 6...  \n",
            "1                                                NaN  \n",
            "2                                                NaN  \n",
            "3                                                NaN  \n",
            "4  Die 1 Lochwand Step II von Wolfcraft ist der p...  \n",
            "\n",
            "[5 rows x 444 columns]\n"
          ]
        }
      ],
      "source": [
        "\n",
        "\n",
        "# Update the descriptions in a new data frame\n",
        "updated_df = df.copy()\n",
        "\n",
        "updated_df['enhanced_description'] = updated_df['id'].map(better_descriptions)\n",
        "\n",
        "print(updated_df.head())\n"
      ]
    },
    {
      "cell_type": "code",
      "execution_count": null,
      "metadata": {
        "id": "WTob6EK0YCQr"
      },
      "outputs": [],
      "source": [
        "# Create a new series containing the product description lengths\n",
        "updated_num_chars_in_description = get_num_chars_in_description(updated_df)\n",
        "\n",
        "# Calculate how many rows are now under the threshold\n",
        "print(get_rows_under_threshold(updated_num_chars_in_description, threshold).shape[0])"
      ]
    },
    {
      "cell_type": "markdown",
      "metadata": {
        "id": "YBLue2XGn8LR"
      },
      "source": [
        "Finally, let's plot our result!"
      ]
    },
    {
      "cell_type": "code",
      "execution_count": null,
      "metadata": {
        "id": "qsVKtYwZiKz4"
      },
      "outputs": [],
      "source": [
        "# Define the bin width and xlimit\n",
        "bin_width = 10\n",
        "xlim_left = 60\n",
        "xlim_right = 120\n",
        "\n",
        "# Create two histograms\n",
        "fig, ax = plt.subplots()\n",
        "ax.hist(num_chars_in_description, bins=np.arange(0, xlim_right + bin_width, bin_width), alpha=0.5, label='Original')\n",
        "ax.hist(updated_num_chars_in_description, bins=np.arange(0, xlim_right + bin_width, bin_width), alpha=0.5, label='Updated')\n",
        "\n",
        "# Set the x-axis limits\n",
        "ax.set_xlim(xlim_left, xlim_right)\n",
        "\n",
        "# Add a legend\n",
        "ax.legend()\n",
        "\n",
        "# Set the title and labels\n",
        "ax.set_title('Product Description Length')\n",
        "ax.set_xlabel('Number of Characters')\n",
        "ax.set_ylabel('Frequency')\n",
        "\n",
        "# Show the plot\n",
        "plt.show()\n"
      ]
    },
    {
      "cell_type": "markdown",
      "metadata": {
        "id": "vnKzQMX7nHUf"
      },
      "source": [
        "Thanks for walking through this tutorial. I hope you've learned some new things, and enjoyed the experience!"
      ]
    }
  ],
  "metadata": {
    "colab": {
      "provenance": []
    },
    "kernelspec": {
      "display_name": "Python 3",
      "name": "python3"
    },
    "language_info": {
      "codemirror_mode": {
        "name": "ipython",
        "version": 3
      },
      "file_extension": ".py",
      "mimetype": "text/x-python",
      "name": "python",
      "nbconvert_exporter": "python",
      "pygments_lexer": "ipython3",
      "version": "3.11.6"
    }
  },
  "nbformat": 4,
  "nbformat_minor": 0
}
