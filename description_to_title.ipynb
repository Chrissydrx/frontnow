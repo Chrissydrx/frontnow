{
 "cells": [
  {
   "cell_type": "code",
   "execution_count": 1,
   "metadata": {},
   "outputs": [
    {
     "data": {
      "text/plain": [
       "True"
      ]
     },
     "execution_count": 1,
     "metadata": {},
     "output_type": "execute_result"
    }
   ],
   "source": [
    "from openai import OpenAI\n",
    "import pandas as pd\n",
    "import numpy as np\n",
    "from dotenv import load_dotenv\n",
    "import os\n",
    "\n",
    "load_dotenv()"
   ]
  },
  {
   "cell_type": "code",
   "execution_count": 10,
   "metadata": {},
   "outputs": [],
   "source": [
    "# Data from previous steps\n",
    "required_title_components = ['Marke', 'Typ', \"Model\", \"Material\", \"Farbe\", \"Abmessung\", \"Stückzahl\"]\n",
    "# required_title_components = ['Marke', 'Typ', \"Model\", \"Stückzahl\"]\n",
    "provided_description = \"\"\"\n",
    "Die Luminex LX-2023 ist eine elegante und moderne LED-Deckenlampe, die perfekt für zeitgemäße Wohn- und Büroumgebungen geeignet ist. Ihr schlankes Design und die hochwertige silbergraue Edelstahlkonstruktion verleihen jedem Raum ein Gefühl von Eleganz und Modernität. Mit einem Durchmesser von 50 cm und einer Höhe von 10 cm passt diese Lampe ideal in mittelgroße Räume.\n",
    "Die integrierte LED-Technologie sorgt für eine effiziente und langlebige Beleuchtung. Dank der modernen LED-Technik ist die Lampe sowohl energieeffizient als auch umweltfreundlich. Sie bietet eine helle und gleichmäßige Beleuchtung, die ideal für Arbeits- oder Wohnbereiche ist.\n",
    "Jede Verpackung enthält eine LX-2023 Lampe, komplett mit einer einfachen Installationsanleitung und dem benötigten Montagematerial. Mit ihrem zeitlosen Design und der robusten Konstruktion ist die Luminex LX-2023 eine ausgezeichnete Wahl für alle, die nach einer stilvollen und praktischen Beleuchtungslösung suchen.\n",
    "\"\"\""
   ]
  },
  {
   "cell_type": "code",
   "execution_count": 11,
   "metadata": {},
   "outputs": [],
   "source": [
    "def format_components(components):\n",
    "    formatted_components = [f'<{component}>' for component in components]\n",
    "    return ', '.join(formatted_components)\n",
    "\n",
    "prompt = [\n",
    "    {\n",
    "        \"role\": \"system\",\n",
    "        \"content\": f\"\"\"\n",
    "        Wir haben eine Produktbeschreibung erhalten. Bitte erstellen Sie einen Titel für das Produkt.\n",
    "        Eine Produkttitel besteht aus mehreren Komponenten. Die Komponenten sind {format_components(required_title_components)} und sollen in dieser genauen Reihenfolge auftauchen. Die Komponenten sollen sollen jeweils mit einem Komma getrennt werden.\n",
    "        Eine Produkttitle sollte ungefähr 80 Zeichen lang sein.\n",
    "        Eine Produkttitle sollte nur die wichtigsten Informationen enthalten.\n",
    "        Es ist wichtig, dass sich an die oben genannten Regeln gehalten wird, da sonst die Produkttitle nicht verarbeitet werden kann.\n",
    "        Die Produktbeschreibung lautet: {provided_description}\n",
    "        \"\"\"\n",
    "    }\n",
    "]\n"
   ]
  },
  {
   "cell_type": "code",
   "execution_count": 12,
   "metadata": {},
   "outputs": [
    {
     "name": "stdout",
     "output_type": "stream",
     "text": [
      "Temperature: 0.0\n",
      "Luminex, LED-Deckenlampe, LX-2023, Edelstahl, Silbergrau, 50x10 cm, 1 Stück\n",
      "\n",
      "Temperature: 0.2\n",
      "Luminex, LED-Deckenlampe, LX-2023, Edelstahl, Silbergrau, 50x10 cm, 1 Stück\n",
      "\n",
      "Temperature: 0.39999999999999997\n",
      "Luminex, LED-Deckenlampe, LX-2023, Edelstahl, Silbergrau, 50x10 cm, 1 Stück\n",
      "\n",
      "Temperature: 0.6000000000000001\n",
      "Luminex, LED-Deckenlampe, LX-2023, Edelstahl, Silbergrau, 50x10 cm, 1 Stück\n",
      "\n",
      "Temperature: 0.8\n",
      "Luminex,LED-Deckenlampe,LX-2023,Edelstahl,Silbergrau,50x10 cm,1 Stück\n",
      "\n",
      "Temperature: 1.0\n",
      "Luminex, LED-Deckenlampe, LX-2023, Edelstahl, Silbergrau, 50x10 cm, 1 Stück\n",
      "\n",
      "Temperature: 1.2\n",
      "Luminex,LED-Deckenlampe,LX-2023,Edelstahl,Silbergrau,50x10 cm,1 Stück\n",
      "\n",
      "Temperature: 1.4000000000000001\n",
      "Luminex, LED-Deckenlampe, LX-2023, Edelstahl, Silbergrau, Ø 50cm x H 10cm, 1 Stk.\n",
      "\n",
      "Temperature: 1.6\n",
      "Luminex, LED-Deckenlampe, LX-2023, Edelstahl, Silbergrau, 50 cm x 10 cm, 1 Stück\n",
      "\n",
      "Temperature: 1.8\n",
      "Luminex,LED-Deckenlampe,LX-2023,Edelstahl,Silbergrau,50x10cm,1 Stück\n",
      "\n",
      "Temperature: 2.0\n",
      "Luminex,LED-Deckenlampe,LX-2023,Edelstahl,Silbergrau,50x10cm,1 Stk\n",
      "\n"
     ]
    }
   ],
   "source": [
    "# Send prompt to OpenAI\n",
    "client = OpenAI(\n",
    "    api_key=os.environ.get(\"OPENAI_API_KEY\"),\n",
    ")\n",
    "\n",
    "for i in range(11):\n",
    "    temperature = ((i+1)/10 * 2) - 0.2\n",
    "    chat_completion = client.chat.completions.create(\n",
    "        messages=prompt,\n",
    "        model=\"gpt-4-1106-preview\",\n",
    "        temperature=temperature,\n",
    "        n=1,\n",
    "    )\n",
    "    print(f\"Temperature: {temperature}\")\n",
    "    print(chat_completion.choices[0].message.content)\n",
    "    print(\"\")\n",
    "\n",
    "\n",
    "\n"
   ]
  }
 ],
 "metadata": {
  "kernelspec": {
   "display_name": "env",
   "language": "python",
   "name": "python3"
  },
  "language_info": {
   "codemirror_mode": {
    "name": "ipython",
    "version": 3
   },
   "file_extension": ".py",
   "mimetype": "text/x-python",
   "name": "python",
   "nbconvert_exporter": "python",
   "pygments_lexer": "ipython3",
   "version": "3.12.0"
  }
 },
 "nbformat": 4,
 "nbformat_minor": 2
}
